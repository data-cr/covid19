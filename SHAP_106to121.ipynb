{
 "cells": [
  {
   "cell_type": "markdown",
   "metadata": {
    "colab_type": "text",
    "id": "view-in-github"
   },
   "source": [
    "<a href=\"https://colab.research.google.com/github/ehsan94/Deep-Learning/blob/master/Deutschland_COVID19_SHAP_0to75.ipynb\" target=\"_parent\"><img src=\"https://colab.research.google.com/assets/colab-badge.svg\" alt=\"Open In Colab\"/></a>"
   ]
  },
  {
   "cell_type": "markdown",
   "metadata": {},
   "source": [
    "# Total 106-121"
   ]
  },
  {
   "cell_type": "code",
   "execution_count": 1,
   "metadata": {
    "colab": {
     "base_uri": "https://localhost:8080/",
     "height": 445
    },
    "colab_type": "code",
    "collapsed": true,
    "id": "PKambPWYCJCm",
    "outputId": "dfee1b42-5d7d-4f4b-dbad-bd3aeffbac64"
   },
   "outputs": [
    {
     "name": "stdout",
     "output_type": "stream",
     "text": [
      "Requirement already satisfied: shap in c:\\users\\constantin\\anaconda3\\lib\\site-packages (0.36.0)\n",
      "Requirement already satisfied: pandas in c:\\users\\constantin\\anaconda3\\lib\\site-packages (from shap) (1.0.5)\n",
      "Requirement already satisfied: numba in c:\\users\\constantin\\anaconda3\\lib\\site-packages (from shap) (0.50.1)\n",
      "Requirement already satisfied: tqdm>4.25.0 in c:\\users\\constantin\\anaconda3\\lib\\site-packages (from shap) (4.47.0)\n",
      "Requirement already satisfied: scikit-learn in c:\\users\\constantin\\anaconda3\\lib\\site-packages (from shap) (0.23.1)\n",
      "Requirement already satisfied: numpy in c:\\users\\constantin\\anaconda3\\lib\\site-packages (from shap) (1.18.5)\n",
      "Requirement already satisfied: slicer in c:\\users\\constantin\\anaconda3\\lib\\site-packages (from shap) (0.0.4)\n",
      "Requirement already satisfied: scipy in c:\\users\\constantin\\anaconda3\\lib\\site-packages (from shap) (1.5.0)\n",
      "Requirement already satisfied: python-dateutil>=2.6.1 in c:\\users\\constantin\\anaconda3\\lib\\site-packages (from pandas->shap) (2.8.1)\n",
      "Requirement already satisfied: pytz>=2017.2 in c:\\users\\constantin\\anaconda3\\lib\\site-packages (from pandas->shap) (2020.1)\n",
      "Requirement already satisfied: llvmlite<0.34,>=0.33.0.dev0 in c:\\users\\constantin\\anaconda3\\lib\\site-packages (from numba->shap) (0.33.0+1.g022ab0f)\n",
      "Requirement already satisfied: setuptools in c:\\users\\constantin\\anaconda3\\lib\\site-packages (from numba->shap) (49.2.0.post20200714)\n",
      "Requirement already satisfied: threadpoolctl>=2.0.0 in c:\\users\\constantin\\anaconda3\\lib\\site-packages (from scikit-learn->shap) (2.1.0)\n",
      "Requirement already satisfied: joblib>=0.11 in c:\\users\\constantin\\anaconda3\\lib\\site-packages (from scikit-learn->shap) (0.16.0)\n",
      "Requirement already satisfied: six>=1.5 in c:\\users\\constantin\\anaconda3\\lib\\site-packages (from python-dateutil>=2.6.1->pandas->shap) (1.15.0)\n",
      "Note: you may need to restart the kernel to use updated packages.\n"
     ]
    }
   ],
   "source": [
    "%pip install shap\n",
    "%matplotlib inline"
   ]
  },
  {
   "cell_type": "code",
   "execution_count": 2,
   "metadata": {
    "colab": {},
    "colab_type": "code",
    "id": "n82x6ZiuEc6Y"
   },
   "outputs": [],
   "source": [
    "import pandas as pd\n",
    "import numpy as np\n",
    "from sklearn import preprocessing\n",
    "from sklearn.ensemble import RandomForestRegressor\n",
    "import matplotlib.pyplot as plt\n",
    "from matplotlib import rcParams\n",
    "import shap"
   ]
  },
  {
   "cell_type": "markdown",
   "metadata": {},
   "source": [
    "# Data"
   ]
  },
  {
   "cell_type": "code",
   "execution_count": 3,
   "metadata": {
    "colab": {
     "base_uri": "https://localhost:8080/",
     "height": 102
    },
    "colab_type": "code",
    "collapsed": true,
    "id": "bU8US8hcEfDF",
    "outputId": "4cfadb8a-123b-4a04-d7db-aa42f66e4d7d"
   },
   "outputs": [
    {
     "name": "stderr",
     "output_type": "stream",
     "text": [
      "\n",
      "One or more strings in the dta file could not be decoded using utf-8, and\n",
      "so the fallback encoding of latin-1 is being used.  This can happen when a file\n",
      "has been incorrectly encoded by Stata or some other software. You should verify\n",
      "the string values returned are correct.\n"
     ]
    }
   ],
   "source": [
    "df = pd.read_stata('W:\\COVID19\\std_inz106_121.dta')"
   ]
  },
  {
   "cell_type": "code",
   "execution_count": 4,
   "metadata": {
    "colab": {
     "base_uri": "https://localhost:8080/",
     "height": 253
    },
    "colab_type": "code",
    "id": "-dBMaPCtEq8f",
    "outputId": "46563a52-7093-42e7-d751-4b9fd933ba98"
   },
   "outputs": [
    {
     "data": {
      "text/html": [
       "<div>\n",
       "<style scoped>\n",
       "    .dataframe tbody tr th:only-of-type {\n",
       "        vertical-align: middle;\n",
       "    }\n",
       "\n",
       "    .dataframe tbody tr th {\n",
       "        vertical-align: top;\n",
       "    }\n",
       "\n",
       "    .dataframe thead th {\n",
       "        text-align: right;\n",
       "    }\n",
       "</style>\n",
       "<table border=\"1\" class=\"dataframe\">\n",
       "  <thead>\n",
       "    <tr style=\"text-align: right;\">\n",
       "      <th></th>\n",
       "      <th>D_v404</th>\n",
       "      <th>D_v405</th>\n",
       "      <th>D_v406</th>\n",
       "      <th>D_v423</th>\n",
       "      <th>D_v424</th>\n",
       "      <th>D_v425</th>\n",
       "      <th>D_v442</th>\n",
       "      <th>D_Abhaen</th>\n",
       "      <th>D_Auslae</th>\n",
       "      <th>D_v483</th>\n",
       "      <th>...</th>\n",
       "      <th>G_Pendler_Potsdam</th>\n",
       "      <th>G_latitude</th>\n",
       "      <th>G_longitude</th>\n",
       "      <th>G_distance_Ischgl</th>\n",
       "      <th>Flag100_Pendler_Coesfeld</th>\n",
       "      <th>Flag100_Pendler_Rosenheim</th>\n",
       "      <th>Flag100_Pendler_Goettingen</th>\n",
       "      <th>std_inz_91to106</th>\n",
       "      <th>std_inz_106to121</th>\n",
       "      <th>eastwest</th>\n",
       "    </tr>\n",
       "  </thead>\n",
       "  <tbody>\n",
       "    <tr>\n",
       "      <th>0</th>\n",
       "      <td>46.000000</td>\n",
       "      <td>12.4</td>\n",
       "      <td>-2.5</td>\n",
       "      <td>0.93</td>\n",
       "      <td>2.4</td>\n",
       "      <td>12.3</td>\n",
       "      <td>1.04</td>\n",
       "      <td>38.299999</td>\n",
       "      <td>9.1</td>\n",
       "      <td>3.2</td>\n",
       "      <td>...</td>\n",
       "      <td>0.0</td>\n",
       "      <td>50.549999</td>\n",
       "      <td>7.116667</td>\n",
       "      <td>457.259216</td>\n",
       "      <td>0.0</td>\n",
       "      <td>0.0</td>\n",
       "      <td>0.0</td>\n",
       "      <td>28.917685</td>\n",
       "      <td>9.130560</td>\n",
       "      <td>1.0</td>\n",
       "    </tr>\n",
       "    <tr>\n",
       "      <th>1</th>\n",
       "      <td>43.000000</td>\n",
       "      <td>16.0</td>\n",
       "      <td>-3.5</td>\n",
       "      <td>0.94</td>\n",
       "      <td>4.2</td>\n",
       "      <td>7.6</td>\n",
       "      <td>1.00</td>\n",
       "      <td>29.900000</td>\n",
       "      <td>8.0</td>\n",
       "      <td>2.9</td>\n",
       "      <td>...</td>\n",
       "      <td>0.0</td>\n",
       "      <td>48.466667</td>\n",
       "      <td>11.133333</td>\n",
       "      <td>173.721573</td>\n",
       "      <td>0.0</td>\n",
       "      <td>0.0</td>\n",
       "      <td>0.0</td>\n",
       "      <td>93.475174</td>\n",
       "      <td>26.149586</td>\n",
       "      <td>1.0</td>\n",
       "    </tr>\n",
       "    <tr>\n",
       "      <th>2</th>\n",
       "      <td>42.500000</td>\n",
       "      <td>14.9</td>\n",
       "      <td>-2.3</td>\n",
       "      <td>0.88</td>\n",
       "      <td>4.0</td>\n",
       "      <td>6.3</td>\n",
       "      <td>0.98</td>\n",
       "      <td>28.900000</td>\n",
       "      <td>12.6</td>\n",
       "      <td>4.0</td>\n",
       "      <td>...</td>\n",
       "      <td>0.0</td>\n",
       "      <td>48.400002</td>\n",
       "      <td>9.983334</td>\n",
       "      <td>156.045456</td>\n",
       "      <td>0.0</td>\n",
       "      <td>0.0</td>\n",
       "      <td>0.0</td>\n",
       "      <td>104.266823</td>\n",
       "      <td>50.689297</td>\n",
       "      <td>1.0</td>\n",
       "    </tr>\n",
       "    <tr>\n",
       "      <th>3</th>\n",
       "      <td>49.700001</td>\n",
       "      <td>-1.4</td>\n",
       "      <td>-7.5</td>\n",
       "      <td>0.88</td>\n",
       "      <td>-4.3</td>\n",
       "      <td>-13.3</td>\n",
       "      <td>1.04</td>\n",
       "      <td>50.799999</td>\n",
       "      <td>3.2</td>\n",
       "      <td>2.0</td>\n",
       "      <td>...</td>\n",
       "      <td>0.0</td>\n",
       "      <td>50.983334</td>\n",
       "      <td>12.433333</td>\n",
       "      <td>468.846863</td>\n",
       "      <td>0.0</td>\n",
       "      <td>0.0</td>\n",
       "      <td>0.0</td>\n",
       "      <td>15.950323</td>\n",
       "      <td>17.793818</td>\n",
       "      <td>0.0</td>\n",
       "    </tr>\n",
       "    <tr>\n",
       "      <th>4</th>\n",
       "      <td>44.700001</td>\n",
       "      <td>9.4</td>\n",
       "      <td>-1.5</td>\n",
       "      <td>0.93</td>\n",
       "      <td>-0.3</td>\n",
       "      <td>-7.4</td>\n",
       "      <td>1.02</td>\n",
       "      <td>34.099998</td>\n",
       "      <td>7.2</td>\n",
       "      <td>2.1</td>\n",
       "      <td>...</td>\n",
       "      <td>0.0</td>\n",
       "      <td>50.683334</td>\n",
       "      <td>7.650000</td>\n",
       "      <td>451.906799</td>\n",
       "      <td>0.0</td>\n",
       "      <td>0.0</td>\n",
       "      <td>0.0</td>\n",
       "      <td>45.772846</td>\n",
       "      <td>30.634008</td>\n",
       "      <td>1.0</td>\n",
       "    </tr>\n",
       "  </tbody>\n",
       "</table>\n",
       "<p>5 rows × 165 columns</p>\n",
       "</div>"
      ],
      "text/plain": [
       "      D_v404  D_v405  D_v406  D_v423  D_v424  D_v425  D_v442   D_Abhaen  \\\n",
       "0  46.000000    12.4    -2.5    0.93     2.4    12.3    1.04  38.299999   \n",
       "1  43.000000    16.0    -3.5    0.94     4.2     7.6    1.00  29.900000   \n",
       "2  42.500000    14.9    -2.3    0.88     4.0     6.3    0.98  28.900000   \n",
       "3  49.700001    -1.4    -7.5    0.88    -4.3   -13.3    1.04  50.799999   \n",
       "4  44.700001     9.4    -1.5    0.93    -0.3    -7.4    1.02  34.099998   \n",
       "\n",
       "   D_Auslae  D_v483  ...  G_Pendler_Potsdam  G_latitude  G_longitude  \\\n",
       "0       9.1     3.2  ...                0.0   50.549999     7.116667   \n",
       "1       8.0     2.9  ...                0.0   48.466667    11.133333   \n",
       "2      12.6     4.0  ...                0.0   48.400002     9.983334   \n",
       "3       3.2     2.0  ...                0.0   50.983334    12.433333   \n",
       "4       7.2     2.1  ...                0.0   50.683334     7.650000   \n",
       "\n",
       "   G_distance_Ischgl  Flag100_Pendler_Coesfeld  Flag100_Pendler_Rosenheim  \\\n",
       "0         457.259216                       0.0                        0.0   \n",
       "1         173.721573                       0.0                        0.0   \n",
       "2         156.045456                       0.0                        0.0   \n",
       "3         468.846863                       0.0                        0.0   \n",
       "4         451.906799                       0.0                        0.0   \n",
       "\n",
       "   Flag100_Pendler_Goettingen  std_inz_91to106  std_inz_106to121  eastwest  \n",
       "0                         0.0        28.917685          9.130560       1.0  \n",
       "1                         0.0        93.475174         26.149586       1.0  \n",
       "2                         0.0       104.266823         50.689297       1.0  \n",
       "3                         0.0        15.950323         17.793818       0.0  \n",
       "4                         0.0        45.772846         30.634008       1.0  \n",
       "\n",
       "[5 rows x 165 columns]"
      ]
     },
     "execution_count": 4,
     "metadata": {},
     "output_type": "execute_result"
    }
   ],
   "source": [
    "df.head()"
   ]
  },
  {
   "cell_type": "code",
   "execution_count": 5,
   "metadata": {
    "colab": {},
    "colab_type": "code",
    "id": "zz6U5PboEnnG",
    "scrolled": true
   },
   "outputs": [],
   "source": [
    "Y = df['std_inz_106to121']\n",
    "X = df.loc[:, ~df.columns.isin(['std_inz_106to121', 'eastwest'])]"
   ]
  },
  {
   "cell_type": "markdown",
   "metadata": {},
   "source": [
    "# RF model"
   ]
  },
  {
   "cell_type": "code",
   "execution_count": 6,
   "metadata": {
    "colab": {
     "base_uri": "https://localhost:8080/",
     "height": 136
    },
    "colab_type": "code",
    "id": "5xl5LcbBEz6y",
    "outputId": "aec3c8ab-4986-4563-b5cd-0fc06194204c"
   },
   "outputs": [
    {
     "data": {
      "text/plain": [
       "RandomForestRegressor(n_estimators=5000, random_state=0)"
      ]
     },
     "execution_count": 6,
     "metadata": {},
     "output_type": "execute_result"
    }
   ],
   "source": [
    "rf = RandomForestRegressor(bootstrap=True, ccp_alpha=0.0, criterion='mse',\n",
    "                      max_depth=None, max_features='auto', max_leaf_nodes=None,\n",
    "                      max_samples=None, min_impurity_decrease=0.0,\n",
    "                      min_impurity_split=None, min_samples_leaf=1,\n",
    "                      min_samples_split=2, min_weight_fraction_leaf=0.0,\n",
    "                      n_estimators=5000, n_jobs=None, oob_score=False,\n",
    "                      random_state=0, verbose=0, warm_start=False)\n",
    "rf.fit(X, Y)  "
   ]
  },
  {
   "cell_type": "markdown",
   "metadata": {},
   "source": [
    "# SHAP values"
   ]
  },
  {
   "cell_type": "code",
   "execution_count": 7,
   "metadata": {
    "colab": {
     "base_uri": "https://localhost:8080/",
     "height": 54
    },
    "colab_type": "code",
    "id": "eqEQYAnYFUst",
    "outputId": "23e40629-1d3e-450b-a437-cff2e4e5b7dc",
    "scrolled": true
   },
   "outputs": [],
   "source": [
    "#Kshap_values = shap.KernelExplainer(rf.predict, X).shap_values(X, nsamples=100)\n",
    "shap_values = shap.TreeExplainer(rf).shap_values(X)"
   ]
  },
  {
   "cell_type": "code",
   "execution_count": 8,
   "metadata": {
    "scrolled": false
   },
   "outputs": [
    {
     "data": {
      "image/png": "[encoded data removed]",
      "text/plain": [
       "<Figure size 576x396 with 2 Axes>"
      ]
     },
     "metadata": {
      "needs_background": "light"
     },
     "output_type": "display_data"
    }
   ],
   "source": [
    "#shap.summary_plot(Kshap_values, X,max_display=10) #KernelExplainer\n",
    "shap.summary_plot(shap_values, X,max_display=10)  #TreeExpliner"
   ]
  },
  {
   "cell_type": "code",
   "execution_count": 9,
   "metadata": {
    "scrolled": true
   },
   "outputs": [
    {
     "data": {
      "image/png": "[encoded data removed]",
      "text/plain": [
       "<Figure size 576x396 with 1 Axes>"
      ]
     },
     "metadata": {
      "needs_background": "light"
     },
     "output_type": "display_data"
    }
   ],
   "source": [
    "#shap.summary_plot(Kshap_values, X, plot_type=\"bar\",max_display=10)\n",
    "shap.summary_plot(shap_values, X, plot_type=\"bar\",max_display=10)"
   ]
  },
  {
   "cell_type": "code",
   "execution_count": null,
   "metadata": {},
   "outputs": [],
   "source": []
  }
 ],
 "metadata": {
  "colab": {
   "authorship_tag": "ABX9TyMWhnXKQzcfLiYCEg/+9SjG",
   "include_colab_link": true,
   "name": "Deutschland-COVID19-SHAP-0to75.ipynb",
   "provenance": []
  },
  "kernelspec": {
   "display_name": "Python 3",
   "language": "python",
   "name": "python3"
  },
  "language_info": {
   "codemirror_mode": {
    "name": "ipython",
    "version": 3
   },
   "file_extension": ".py",
   "mimetype": "text/x-python",
   "name": "python",
   "nbconvert_exporter": "python",
   "pygments_lexer": "ipython3",
   "version": "3.8.3"
  }
 },
 "nbformat": 4,
 "nbformat_minor": 1
}
