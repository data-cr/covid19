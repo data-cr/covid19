{
 "cells": [
  {
   "cell_type": "markdown",
   "metadata": {},
   "source": [
    "# Total 0-75"
   ]
  },
  {
   "cell_type": "code",
   "execution_count": 1,
   "metadata": {
    "colab": {},
    "colab_type": "code",
    "id": "n82x6ZiuEc6Y"
   },
   "outputs": [],
   "source": [
    "import pandas as pd\n",
    "import numpy as np\n",
    "from sklearn import preprocessing\n",
    "from sklearn.ensemble import RandomForestRegressor\n",
    "import matplotlib.pyplot as plt\n",
    "from matplotlib import rcParams\n",
    "import shap\n",
    "from sklearn.linear_model import LinearRegression\n",
    "from sklearn import metrics\n",
    "import seaborn as sns\n",
    "\n",
    "from catboost import Pool, CatBoostRegressor, cv \n",
    "from catboost.utils import eval_metric"
   ]
  },
  {
   "cell_type": "markdown",
   "metadata": {},
   "source": [
    "# Data"
   ]
  },
  {
   "cell_type": "code",
   "execution_count": 2,
   "metadata": {
    "colab": {
     "base_uri": "https://localhost:8080/",
     "height": 102
    },
    "colab_type": "code",
    "id": "bU8US8hcEfDF",
    "outputId": "4cfadb8a-123b-4a04-d7db-aa42f66e4d7d",
    "scrolled": false
   },
   "outputs": [
    {
     "name": "stderr",
     "output_type": "stream",
     "text": [
      "\n",
      "One or more strings in the dta file could not be decoded using utf-8, and\n",
      "so the fallback encoding of latin-1 is being used.  This can happen when a file\n",
      "has been incorrectly encoded by Stata or some other software. You should verify\n",
      "the string values returned are correct.\n"
     ]
    }
   ],
   "source": [
    "df = pd.read_stata('W:\\COVID19\\std_inz0_75.dta')"
   ]
  },
  {
   "cell_type": "code",
   "execution_count": 3,
   "metadata": {
    "colab": {},
    "colab_type": "code",
    "id": "zz6U5PboEnnG",
    "scrolled": false
   },
   "outputs": [
    {
     "name": "stdout",
     "output_type": "stream",
     "text": [
      "Number of features:  162\n"
     ]
    }
   ],
   "source": [
    "Y = df['std_inz_0to75']\n",
    "X = df.loc[:, ~df.columns.isin(['std_inz_0to75', 'eastwest'])]\n",
    "f_names = list(X.columns)\n",
    "print(\"Number of features: \", len(X.columns))"
   ]
  },
  {
   "cell_type": "markdown",
   "metadata": {},
   "source": [
    "# First CatBoost Model with 162 features"
   ]
  },
  {
   "cell_type": "code",
   "execution_count": 4,
   "metadata": {},
   "outputs": [
    {
     "name": "stdout",
     "output_type": "stream",
     "text": [
      "R2 of final model on all data:  0.9994066010320601\n"
     ]
    }
   ],
   "source": [
    "# initialize Pool\n",
    "train_pool = Pool(X,Y)\n",
    " \n",
    "\n",
    "# specify the training parameters \n",
    "model = CatBoostRegressor(random_seed=0, logging_level = 'Silent')\n",
    "#train the model\n",
    "cb = model.fit(train_pool)\n",
    "print(\"R2 of final model on all data: \",cb.score(X, Y))"
   ]
  },
  {
   "cell_type": "code",
   "execution_count": 5,
   "metadata": {},
   "outputs": [
    {
     "name": "stdout",
     "output_type": "stream",
     "text": [
      "RMSE of final model on all data:  0.35100227312855303\n"
     ]
    }
   ],
   "source": [
    "preds = cb.predict(train_pool,\n",
    "                    prediction_type=\"RawFormulaVal\"\n",
    "                  )\n",
    "\n",
    "print(\"RMSE of final model on all data: \", eval_metric(Y, preds, 'RMSE')[0])"
   ]
  },
  {
   "cell_type": "markdown",
   "metadata": {},
   "source": [
    "# SHAP VAlues"
   ]
  },
  {
   "cell_type": "code",
   "execution_count": 6,
   "metadata": {},
   "outputs": [],
   "source": [
    "shap_values_cb = shap.TreeExplainer(cb).shap_values(X)"
   ]
  },
  {
   "cell_type": "code",
   "execution_count": 7,
   "metadata": {},
   "outputs": [
    {
     "name": "stderr",
     "output_type": "stream",
     "text": [
      "invalid value encountered in true_divide\n",
      "invalid value encountered in true_divide\n"
     ]
    },
    {
     "data": {
      "image/png": "[encoded data removed]",
      "text/plain": [
       "<Figure size 360x432 with 1 Axes>"
      ]
     },
     "metadata": {
      "needs_background": "light"
     },
     "output_type": "display_data"
    }
   ],
   "source": [
    "def ABS_SHAP(df_shap,df):\n",
    "    # Make a copy of the input data\n",
    "    shap_v = pd.DataFrame(df_shap)\n",
    "    feature_list = df.columns\n",
    "    shap_v.columns = feature_list\n",
    "    df_v = df.copy().reset_index().drop('index',axis=1)\n",
    "    \n",
    "    # Determine the correlation in order to plot with different colors\n",
    "    corr_list = list()\n",
    "    for i in feature_list:\n",
    "        b = np.corrcoef(shap_v[i],df_v[i])[1][0]\n",
    "        corr_list.append(b)\n",
    "    corr_df = pd.concat([pd.Series(feature_list),pd.Series(corr_list)],axis=1).fillna(0)\n",
    "    # Make a data frame. Column 1 is the feature, and Column 2 is the correlation coefficient\n",
    "    corr_df.columns  = ['Variable','Corr']\n",
    "    corr_df['Sign'] = np.where(corr_df['Corr']>0,'red','blue')\n",
    "    \n",
    "    # Plot it\n",
    "    shap_abs = np.abs(shap_v)\n",
    "    k=pd.DataFrame(shap_abs.mean()).reset_index()\n",
    "    k.columns = ['Variable','SHAP_abs']\n",
    "    k2 = k.merge(corr_df,left_on = 'Variable',right_on='Variable',how='inner')\n",
    "    k2 = k2.sort_values(by='SHAP_abs',ascending = True)[-20::]\n",
    "    colorlist = k2['Sign']\n",
    "    ax = k2.plot.barh(x='Variable',y='SHAP_abs',color = colorlist, figsize=(5,6),legend=False)\n",
    "    ax.set_xlabel(\"SHAP Value (Red = Positive Impact)\")\n",
    "    \n",
    "ABS_SHAP(shap_values_cb,X) "
   ]
  },
  {
   "cell_type": "markdown",
   "metadata": {},
   "source": [
    "# Second CatBoost model with 20 most important features"
   ]
  },
  {
   "cell_type": "code",
   "execution_count": 8,
   "metadata": {
    "scrolled": true
   },
   "outputs": [],
   "source": [
    "top20feature = X.columns[np.argsort(np.abs(shap_values_cb).mean(0))][-20:][::-1]\n",
    "top10feature = X.columns[np.argsort(np.abs(shap_values_cb).mean(0))][-10:][::-1]"
   ]
  },
  {
   "cell_type": "code",
   "execution_count": 9,
   "metadata": {},
   "outputs": [
    {
     "name": "stdout",
     "output_type": "stream",
     "text": [
      "R2 of second model with top20 feature:  0.9967381108684165\n"
     ]
    }
   ],
   "source": [
    "# initialize Pool\n",
    "train_pool_20 = Pool(X[top20feature],Y)\n",
    " \n",
    "\n",
    "# specify the training parameters \n",
    "model = CatBoostRegressor(random_seed=0, logging_level = 'Silent')\n",
    "#train the model\n",
    "cb_20 = model.fit(train_pool_20)\n",
    "print(\"R2 of second model with top20 feature: \",cb_20.score(X[top20feature], Y))"
   ]
  },
  {
   "cell_type": "code",
   "execution_count": 10,
   "metadata": {},
   "outputs": [
    {
     "name": "stdout",
     "output_type": "stream",
     "text": [
      "RMSE of second model on top20 data:  0.8229456113526061\n"
     ]
    }
   ],
   "source": [
    "preds_20 = cb_20.predict(train_pool_20,\n",
    "                    prediction_type=\"RawFormulaVal\"\n",
    "                  )\n",
    "\n",
    "print(\"RMSE of second model on top20 data: \", eval_metric(Y, preds_20, 'RMSE')[0])"
   ]
  },
  {
   "cell_type": "markdown",
   "metadata": {},
   "source": [
    "# Compare top 10 features of both Models"
   ]
  },
  {
   "cell_type": "code",
   "execution_count": 11,
   "metadata": {
    "scrolled": false
   },
   "outputs": [
    {
     "name": "stdout",
     "output_type": "stream",
     "text": [
      "10 most important features from model with all features: \n",
      " ['G_longitude', 'UE_v219', 'PRE_Roemis', 'UE_v184', 'UE_ArbquoteJ', 'D_Lebens', 'SSE_v988', 'INC_v775', 'PRE_v733', 'D_v599'] \n",
      "\n",
      " 10 most important features from model with top20 features: \n",
      " ['G_longitude', 'PRE_v733', 'SSE_v988', 'PRE_Roemis', 'UE_v219', 'UE_ArbquoteJ', 'UE_QuoBescha', 'UE_v376', 'D_ldergeburten201', 'D_Lebens']\n"
     ]
    }
   ],
   "source": [
    "shap_values_cb_20 = shap.TreeExplainer(cb_20).shap_values(X[top20feature])\n",
    "\n",
    "top10feature_from_top_20 = X[top20feature].columns[np.argsort(np.abs(shap_values_cb_20).mean(0))][-10:][::-1]\n",
    "\n",
    "print(\"10 most important features from model with all features:\", \"\\n\", list(top10feature), \"\\n\\n\",\n",
    "     \"10 most important features from model with top20 features:\", \"\\n\", list(top10feature_from_top_20)) "
   ]
  },
  {
   "cell_type": "code",
   "execution_count": 12,
   "metadata": {
    "scrolled": true
   },
   "outputs": [
    {
     "name": "stdout",
     "output_type": "stream",
     "text": [
      "G_longitude\n",
      "UE_v219\n",
      "PRE_Roemis\n",
      "UE_ArbquoteJ\n",
      "D_Lebens\n",
      "SSE_v988\n",
      "PRE_v733\n"
     ]
    }
   ],
   "source": [
    "# features which are on top10 of both models:\n",
    "for i in top10feature :\n",
    "    if i in list(top10feature_from_top_20) :\n",
    "         print(i)"
   ]
  },
  {
   "cell_type": "markdown",
   "metadata": {},
   "source": [
    "# Hold out validation of the second model"
   ]
  },
  {
   "cell_type": "code",
   "execution_count": 13,
   "metadata": {
    "scrolled": true
   },
   "outputs": [
    {
     "name": "stdout",
     "output_type": "stream",
     "text": [
      "0.0 %   5.0 %   10.0 %   15.0 %   20.0 %   25.0 %   30.0 %   35.0 %   40.0 %   45.0 %   50.0 %   55.00000000000001 %   60.0 %   65.0 %   70.0 %   75.0 %   80.0 %   85.0 %   90.0 %   95.0 %   "
     ]
    }
   ],
   "source": [
    "import random\n",
    "iterations = range(0,20)\n",
    "\n",
    "r2_reg_k_test_top20 = list(range(0,20))\n",
    "rmse_reg_k_test_top20 = list(range(0,20))\n",
    "r2_cb_k_train_top20 = list(range(0,20))\n",
    "r2_cb_k_test_top20 = list(range(0,20))\n",
    "\n",
    "for i in iterations:\n",
    "    rs = random.sample(range(0,401), 80)\n",
    "    k_test_x = X[top20feature].iloc[rs]\n",
    "    k_test_y = Y.iloc[rs]\n",
    "    k_train_x = X[top20feature].drop(rs)\n",
    "    k_train_y = Y.drop(rs)\n",
    "    # initialize Pool \n",
    "    train_pool_k = Pool(data=k_train_x,\n",
    "                        label=k_train_y,\n",
    "                        feature_names = list(X[top20feature].columns))\n",
    "        \n",
    "    test_pool_k = Pool(data=k_test_x,\n",
    "                       label=k_test_y,\n",
    "                       feature_names = list(X[top20feature].columns))\n",
    "\n",
    "    \n",
    "    #fit the model\n",
    "    model = CatBoostRegressor(random_seed=0,\n",
    "                              logging_level=\"Silent\",\n",
    "                              #iterations = scores_k.sort_values(by= \"test-R2-mean\")[\"iterations\"].iloc[-1]\n",
    "                             )\n",
    "\n",
    "    cb_k = model.fit(train_pool_k)\n",
    "    \n",
    "    # make the prediction using the resulting model\n",
    "    preds_k = cb_k.predict(test_pool_k,\n",
    "                    prediction_type=\"RawFormulaVal\"\n",
    "                  )\n",
    "    \n",
    "    rmse_reg_k_test_top20[i] = eval_metric(np.array(k_test_y), preds_k, \"RMSE\")[0]\n",
    "    \n",
    "    preds_k = preds_k.reshape(-1, 1)\n",
    "    #LinearRegression\n",
    "    reg_k = LinearRegression().fit(preds_k, k_test_y)\n",
    "\n",
    "    \n",
    "    r2_cb_k_train_top20[i] = cb_k.score(train_pool_k)\n",
    "    r2_reg_k_test_top20[i] = reg_k.score(preds_k, k_test_y)\n",
    "\n",
    "    r2_cb_k_test_top20[i] =  cb_k.score(test_pool_k)\n",
    "    \n",
    "    print(i/len(iterations)*100,\"%\", \"  \" , end=\"\")"
   ]
  },
  {
   "cell_type": "code",
   "execution_count": 14,
   "metadata": {},
   "outputs": [
    {
     "name": "stdout",
     "output_type": "stream",
     "text": [
      "Mean R2 of CatBoost_models on train sets with top20 features: 0.9975457154105465\n",
      "Mean R2 of linReg_modesl with top20 features:  0.15130172640189396\n",
      "Mean RMSE of CatBoost_models on test sets with top20 features:  13.082082827482855\n",
      "Mean R2 of CatBoost_models on test sets with top20 features: -1.1420578108123303\n"
     ]
    }
   ],
   "source": [
    "print(\"Mean R2 of CatBoost_models on train sets with top20 features:\",sum(r2_cb_k_train_top20)/len(r2_cb_k_train_top20))\n",
    "print(\"Mean R2 of linReg_modesl with top20 features: \", sum(r2_reg_k_test_top20)/len(r2_reg_k_test_top20))\n",
    "print(\"Mean RMSE of CatBoost_models on test sets with top20 features: \", sum(rmse_reg_k_test_top20)/len(rmse_reg_k_test_top20))\n",
    "print(\"Mean R2 of CatBoost_models on test sets with top20 features:\",sum(r2_cb_k_test_top20)/len(r2_cb_k_test_top20))"
   ]
  },
  {
   "cell_type": "markdown",
   "metadata": {},
   "source": [
    "# descriptives of top20 features"
   ]
  },
  {
   "cell_type": "code",
   "execution_count": 15,
   "metadata": {},
   "outputs": [
    {
     "data": {
      "text/html": [
       "<div>\n",
       "<style scoped>\n",
       "    .dataframe tbody tr th:only-of-type {\n",
       "        vertical-align: middle;\n",
       "    }\n",
       "\n",
       "    .dataframe tbody tr th {\n",
       "        vertical-align: top;\n",
       "    }\n",
       "\n",
       "    .dataframe thead th {\n",
       "        text-align: right;\n",
       "    }\n",
       "</style>\n",
       "<table border=\"1\" class=\"dataframe\">\n",
       "  <thead>\n",
       "    <tr style=\"text-align: right;\">\n",
       "      <th></th>\n",
       "      <th>G_longitude</th>\n",
       "      <th>UE_v219</th>\n",
       "      <th>PRE_Roemis</th>\n",
       "      <th>UE_v184</th>\n",
       "      <th>UE_ArbquoteJ</th>\n",
       "      <th>D_Lebens</th>\n",
       "      <th>SSE_v988</th>\n",
       "      <th>INC_v775</th>\n",
       "      <th>PRE_v733</th>\n",
       "      <th>D_v599</th>\n",
       "      <th>D_ldergeburten201</th>\n",
       "      <th>UE_Langze</th>\n",
       "      <th>SSE_Anteilnat</th>\n",
       "      <th>UE_v220</th>\n",
       "      <th>UE_QuoBescha</th>\n",
       "      <th>HC_Empfaenge</th>\n",
       "      <th>IS_nAutobahnen2018</th>\n",
       "      <th>UE_v376</th>\n",
       "      <th>UE_v129</th>\n",
       "      <th>IS_Oberzentren2018</th>\n",
       "    </tr>\n",
       "  </thead>\n",
       "  <tbody>\n",
       "    <tr>\n",
       "      <th>count</th>\n",
       "      <td>401.000000</td>\n",
       "      <td>401.000000</td>\n",
       "      <td>401.000000</td>\n",
       "      <td>401.000000</td>\n",
       "      <td>401.000000</td>\n",
       "      <td>401.000000</td>\n",
       "      <td>401.000000</td>\n",
       "      <td>401.000000</td>\n",
       "      <td>401.000000</td>\n",
       "      <td>401.000000</td>\n",
       "      <td>401.000000</td>\n",
       "      <td>401.000000</td>\n",
       "      <td>401.000000</td>\n",
       "      <td>401.000000</td>\n",
       "      <td>401.000000</td>\n",
       "      <td>401.000000</td>\n",
       "      <td>401.000000</td>\n",
       "      <td>401.000000</td>\n",
       "      <td>401.000000</td>\n",
       "      <td>401.000000</td>\n",
       "    </tr>\n",
       "    <tr>\n",
       "      <th>mean</th>\n",
       "      <td>9.866996</td>\n",
       "      <td>12.901742</td>\n",
       "      <td>32.242809</td>\n",
       "      <td>2.814465</td>\n",
       "      <td>5.259102</td>\n",
       "      <td>80.655960</td>\n",
       "      <td>33367.324219</td>\n",
       "      <td>14.988533</td>\n",
       "      <td>13.063090</td>\n",
       "      <td>23.700602</td>\n",
       "      <td>16.510975</td>\n",
       "      <td>32.202751</td>\n",
       "      <td>5.101742</td>\n",
       "      <td>34.556618</td>\n",
       "      <td>52.529175</td>\n",
       "      <td>50.857368</td>\n",
       "      <td>11.857856</td>\n",
       "      <td>20.240156</td>\n",
       "      <td>5.669324</td>\n",
       "      <td>22.563591</td>\n",
       "    </tr>\n",
       "    <tr>\n",
       "      <th>std</th>\n",
       "      <td>2.026269</td>\n",
       "      <td>2.768405</td>\n",
       "      <td>24.361435</td>\n",
       "      <td>3.325890</td>\n",
       "      <td>2.706737</td>\n",
       "      <td>1.012629</td>\n",
       "      <td>30681.785156</td>\n",
       "      <td>4.460500</td>\n",
       "      <td>6.197584</td>\n",
       "      <td>0.656121</td>\n",
       "      <td>8.783781</td>\n",
       "      <td>8.077894</td>\n",
       "      <td>3.710643</td>\n",
       "      <td>13.284163</td>\n",
       "      <td>3.597842</td>\n",
       "      <td>6.518343</td>\n",
       "      <td>8.366137</td>\n",
       "      <td>4.537329</td>\n",
       "      <td>9.243236</td>\n",
       "      <td>16.033613</td>\n",
       "    </tr>\n",
       "    <tr>\n",
       "      <th>min</th>\n",
       "      <td>6.083333</td>\n",
       "      <td>6.100000</td>\n",
       "      <td>1.700000</td>\n",
       "      <td>-7.200000</td>\n",
       "      <td>1.400000</td>\n",
       "      <td>77.860001</td>\n",
       "      <td>1062.000000</td>\n",
       "      <td>1.000000</td>\n",
       "      <td>5.600000</td>\n",
       "      <td>22.020000</td>\n",
       "      <td>-9.600000</td>\n",
       "      <td>10.500000</td>\n",
       "      <td>0.900000</td>\n",
       "      <td>4.600000</td>\n",
       "      <td>40.400002</td>\n",
       "      <td>28.600000</td>\n",
       "      <td>0.000000</td>\n",
       "      <td>10.800000</td>\n",
       "      <td>-22.299999</td>\n",
       "      <td>0.000000</td>\n",
       "    </tr>\n",
       "    <tr>\n",
       "      <th>25%</th>\n",
       "      <td>8.216666</td>\n",
       "      <td>11.100000</td>\n",
       "      <td>7.900000</td>\n",
       "      <td>0.500000</td>\n",
       "      <td>2.900000</td>\n",
       "      <td>80.010002</td>\n",
       "      <td>15678.000000</td>\n",
       "      <td>12.600000</td>\n",
       "      <td>8.900000</td>\n",
       "      <td>23.270000</td>\n",
       "      <td>11.700000</td>\n",
       "      <td>25.600000</td>\n",
       "      <td>2.700000</td>\n",
       "      <td>26.100000</td>\n",
       "      <td>50.500000</td>\n",
       "      <td>46.400002</td>\n",
       "      <td>6.000000</td>\n",
       "      <td>17.000000</td>\n",
       "      <td>1.000000</td>\n",
       "      <td>13.000000</td>\n",
       "    </tr>\n",
       "    <tr>\n",
       "      <th>50%</th>\n",
       "      <td>9.766666</td>\n",
       "      <td>12.900000</td>\n",
       "      <td>29.100000</td>\n",
       "      <td>3.100000</td>\n",
       "      <td>4.900000</td>\n",
       "      <td>80.629997</td>\n",
       "      <td>24587.000000</td>\n",
       "      <td>15.000000</td>\n",
       "      <td>10.900000</td>\n",
       "      <td>23.680000</td>\n",
       "      <td>17.600000</td>\n",
       "      <td>32.700001</td>\n",
       "      <td>4.300000</td>\n",
       "      <td>32.000000</td>\n",
       "      <td>52.700001</td>\n",
       "      <td>51.099998</td>\n",
       "      <td>10.000000</td>\n",
       "      <td>19.299999</td>\n",
       "      <td>8.500000</td>\n",
       "      <td>23.000000</td>\n",
       "    </tr>\n",
       "    <tr>\n",
       "      <th>75%</th>\n",
       "      <td>11.416667</td>\n",
       "      <td>14.800000</td>\n",
       "      <td>52.299999</td>\n",
       "      <td>5.100000</td>\n",
       "      <td>6.600000</td>\n",
       "      <td>81.440002</td>\n",
       "      <td>39522.000000</td>\n",
       "      <td>17.700001</td>\n",
       "      <td>15.000000</td>\n",
       "      <td>24.180000</td>\n",
       "      <td>21.900000</td>\n",
       "      <td>38.500000</td>\n",
       "      <td>6.300000</td>\n",
       "      <td>41.400002</td>\n",
       "      <td>55.099998</td>\n",
       "      <td>55.599998</td>\n",
       "      <td>15.000000</td>\n",
       "      <td>22.400000</td>\n",
       "      <td>12.000000</td>\n",
       "      <td>32.000000</td>\n",
       "    </tr>\n",
       "    <tr>\n",
       "      <th>max</th>\n",
       "      <td>14.983334</td>\n",
       "      <td>21.900000</td>\n",
       "      <td>87.800003</td>\n",
       "      <td>12.400000</td>\n",
       "      <td>16.500000</td>\n",
       "      <td>83.599998</td>\n",
       "      <td>174293.000000</td>\n",
       "      <td>35.599998</td>\n",
       "      <td>42.900002</td>\n",
       "      <td>25.719999</td>\n",
       "      <td>45.500000</td>\n",
       "      <td>53.400002</td>\n",
       "      <td>34.000000</td>\n",
       "      <td>101.000000</td>\n",
       "      <td>60.799999</td>\n",
       "      <td>66.699997</td>\n",
       "      <td>53.000000</td>\n",
       "      <td>38.500000</td>\n",
       "      <td>26.600000</td>\n",
       "      <td>69.000000</td>\n",
       "    </tr>\n",
       "  </tbody>\n",
       "</table>\n",
       "</div>"
      ],
      "text/plain": [
       "       G_longitude     UE_v219  PRE_Roemis     UE_v184  UE_ArbquoteJ  \\\n",
       "count   401.000000  401.000000  401.000000  401.000000    401.000000   \n",
       "mean      9.866996   12.901742   32.242809    2.814465      5.259102   \n",
       "std       2.026269    2.768405   24.361435    3.325890      2.706737   \n",
       "min       6.083333    6.100000    1.700000   -7.200000      1.400000   \n",
       "25%       8.216666   11.100000    7.900000    0.500000      2.900000   \n",
       "50%       9.766666   12.900000   29.100000    3.100000      4.900000   \n",
       "75%      11.416667   14.800000   52.299999    5.100000      6.600000   \n",
       "max      14.983334   21.900000   87.800003   12.400000     16.500000   \n",
       "\n",
       "         D_Lebens       SSE_v988    INC_v775    PRE_v733      D_v599  \\\n",
       "count  401.000000     401.000000  401.000000  401.000000  401.000000   \n",
       "mean    80.655960   33367.324219   14.988533   13.063090   23.700602   \n",
       "std      1.012629   30681.785156    4.460500    6.197584    0.656121   \n",
       "min     77.860001    1062.000000    1.000000    5.600000   22.020000   \n",
       "25%     80.010002   15678.000000   12.600000    8.900000   23.270000   \n",
       "50%     80.629997   24587.000000   15.000000   10.900000   23.680000   \n",
       "75%     81.440002   39522.000000   17.700001   15.000000   24.180000   \n",
       "max     83.599998  174293.000000   35.599998   42.900002   25.719999   \n",
       "\n",
       "       D_ldergeburten201   UE_Langze  SSE_Anteilnat     UE_v220  UE_QuoBescha  \\\n",
       "count         401.000000  401.000000     401.000000  401.000000    401.000000   \n",
       "mean           16.510975   32.202751       5.101742   34.556618     52.529175   \n",
       "std             8.783781    8.077894       3.710643   13.284163      3.597842   \n",
       "min            -9.600000   10.500000       0.900000    4.600000     40.400002   \n",
       "25%            11.700000   25.600000       2.700000   26.100000     50.500000   \n",
       "50%            17.600000   32.700001       4.300000   32.000000     52.700001   \n",
       "75%            21.900000   38.500000       6.300000   41.400002     55.099998   \n",
       "max            45.500000   53.400002      34.000000  101.000000     60.799999   \n",
       "\n",
       "       HC_Empfaenge  IS_nAutobahnen2018     UE_v376     UE_v129  \\\n",
       "count    401.000000          401.000000  401.000000  401.000000   \n",
       "mean      50.857368           11.857856   20.240156    5.669324   \n",
       "std        6.518343            8.366137    4.537329    9.243236   \n",
       "min       28.600000            0.000000   10.800000  -22.299999   \n",
       "25%       46.400002            6.000000   17.000000    1.000000   \n",
       "50%       51.099998           10.000000   19.299999    8.500000   \n",
       "75%       55.599998           15.000000   22.400000   12.000000   \n",
       "max       66.699997           53.000000   38.500000   26.600000   \n",
       "\n",
       "       IS_Oberzentren2018  \n",
       "count          401.000000  \n",
       "mean            22.563591  \n",
       "std             16.033613  \n",
       "min              0.000000  \n",
       "25%             13.000000  \n",
       "50%             23.000000  \n",
       "75%             32.000000  \n",
       "max             69.000000  "
      ]
     },
     "execution_count": 15,
     "metadata": {},
     "output_type": "execute_result"
    }
   ],
   "source": [
    "X[top20feature].describe()"
   ]
  },
  {
   "cell_type": "code",
   "execution_count": 16,
   "metadata": {},
   "outputs": [
    {
     "data": {
      "text/html": [
       "<div>\n",
       "<style scoped>\n",
       "    .dataframe tbody tr th:only-of-type {\n",
       "        vertical-align: middle;\n",
       "    }\n",
       "\n",
       "    .dataframe tbody tr th {\n",
       "        vertical-align: top;\n",
       "    }\n",
       "\n",
       "    .dataframe thead th {\n",
       "        text-align: right;\n",
       "    }\n",
       "</style>\n",
       "<table border=\"1\" class=\"dataframe\">\n",
       "  <thead>\n",
       "    <tr style=\"text-align: right;\">\n",
       "      <th></th>\n",
       "      <th>std_inz_0to75</th>\n",
       "    </tr>\n",
       "  </thead>\n",
       "  <tbody>\n",
       "    <tr>\n",
       "      <th>count</th>\n",
       "      <td>401.000000</td>\n",
       "    </tr>\n",
       "    <tr>\n",
       "      <th>mean</th>\n",
       "      <td>7.706820</td>\n",
       "    </tr>\n",
       "    <tr>\n",
       "      <th>std</th>\n",
       "      <td>14.427098</td>\n",
       "    </tr>\n",
       "    <tr>\n",
       "      <th>min</th>\n",
       "      <td>0.000000</td>\n",
       "    </tr>\n",
       "    <tr>\n",
       "      <th>25%</th>\n",
       "      <td>2.452555</td>\n",
       "    </tr>\n",
       "    <tr>\n",
       "      <th>50%</th>\n",
       "      <td>5.019764</td>\n",
       "    </tr>\n",
       "    <tr>\n",
       "      <th>75%</th>\n",
       "      <td>9.171128</td>\n",
       "    </tr>\n",
       "    <tr>\n",
       "      <th>max</th>\n",
       "      <td>259.999207</td>\n",
       "    </tr>\n",
       "  </tbody>\n",
       "</table>\n",
       "</div>"
      ],
      "text/plain": [
       "       std_inz_0to75\n",
       "count     401.000000\n",
       "mean        7.706820\n",
       "std        14.427098\n",
       "min         0.000000\n",
       "25%         2.452555\n",
       "50%         5.019764\n",
       "75%         9.171128\n",
       "max       259.999207"
      ]
     },
     "execution_count": 16,
     "metadata": {},
     "output_type": "execute_result"
    }
   ],
   "source": [
    "pd.DataFrame(Y).describe()"
   ]
  },
  {
   "cell_type": "code",
   "execution_count": null,
   "metadata": {},
   "outputs": [],
   "source": []
  }
 ],
 "metadata": {
  "kernelspec": {
   "display_name": "Python 3",
   "language": "python",
   "name": "python3"
  },
  "language_info": {
   "codemirror_mode": {
    "name": "ipython",
    "version": 3
   },
   "file_extension": ".py",
   "mimetype": "text/x-python",
   "name": "python",
   "nbconvert_exporter": "python",
   "pygments_lexer": "ipython3",
   "version": "3.8.3"
  }
 },
 "nbformat": 4,
 "nbformat_minor": 4
}
