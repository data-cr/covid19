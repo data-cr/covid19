{
 "cells": [
  {
   "cell_type": "markdown",
   "metadata": {},
   "source": [
    "# Total 91-106"
   ]
  },
  {
   "cell_type": "code",
   "execution_count": 1,
   "metadata": {
    "colab": {},
    "colab_type": "code",
    "id": "n82x6ZiuEc6Y"
   },
   "outputs": [],
   "source": [
    "import pandas as pd\n",
    "import numpy as np\n",
    "from sklearn import preprocessing\n",
    "from sklearn.ensemble import RandomForestRegressor\n",
    "import matplotlib.pyplot as plt\n",
    "from matplotlib import rcParams\n",
    "import shap\n",
    "from sklearn.linear_model import LinearRegression\n",
    "from sklearn import metrics\n",
    "\n",
    "from catboost import Pool, CatBoostRegressor, cv\n",
    "from catboost.utils import eval_metric"
   ]
  },
  {
   "cell_type": "markdown",
   "metadata": {},
   "source": [
    "# Data"
   ]
  },
  {
   "cell_type": "code",
   "execution_count": 2,
   "metadata": {
    "colab": {
     "base_uri": "https://localhost:8080/",
     "height": 102
    },
    "colab_type": "code",
    "id": "bU8US8hcEfDF",
    "outputId": "4cfadb8a-123b-4a04-d7db-aa42f66e4d7d"
   },
   "outputs": [
    {
     "name": "stderr",
     "output_type": "stream",
     "text": [
      "\n",
      "One or more strings in the dta file could not be decoded using utf-8, and\n",
      "so the fallback encoding of latin-1 is being used.  This can happen when a file\n",
      "has been incorrectly encoded by Stata or some other software. You should verify\n",
      "the string values returned are correct.\n"
     ]
    }
   ],
   "source": [
    "df = pd.read_stata('W:\\COVID19\\std_inz91_106.dta')"
   ]
  },
  {
   "cell_type": "code",
   "execution_count": 3,
   "metadata": {
    "colab": {},
    "colab_type": "code",
    "id": "zz6U5PboEnnG",
    "scrolled": false
   },
   "outputs": [
    {
     "name": "stdout",
     "output_type": "stream",
     "text": [
      "Number of features:  163\n"
     ]
    }
   ],
   "source": [
    "Y = df['std_inz_91to106']\n",
    "X0 = df.loc[:, ~df.columns.isin(['std_inz_91to106', 'eastwest'])]\n",
    "print(\"Number of features: \", len(X0.columns))"
   ]
  },
  {
   "cell_type": "markdown",
   "metadata": {},
   "source": [
    "# Feature Correlation"
   ]
  },
  {
   "cell_type": "code",
   "execution_count": 4,
   "metadata": {},
   "outputs": [
    {
     "name": "stdout",
     "output_type": "stream",
     "text": [
      "{'SSE_v817', 'D_Abhaen', 'PO_Hausha', 'SSE_Waldflaec', 'UE_v342', 'UE_v323', 'INC_Schuldn', 'PRE_v733', 'PRE_v727', 'D_v599', 'IS_mitarbeitsweg30', 'IS_v1073', 'SSE_AnteilWas', 'PRE_v739', 'SSE_AnteilErh', 'IS_mitarbeitsweg15', 'SSE_grand_sd_', 'SSE_AnteilFre', 'UE_AntreBesc', 'INC_Bruttow', 'IS_v1070', 'UE_v231', 'UE_v381', 'UE_v324', 'G_latitude', 'SSE_Einwohner', 'UE_v341', 'SSE_Freiflaec', 'HC_Pflegehe', 'IS_v1071', 'HC_II_t', 'UE_ArbquoteJ', 'HC_Vorzeitig', 'UE_AnteBesch', 'SSE_Siedlungs', 'SSE_v967', 'UE_BesePrima', 'HC_aerztever', 'IS_endlersaldo2017', 'UE_Arbquote2', 'SSE_weighted_', 'PRE_v652', 'D_v424', 'SSE_Laendlich', 'IS_v1069', 'UE_v261', 'HC_I_t', 'IS_auspen'} \n",
      "\n",
      " 48 features droped\n"
     ]
    }
   ],
   "source": [
    "a=[\"G_latitude\",\"INC_Bruttow\",\"PRE_v652\",\"SSE_AnteilErh\",\"SSE_AnteilFre\",\"SSE_AnteilFre\",\"SSE_Freiflaec\",\"SSE_Freiflaec\",\"SSE_Laendlich\",\"SSE_Laendlich\",\"SSE_Siedlungs\",\"SSE_Siedlungs\",\"SSE_Siedlungs\",\"SSE_v817\",\"SSE_v817\",\"SSE_v817\",\"SSE_v817\",\"SSE_v817\",\"SSE_v967\",\"SSE_v967\",\"SSE_v967\",\"SSE_v967\",\"SSE_weighted_\",\"UE_AntreBesc\",\"UE_Arbquote2\",\"UE_Arbquote2\",\"UE_Arbquote2\",\"UE_ArbquoteJ\",\"UE_BesePrima\",\"UE_v323\",\"UE_v323\",\"UE_v324\",\"UE_v341\",\"HC_Vorzeitig\",\"D_v599\",\"UE_AnteBesch\",\"D_v424\",\"UE_v231\",\"D_Abhaen\",\"HC_I_t\",\"HC_II_t\",\"HC_I_t\",\"HC_Pflegehe\",\"IS_mitarbeitsweg30\",\"IS_mitarbeitsweg15\",\"IS_v1071\",\"IS_v1071\",\"IS_v1073\",\"PO_Hausha\",\"PRE_v739\",\"IS_v1069\",\"IS_v1071\",\"SSE_AnteilWas\",\"SSE_AnteilErh\",\"SSE_Siedlungs\",\"SSE_AnteilFre\",\"SSE_v817\",\"SSE_v967\",\"IS_v1070\",\"SSE_Waldflaec\",\"IS_v1071\",\"SSE_Freiflaec\",\"IS_v1069\",\"SSE_AnteilFre\",\"IS_v1071\",\"IS_v1069\",\"IS_v1071\",\"SSE_Siedlungs\",\"SSE_AnteilErh\",\"SSE_AnteilFre\",\"SSE_AnteilErh\",\"SSE_Siedlungs\",\"SSE_AnteilFre\",\"SSE_v817\",\"SSE_grand_sd_\",\"INC_Schuldn\",\"UE_ArbquoteJ\",\"IS_auspen\",\"IS_endlersaldo2017\",\"HC_aerztever\",\"SSE_AnteilErh\",\"SSE_Siedlungs\",\"SSE_AnteilFre\",\"SSE_Einwohner\",\"SSE_v817\",\"SSE_v967\",\"UE_v342\",\"PRE_v727\",\"PRE_v739\",\"PRE_v733\",\"UE_v381\",\"UE_v341\",\"UE_v323\",\"UE_v261\",\"UE_v381\",\"UE_v323\",\"UE_v341\",\"UE_v381\",\"UE_v341\",\"UE_v381\"]\n",
    "print(set(a),\"\\n\\n\",len(set(a)),\"features droped\")"
   ]
  },
  {
   "cell_type": "code",
   "execution_count": 5,
   "metadata": {},
   "outputs": [
    {
     "name": "stdout",
     "output_type": "stream",
     "text": [
      "New number of features:  115\n"
     ]
    }
   ],
   "source": [
    "X = X0.drop(columns=['D_v599', 'HC_Vorzeitig', 'UE_Arbquote2', 'HC_aerztever', 'IS_endlersaldo2017', 'UE_AntreBesc', 'SSE_Waldflaec', 'IS_auspen', 'SSE_Siedlungs', 'UE_AnteBesch', 'D_v424', 'UE_v323', 'UE_ArbquoteJ', 'UE_BesePrima', 'HC_Pflegehe', 'INC_Schuldn', 'HC_II_t', 'IS_mitarbeitsweg15', 'SSE_AnteilErh', 'HC_I_t', 'PRE_v727', 'G_latitude', 'UE_v324', 'SSE_grand_sd_', 'PRE_v733', 'IS_mitarbeitsweg30', 'SSE_Laendlich', 'SSE_AnteilFre', 'UE_v261', 'PO_Hausha', 'UE_v341', 'INC_Bruttow', 'SSE_Einwohner', 'SSE_Freiflaec', 'SSE_v817', 'IS_v1071', 'SSE_AnteilWas', 'PRE_v652', 'SSE_weighted_', 'UE_v381', 'SSE_v967', 'IS_v1069', 'PRE_v739', 'UE_v342', 'IS_v1073', 'D_Abhaen', 'IS_v1070', 'UE_v231'])\n",
    "print(\"New number of features: \", len(X.columns))"
   ]
  },
  {
   "cell_type": "markdown",
   "metadata": {},
   "source": [
    "# First CatBoost Model with 162 features"
   ]
  },
  {
   "cell_type": "code",
   "execution_count": 6,
   "metadata": {},
   "outputs": [
    {
     "name": "stdout",
     "output_type": "stream",
     "text": [
      "R2 of final model on all data:  0.9992124085663007\n"
     ]
    }
   ],
   "source": [
    "# initialize Pool\n",
    "train_pool = Pool(X,Y)\n",
    " \n",
    "\n",
    "# specify the training parameters \n",
    "model = CatBoostRegressor(random_seed=0, logging_level = 'Silent')\n",
    "#train the model\n",
    "cb = model.fit(train_pool)\n",
    "print(\"R2 of final model on all data: \",cb.score(X, Y))"
   ]
  },
  {
   "cell_type": "code",
   "execution_count": 7,
   "metadata": {},
   "outputs": [
    {
     "name": "stdout",
     "output_type": "stream",
     "text": [
      "RMSE of final model on all data:  2.0372707459222488\n"
     ]
    }
   ],
   "source": [
    "preds = cb.predict(train_pool,\n",
    "                    prediction_type=\"RawFormulaVal\"\n",
    "                  )\n",
    "\n",
    "print(\"RMSE of final model on all data: \", eval_metric(Y, preds, 'RMSE')[0])"
   ]
  },
  {
   "cell_type": "markdown",
   "metadata": {},
   "source": [
    "# SHAP VAlues"
   ]
  },
  {
   "cell_type": "code",
   "execution_count": 8,
   "metadata": {},
   "outputs": [],
   "source": [
    "shap_values_cb = shap.TreeExplainer(cb).shap_values(X)"
   ]
  },
  {
   "cell_type": "code",
   "execution_count": 9,
   "metadata": {},
   "outputs": [
    {
     "name": "stderr",
     "output_type": "stream",
     "text": [
      "invalid value encountered in true_divide\n",
      "invalid value encountered in true_divide\n"
     ]
    },
    {
     "data": {
      "image/png": "[encoded data removed]",
      "text/plain": [
       "<Figure size 360x432 with 1 Axes>"
      ]
     },
     "metadata": {
      "needs_background": "light"
     },
     "output_type": "display_data"
    }
   ],
   "source": [
    "def ABS_SHAP(df_shap,df):\n",
    "    # Make a copy of the input data\n",
    "    shap_v = pd.DataFrame(df_shap)\n",
    "    feature_list = df.columns\n",
    "    shap_v.columns = feature_list\n",
    "    df_v = df.copy().reset_index().drop('index',axis=1)\n",
    "    \n",
    "    # Determine the correlation in order to plot with different colors\n",
    "    corr_list = list()\n",
    "    for i in feature_list:\n",
    "        b = np.corrcoef(shap_v[i],df_v[i])[1][0]\n",
    "        corr_list.append(b)\n",
    "    corr_df = pd.concat([pd.Series(feature_list),pd.Series(corr_list)],axis=1).fillna(0)\n",
    "    # Make a data frame. Column 1 is the feature, and Column 2 is the correlation coefficient\n",
    "    corr_df.columns  = ['Variable','Corr']\n",
    "    corr_df['Sign'] = np.where(corr_df['Corr']>0,'red','blue')\n",
    "    \n",
    "    # Plot it\n",
    "    shap_abs = np.abs(shap_v)\n",
    "    k=pd.DataFrame(shap_abs.mean()).reset_index()\n",
    "    k.columns = ['Variable','SHAP_abs']\n",
    "    k2 = k.merge(corr_df,left_on = 'Variable',right_on='Variable',how='inner')\n",
    "    k2 = k2.sort_values(by='SHAP_abs',ascending = True)[-20::]\n",
    "    colorlist = k2['Sign']\n",
    "    ax = k2.plot.barh(x='Variable',y='SHAP_abs',color = colorlist, figsize=(5,6),legend=False)\n",
    "    ax.set_xlabel(\"SHAP Value (Red = Positive Impact)\")\n",
    "    \n",
    "ABS_SHAP(shap_values_cb,X) "
   ]
  },
  {
   "cell_type": "markdown",
   "metadata": {},
   "source": [
    "# Second CatBoost model with 20 most important features"
   ]
  },
  {
   "cell_type": "code",
   "execution_count": 10,
   "metadata": {
    "scrolled": true
   },
   "outputs": [],
   "source": [
    "top20feature = X.columns[np.argsort(np.abs(shap_values_cb).mean(0))][-20:][::-1]\n",
    "top10feature = X.columns[np.argsort(np.abs(shap_values_cb).mean(0))][-10:][::-1]"
   ]
  },
  {
   "cell_type": "code",
   "execution_count": 11,
   "metadata": {},
   "outputs": [
    {
     "name": "stdout",
     "output_type": "stream",
     "text": [
      "R2 of second model with top20 feature:  0.9966987321120931\n"
     ]
    }
   ],
   "source": [
    "# initialize Pool\n",
    "train_pool_20 = Pool(X[top20feature],Y)\n",
    " \n",
    "\n",
    "# specify the training parameters \n",
    "model = CatBoostRegressor(random_seed=0, logging_level = 'Silent')\n",
    "#train the model\n",
    "cb_20 = model.fit(train_pool_20)\n",
    "print(\"R2 of second model with top20 feature: \",cb_20.score(X[top20feature], Y))"
   ]
  },
  {
   "cell_type": "code",
   "execution_count": 12,
   "metadata": {},
   "outputs": [
    {
     "name": "stdout",
     "output_type": "stream",
     "text": [
      "RMSE of second model on top20 data:  4.170985122851008\n"
     ]
    }
   ],
   "source": [
    "preds_20 = cb_20.predict(train_pool_20,\n",
    "                    prediction_type=\"RawFormulaVal\"\n",
    "                  )\n",
    "\n",
    "print(\"RMSE of second model on top20 data: \", eval_metric(Y, preds_20, 'RMSE')[0])"
   ]
  },
  {
   "cell_type": "markdown",
   "metadata": {},
   "source": [
    "# Compare top 10 features of both Models"
   ]
  },
  {
   "cell_type": "code",
   "execution_count": 13,
   "metadata": {
    "scrolled": false
   },
   "outputs": [
    {
     "name": "stdout",
     "output_type": "stream",
     "text": [
      "10 most important features from model with all features: \n",
      " ['std_inz_75to91', 'G_distance_Ischgl', 'G_longitude', 'SSE_Erholungs', 'IS_v1065', 'PRE_v675', 'HC_Stationae', 'HC_Pflegebed', 'PRE_Roemis', 'UE_QuoeBesch'] \n",
      "\n",
      " 10 most important features from model with top20 features: \n",
      " ['std_inz_75to91', 'G_distance_Ischgl', 'G_longitude', 'PRE_v675', 'SSE_Erholungs', 'PRE_Roemis', 'IS_v1065', 'HC_Stationae', 'UE_QuoeBesch', 'UE_v359']\n"
     ]
    }
   ],
   "source": [
    "shap_values_cb_20 = shap.TreeExplainer(cb_20).shap_values(X[top20feature])\n",
    "\n",
    "top10feature_from_top_20 = X[top20feature].columns[np.argsort(np.abs(shap_values_cb_20).mean(0))][-10:][::-1]\n",
    "\n",
    "print(\"10 most important features from model with all features:\", \"\\n\", list(top10feature), \"\\n\\n\",\n",
    "     \"10 most important features from model with top20 features:\", \"\\n\", list(top10feature_from_top_20)) "
   ]
  },
  {
   "cell_type": "code",
   "execution_count": 14,
   "metadata": {
    "scrolled": true
   },
   "outputs": [
    {
     "name": "stdout",
     "output_type": "stream",
     "text": [
      "std_inz_75to91\n",
      "G_distance_Ischgl\n",
      "G_longitude\n",
      "SSE_Erholungs\n",
      "IS_v1065\n",
      "PRE_v675\n",
      "HC_Stationae\n",
      "PRE_Roemis\n",
      "UE_QuoeBesch\n"
     ]
    }
   ],
   "source": [
    "# features which are on top10 of both models:\n",
    "for i in top10feature :\n",
    "    if i in list(top10feature_from_top_20) :\n",
    "         print(i)"
   ]
  },
  {
   "cell_type": "code",
   "execution_count": 15,
   "metadata": {},
   "outputs": [
    {
     "data": {
      "image/png": "[encoded data removed]",
      "text/plain": [
       "<Figure size 360x432 with 1 Axes>"
      ]
     },
     "metadata": {
      "needs_background": "light"
     },
     "output_type": "display_data"
    }
   ],
   "source": [
    "ABS_SHAP(shap_values_cb_20,X[top20feature]) "
   ]
  },
  {
   "cell_type": "markdown",
   "metadata": {},
   "source": [
    "# Hold out validation of the second model"
   ]
  },
  {
   "cell_type": "code",
   "execution_count": 16,
   "metadata": {
    "scrolled": true
   },
   "outputs": [
    {
     "name": "stdout",
     "output_type": "stream",
     "text": [
      "0.0 %   5.0 %   10.0 %   15.0 %   20.0 %   25.0 %   30.0 %   35.0 %   40.0 %   45.0 %   50.0 %   55.00000000000001 %   60.0 %   65.0 %   70.0 %   75.0 %   80.0 %   85.0 %   90.0 %   95.0 %   "
     ]
    }
   ],
   "source": [
    "import random\n",
    "iterations = range(0,20)\n",
    "\n",
    "r2_reg_k_test_top20 = list(range(0,20))\n",
    "rmse_reg_k_test_top20 = list(range(0,20))\n",
    "r2_cb_k_train_top20 = list(range(0,20))\n",
    "r2_cb_k_test_top20 = list(range(0,20))\n",
    "\n",
    "for i in iterations:\n",
    "    rs = random.sample(range(0,401), 80)\n",
    "    k_test_x = X[top20feature].iloc[rs]\n",
    "    k_test_y = Y.iloc[rs]\n",
    "    k_train_x = X[top20feature].drop(rs)\n",
    "    k_train_y = Y.drop(rs)\n",
    "    # initialize Pool \n",
    "    train_pool_k = Pool(data=k_train_x,\n",
    "                        label=k_train_y,\n",
    "                        feature_names = list(X[top20feature].columns))\n",
    "        \n",
    "    test_pool_k = Pool(data=k_test_x,\n",
    "                       label=k_test_y,\n",
    "                       feature_names = list(X[top20feature].columns))\n",
    "\n",
    "    \n",
    "    #fit the model\n",
    "    model = CatBoostRegressor(random_seed=0,\n",
    "                              logging_level=\"Silent\",\n",
    "                              #iterations = scores_k.sort_values(by= \"test-R2-mean\")[\"iterations\"].iloc[-1]\n",
    "                             )\n",
    "\n",
    "    cb_k = model.fit(train_pool_k)\n",
    "    \n",
    "    # make the prediction using the resulting model\n",
    "    preds_k = cb_k.predict(test_pool_k,\n",
    "                    prediction_type=\"RawFormulaVal\"\n",
    "                  )\n",
    "    \n",
    "    rmse_reg_k_test_top20[i] = eval_metric(np.array(k_test_y), preds_k, \"RMSE\")[0]\n",
    "    \n",
    "    preds_k = preds_k.reshape(-1, 1)\n",
    "    #LinearRegression\n",
    "    reg_k = LinearRegression().fit(preds_k, k_test_y)\n",
    "\n",
    "    \n",
    "    r2_cb_k_train_top20[i] = cb_k.score(train_pool_k)\n",
    "    r2_reg_k_test_top20[i] = reg_k.score(preds_k, k_test_y)\n",
    "\n",
    "    r2_cb_k_test_top20[i] =  cb_k.score(test_pool_k)\n",
    "    \n",
    "    print(i/len(iterations)*100,\"%\", \"  \" , end=\"\")"
   ]
  },
  {
   "cell_type": "code",
   "execution_count": 17,
   "metadata": {},
   "outputs": [
    {
     "name": "stdout",
     "output_type": "stream",
     "text": [
      "Mean R2 of CatBoost_models on train sets with top20 features: 0.9978518535001626\n",
      "Mean R2 of linReg_modesl with top20 features:  0.699733909230385\n",
      "Mean RMSE of CatBoost_models on test sets with top20 features:  40.17230682914549\n",
      "Mean R2 of CatBoost_models on test sets with top20 features: 0.6664342379871814\n"
     ]
    }
   ],
   "source": [
    "print(\"Mean R2 of CatBoost_models on train sets with top20 features:\",sum(r2_cb_k_train_top20)/len(r2_cb_k_train_top20))\n",
    "print(\"Mean R2 of linReg_modesl with top20 features: \", sum(r2_reg_k_test_top20)/len(r2_reg_k_test_top20))\n",
    "print(\"Mean RMSE of CatBoost_models on test sets with top20 features: \", sum(rmse_reg_k_test_top20)/len(rmse_reg_k_test_top20))\n",
    "print(\"Mean R2 of CatBoost_models on test sets with top20 features:\",sum(r2_cb_k_test_top20)/len(r2_cb_k_test_top20))"
   ]
  },
  {
   "cell_type": "markdown",
   "metadata": {},
   "source": [
    "# descriptives of top20 features"
   ]
  },
  {
   "cell_type": "code",
   "execution_count": 18,
   "metadata": {},
   "outputs": [
    {
     "data": {
      "text/html": [
       "<div>\n",
       "<style scoped>\n",
       "    .dataframe tbody tr th:only-of-type {\n",
       "        vertical-align: middle;\n",
       "    }\n",
       "\n",
       "    .dataframe tbody tr th {\n",
       "        vertical-align: top;\n",
       "    }\n",
       "\n",
       "    .dataframe thead th {\n",
       "        text-align: right;\n",
       "    }\n",
       "</style>\n",
       "<table border=\"1\" class=\"dataframe\">\n",
       "  <thead>\n",
       "    <tr style=\"text-align: right;\">\n",
       "      <th></th>\n",
       "      <th>std_inz_75to91</th>\n",
       "      <th>G_distance_Ischgl</th>\n",
       "      <th>G_longitude</th>\n",
       "      <th>SSE_Erholungs</th>\n",
       "      <th>IS_v1065</th>\n",
       "      <th>PRE_v675</th>\n",
       "      <th>HC_Stationae</th>\n",
       "      <th>HC_Pflegebed</th>\n",
       "      <th>PRE_Roemis</th>\n",
       "      <th>UE_QuoeBesch</th>\n",
       "      <th>IS_weg150kmundmehr</th>\n",
       "      <th>HC_Empfaenge</th>\n",
       "      <th>UE_v359</th>\n",
       "      <th>D_Aussen</th>\n",
       "      <th>IS_weg50kmundmehr2</th>\n",
       "      <th>UE_AntreArbe</th>\n",
       "      <th>IS_einpen</th>\n",
       "      <th>D_ldergeburten201</th>\n",
       "      <th>UE_Langze</th>\n",
       "      <th>UE_v306</th>\n",
       "    </tr>\n",
       "  </thead>\n",
       "  <tbody>\n",
       "    <tr>\n",
       "      <th>count</th>\n",
       "      <td>401.000000</td>\n",
       "      <td>401.000000</td>\n",
       "      <td>401.000000</td>\n",
       "      <td>401.000000</td>\n",
       "      <td>401.000000</td>\n",
       "      <td>401.000000</td>\n",
       "      <td>401.000000</td>\n",
       "      <td>401.000000</td>\n",
       "      <td>401.000000</td>\n",
       "      <td>401.000000</td>\n",
       "      <td>401.000000</td>\n",
       "      <td>401.000000</td>\n",
       "      <td>401.000000</td>\n",
       "      <td>401.000000</td>\n",
       "      <td>401.000000</td>\n",
       "      <td>401.000000</td>\n",
       "      <td>401.000000</td>\n",
       "      <td>401.000000</td>\n",
       "      <td>401.000000</td>\n",
       "      <td>401.000000</td>\n",
       "    </tr>\n",
       "    <tr>\n",
       "      <th>mean</th>\n",
       "      <td>79.461769</td>\n",
       "      <td>431.346405</td>\n",
       "      <td>9.866996</td>\n",
       "      <td>70.509460</td>\n",
       "      <td>21.925186</td>\n",
       "      <td>16.566586</td>\n",
       "      <td>24.358610</td>\n",
       "      <td>428.125397</td>\n",
       "      <td>32.242809</td>\n",
       "      <td>49.557602</td>\n",
       "      <td>4.412467</td>\n",
       "      <td>50.857368</td>\n",
       "      <td>68.926407</td>\n",
       "      <td>4.806734</td>\n",
       "      <td>11.484290</td>\n",
       "      <td>9.834411</td>\n",
       "      <td>64.508957</td>\n",
       "      <td>16.510975</td>\n",
       "      <td>32.202751</td>\n",
       "      <td>-6.157606</td>\n",
       "    </tr>\n",
       "    <tr>\n",
       "      <th>std</th>\n",
       "      <td>64.122574</td>\n",
       "      <td>187.236847</td>\n",
       "      <td>2.026269</td>\n",
       "      <td>56.734707</td>\n",
       "      <td>15.378859</td>\n",
       "      <td>5.035090</td>\n",
       "      <td>5.373881</td>\n",
       "      <td>106.029327</td>\n",
       "      <td>24.361435</td>\n",
       "      <td>5.944390</td>\n",
       "      <td>1.354011</td>\n",
       "      <td>6.518343</td>\n",
       "      <td>11.196052</td>\n",
       "      <td>6.630641</td>\n",
       "      <td>3.481254</td>\n",
       "      <td>2.016845</td>\n",
       "      <td>10.002245</td>\n",
       "      <td>8.783781</td>\n",
       "      <td>8.077894</td>\n",
       "      <td>22.530605</td>\n",
       "    </tr>\n",
       "    <tr>\n",
       "      <th>min</th>\n",
       "      <td>2.714423</td>\n",
       "      <td>56.052784</td>\n",
       "      <td>6.083333</td>\n",
       "      <td>14.000000</td>\n",
       "      <td>0.000000</td>\n",
       "      <td>6.900000</td>\n",
       "      <td>11.100000</td>\n",
       "      <td>186.399994</td>\n",
       "      <td>1.700000</td>\n",
       "      <td>29.600000</td>\n",
       "      <td>2.000000</td>\n",
       "      <td>28.600000</td>\n",
       "      <td>27.500000</td>\n",
       "      <td>-13.900000</td>\n",
       "      <td>4.900000</td>\n",
       "      <td>3.000000</td>\n",
       "      <td>21.700001</td>\n",
       "      <td>-9.600000</td>\n",
       "      <td>10.500000</td>\n",
       "      <td>-69.900002</td>\n",
       "    </tr>\n",
       "    <tr>\n",
       "      <th>25%</th>\n",
       "      <td>40.307571</td>\n",
       "      <td>291.752441</td>\n",
       "      <td>8.216666</td>\n",
       "      <td>39.700001</td>\n",
       "      <td>13.000000</td>\n",
       "      <td>13.000000</td>\n",
       "      <td>20.400000</td>\n",
       "      <td>351.000000</td>\n",
       "      <td>7.900000</td>\n",
       "      <td>45.700001</td>\n",
       "      <td>3.500000</td>\n",
       "      <td>46.400002</td>\n",
       "      <td>62.099998</td>\n",
       "      <td>1.500000</td>\n",
       "      <td>9.000000</td>\n",
       "      <td>8.600000</td>\n",
       "      <td>58.799999</td>\n",
       "      <td>11.700000</td>\n",
       "      <td>25.600000</td>\n",
       "      <td>-14.200000</td>\n",
       "    </tr>\n",
       "    <tr>\n",
       "      <th>50%</th>\n",
       "      <td>63.813667</td>\n",
       "      <td>420.680756</td>\n",
       "      <td>9.766666</td>\n",
       "      <td>52.799999</td>\n",
       "      <td>21.000000</td>\n",
       "      <td>16.100000</td>\n",
       "      <td>23.700001</td>\n",
       "      <td>424.200012</td>\n",
       "      <td>29.100000</td>\n",
       "      <td>49.900002</td>\n",
       "      <td>4.000000</td>\n",
       "      <td>51.099998</td>\n",
       "      <td>70.000000</td>\n",
       "      <td>3.700000</td>\n",
       "      <td>10.800000</td>\n",
       "      <td>10.200000</td>\n",
       "      <td>66.000000</td>\n",
       "      <td>17.600000</td>\n",
       "      <td>32.700001</td>\n",
       "      <td>-7.700000</td>\n",
       "    </tr>\n",
       "    <tr>\n",
       "      <th>75%</th>\n",
       "      <td>99.633545</td>\n",
       "      <td>569.178772</td>\n",
       "      <td>11.416667</td>\n",
       "      <td>76.699997</td>\n",
       "      <td>32.000000</td>\n",
       "      <td>19.700001</td>\n",
       "      <td>27.500000</td>\n",
       "      <td>497.200012</td>\n",
       "      <td>52.299999</td>\n",
       "      <td>53.599998</td>\n",
       "      <td>5.200000</td>\n",
       "      <td>55.599998</td>\n",
       "      <td>76.699997</td>\n",
       "      <td>6.000000</td>\n",
       "      <td>13.300000</td>\n",
       "      <td>11.200000</td>\n",
       "      <td>71.300003</td>\n",
       "      <td>21.900000</td>\n",
       "      <td>38.500000</td>\n",
       "      <td>-0.800000</td>\n",
       "    </tr>\n",
       "    <tr>\n",
       "      <th>max</th>\n",
       "      <td>671.134949</td>\n",
       "      <td>866.911194</td>\n",
       "      <td>14.983334</td>\n",
       "      <td>384.600006</td>\n",
       "      <td>79.000000</td>\n",
       "      <td>38.000000</td>\n",
       "      <td>43.299999</td>\n",
       "      <td>816.200012</td>\n",
       "      <td>87.800003</td>\n",
       "      <td>66.400002</td>\n",
       "      <td>9.100000</td>\n",
       "      <td>66.699997</td>\n",
       "      <td>95.099998</td>\n",
       "      <td>65.900002</td>\n",
       "      <td>24.200001</td>\n",
       "      <td>14.800000</td>\n",
       "      <td>90.400002</td>\n",
       "      <td>45.500000</td>\n",
       "      <td>53.400002</td>\n",
       "      <td>329.000000</td>\n",
       "    </tr>\n",
       "  </tbody>\n",
       "</table>\n",
       "</div>"
      ],
      "text/plain": [
       "       std_inz_75to91  G_distance_Ischgl  G_longitude  SSE_Erholungs  \\\n",
       "count      401.000000         401.000000   401.000000     401.000000   \n",
       "mean        79.461769         431.346405     9.866996      70.509460   \n",
       "std         64.122574         187.236847     2.026269      56.734707   \n",
       "min          2.714423          56.052784     6.083333      14.000000   \n",
       "25%         40.307571         291.752441     8.216666      39.700001   \n",
       "50%         63.813667         420.680756     9.766666      52.799999   \n",
       "75%         99.633545         569.178772    11.416667      76.699997   \n",
       "max        671.134949         866.911194    14.983334     384.600006   \n",
       "\n",
       "         IS_v1065    PRE_v675  HC_Stationae  HC_Pflegebed  PRE_Roemis  \\\n",
       "count  401.000000  401.000000    401.000000    401.000000  401.000000   \n",
       "mean    21.925186   16.566586     24.358610    428.125397   32.242809   \n",
       "std     15.378859    5.035090      5.373881    106.029327   24.361435   \n",
       "min      0.000000    6.900000     11.100000    186.399994    1.700000   \n",
       "25%     13.000000   13.000000     20.400000    351.000000    7.900000   \n",
       "50%     21.000000   16.100000     23.700001    424.200012   29.100000   \n",
       "75%     32.000000   19.700001     27.500000    497.200012   52.299999   \n",
       "max     79.000000   38.000000     43.299999    816.200012   87.800003   \n",
       "\n",
       "       UE_QuoeBesch  IS_weg150kmundmehr  HC_Empfaenge     UE_v359    D_Aussen  \\\n",
       "count    401.000000          401.000000    401.000000  401.000000  401.000000   \n",
       "mean      49.557602            4.412467     50.857368   68.926407    4.806734   \n",
       "std        5.944390            1.354011      6.518343   11.196052    6.630641   \n",
       "min       29.600000            2.000000     28.600000   27.500000  -13.900000   \n",
       "25%       45.700001            3.500000     46.400002   62.099998    1.500000   \n",
       "50%       49.900002            4.000000     51.099998   70.000000    3.700000   \n",
       "75%       53.599998            5.200000     55.599998   76.699997    6.000000   \n",
       "max       66.400002            9.100000     66.699997   95.099998   65.900002   \n",
       "\n",
       "       IS_weg50kmundmehr2  UE_AntreArbe   IS_einpen  D_ldergeburten201  \\\n",
       "count          401.000000    401.000000  401.000000         401.000000   \n",
       "mean            11.484290      9.834411   64.508957          16.510975   \n",
       "std              3.481254      2.016845   10.002245           8.783781   \n",
       "min              4.900000      3.000000   21.700001          -9.600000   \n",
       "25%              9.000000      8.600000   58.799999          11.700000   \n",
       "50%             10.800000     10.200000   66.000000          17.600000   \n",
       "75%             13.300000     11.200000   71.300003          21.900000   \n",
       "max             24.200001     14.800000   90.400002          45.500000   \n",
       "\n",
       "        UE_Langze     UE_v306  \n",
       "count  401.000000  401.000000  \n",
       "mean    32.202751   -6.157606  \n",
       "std      8.077894   22.530605  \n",
       "min     10.500000  -69.900002  \n",
       "25%     25.600000  -14.200000  \n",
       "50%     32.700001   -7.700000  \n",
       "75%     38.500000   -0.800000  \n",
       "max     53.400002  329.000000  "
      ]
     },
     "execution_count": 18,
     "metadata": {},
     "output_type": "execute_result"
    }
   ],
   "source": [
    "X[top20feature].describe()"
   ]
  },
  {
   "cell_type": "code",
   "execution_count": 19,
   "metadata": {},
   "outputs": [
    {
     "data": {
      "text/html": [
       "<div>\n",
       "<style scoped>\n",
       "    .dataframe tbody tr th:only-of-type {\n",
       "        vertical-align: middle;\n",
       "    }\n",
       "\n",
       "    .dataframe tbody tr th {\n",
       "        vertical-align: top;\n",
       "    }\n",
       "\n",
       "    .dataframe thead th {\n",
       "        text-align: right;\n",
       "    }\n",
       "</style>\n",
       "<table border=\"1\" class=\"dataframe\">\n",
       "  <thead>\n",
       "    <tr style=\"text-align: right;\">\n",
       "      <th></th>\n",
       "      <th>std_inz_91to106</th>\n",
       "    </tr>\n",
       "  </thead>\n",
       "  <tbody>\n",
       "    <tr>\n",
       "      <th>count</th>\n",
       "      <td>401.000000</td>\n",
       "    </tr>\n",
       "    <tr>\n",
       "      <th>mean</th>\n",
       "      <td>79.007408</td>\n",
       "    </tr>\n",
       "    <tr>\n",
       "      <th>std</th>\n",
       "      <td>72.684265</td>\n",
       "    </tr>\n",
       "    <tr>\n",
       "      <th>min</th>\n",
       "      <td>3.607589</td>\n",
       "    </tr>\n",
       "    <tr>\n",
       "      <th>25%</th>\n",
       "      <td>34.004898</td>\n",
       "    </tr>\n",
       "    <tr>\n",
       "      <th>50%</th>\n",
       "      <td>56.944515</td>\n",
       "    </tr>\n",
       "    <tr>\n",
       "      <th>75%</th>\n",
       "      <td>107.506599</td>\n",
       "    </tr>\n",
       "    <tr>\n",
       "      <th>max</th>\n",
       "      <td>721.384521</td>\n",
       "    </tr>\n",
       "  </tbody>\n",
       "</table>\n",
       "</div>"
      ],
      "text/plain": [
       "       std_inz_91to106\n",
       "count       401.000000\n",
       "mean         79.007408\n",
       "std          72.684265\n",
       "min           3.607589\n",
       "25%          34.004898\n",
       "50%          56.944515\n",
       "75%         107.506599\n",
       "max         721.384521"
      ]
     },
     "execution_count": 19,
     "metadata": {},
     "output_type": "execute_result"
    }
   ],
   "source": [
    "pd.DataFrame(Y).describe()"
   ]
  },
  {
   "cell_type": "code",
   "execution_count": 20,
   "metadata": {},
   "outputs": [],
   "source": [
    "frames = [ Y.describe(), X[top20feature].describe()]\n",
    "des = pd.concat(frames, axis=1)\n",
    "with pd.ExcelWriter(r\"C:\\Users\\Constantin\\Desktop\\descriptives3.xlsx\") as writer:  \n",
    "    des.to_excel(writer, sheet_name='period 3')"
   ]
  },
  {
   "cell_type": "code",
   "execution_count": null,
   "metadata": {},
   "outputs": [],
   "source": []
  }
 ],
 "metadata": {
  "kernelspec": {
   "display_name": "Python 3",
   "language": "python",
   "name": "python3"
  },
  "language_info": {
   "codemirror_mode": {
    "name": "ipython",
    "version": 3
   },
   "file_extension": ".py",
   "mimetype": "text/x-python",
   "name": "python",
   "nbconvert_exporter": "python",
   "pygments_lexer": "ipython3",
   "version": "3.8.3"
  }
 },
 "nbformat": 4,
 "nbformat_minor": 4
}
