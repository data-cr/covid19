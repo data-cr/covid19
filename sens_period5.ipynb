{
 "cells": [
  {
   "cell_type": "markdown",
   "metadata": {},
   "source": [
    "# Total later 121"
   ]
  },
  {
   "cell_type": "code",
   "execution_count": 1,
   "metadata": {
    "colab": {},
    "colab_type": "code",
    "id": "n82x6ZiuEc6Y"
   },
   "outputs": [],
   "source": [
    "import pandas as pd\n",
    "import numpy as np\n",
    "from sklearn import preprocessing\n",
    "from sklearn.ensemble import RandomForestRegressor\n",
    "import matplotlib.pyplot as plt\n",
    "from matplotlib import rcParams\n",
    "import shap\n",
    "from sklearn.linear_model import LinearRegression\n",
    "from sklearn import metrics\n",
    "\n",
    "from catboost import Pool, CatBoostRegressor, cv\n",
    "from catboost.utils import eval_metric"
   ]
  },
  {
   "cell_type": "markdown",
   "metadata": {},
   "source": [
    "# Data"
   ]
  },
  {
   "cell_type": "code",
   "execution_count": 2,
   "metadata": {
    "colab": {
     "base_uri": "https://localhost:8080/",
     "height": 102
    },
    "colab_type": "code",
    "id": "bU8US8hcEfDF",
    "outputId": "4cfadb8a-123b-4a04-d7db-aa42f66e4d7d"
   },
   "outputs": [
    {
     "name": "stderr",
     "output_type": "stream",
     "text": [
      "\n",
      "One or more strings in the dta file could not be decoded using utf-8, and\n",
      "so the fallback encoding of latin-1 is being used.  This can happen when a file\n",
      "has been incorrectly encoded by Stata or some other software. You should verify\n",
      "the string values returned are correct.\n"
     ]
    }
   ],
   "source": [
    "df = pd.read_stata('W:\\COVID19\\std_inz_later121.dta')"
   ]
  },
  {
   "cell_type": "code",
   "execution_count": 3,
   "metadata": {
    "colab": {},
    "colab_type": "code",
    "id": "zz6U5PboEnnG",
    "scrolled": false
   },
   "outputs": [
    {
     "name": "stdout",
     "output_type": "stream",
     "text": [
      "Number of features:  163\n"
     ]
    }
   ],
   "source": [
    "Y = df['std_inz_later121']\n",
    "X0 = df.loc[:, ~df.columns.isin(['std_inz_later121', 'eastwest'])]\n",
    "print(\"Number of features: \", len(X0.columns))"
   ]
  },
  {
   "cell_type": "markdown",
   "metadata": {},
   "source": [
    "# Feature Correlation"
   ]
  },
  {
   "cell_type": "code",
   "execution_count": 4,
   "metadata": {},
   "outputs": [
    {
     "name": "stdout",
     "output_type": "stream",
     "text": [
      "{'IS_v1073', 'IS_v1070', 'PRE_v727', 'UE_v381', 'UE_v324', 'HC_aerztever', 'UE_BesePrima', 'SSE_grand_sd_', 'UE_v323', 'PRE_v733', 'SSE_Freiflaec', 'SSE_weighted_', 'UE_v231', 'UE_Arbquote2', 'IS_auspen', 'HC_II_t', 'SSE_AnteilWas', 'UE_v342', 'PO_Hausha', 'INC_Schuldn', 'HC_Pflegehe', 'IS_mitarbeitsweg30', 'IS_v1071', 'PRE_v739', 'IS_v1069', 'SSE_Laendlich', 'SSE_Einwohner', 'SSE_AnteilFre', 'IS_endlersaldo2017', 'SSE_v817', 'D_v599', 'PRE_v652', 'UE_AntreBesc', 'UE_v261', 'HC_Vorzeitig', 'UE_v341', 'UE_ArbquoteJ', 'SSE_Siedlungs', 'SSE_Waldflaec', 'HC_I_t', 'UE_AnteBesch', 'SSE_v967', 'IS_mitarbeitsweg15', 'SSE_AnteilErh', 'D_Abhaen', 'D_v424'} \n",
      "\n",
      " 46 features droped\n"
     ]
    }
   ],
   "source": [
    "a=[\"PRE_v652\",\"SSE_AnteilErh\",\"SSE_AnteilFre\",\"SSE_AnteilFre\",\"SSE_Freiflaec\",\"SSE_Freiflaec\",\"SSE_Laendlich\",\"SSE_Laendlich\",\"SSE_Siedlungs\",\"SSE_Siedlungs\",\"SSE_Siedlungs\",\"SSE_v817\",\"SSE_v817\",\"SSE_v817\",\"SSE_v817\",\"SSE_v817\",\"SSE_v967\",\"SSE_v967\",\"SSE_v967\",\"SSE_v967\",\"SSE_weighted_\",\"UE_AntreBesc\",\"UE_Arbquote2\",\"UE_Arbquote2\",\"UE_Arbquote2\",\"UE_ArbquoteJ\",\"UE_BesePrima\",\"UE_v323\",\"UE_v323\",\"UE_v324\",\"UE_v341\",\"HC_Vorzeitig\",\"D_v599\",\"UE_AnteBesch\",\"D_v424\",\"UE_v231\",\"D_Abhaen\",\"HC_I_t\",\"HC_II_t\",\"HC_I_t\",\"HC_Pflegehe\",\"IS_mitarbeitsweg30\",\"IS_mitarbeitsweg15\",\"IS_v1071\",\"IS_v1071\",\"IS_v1073\",\"PO_Hausha\",\"PRE_v739\",\"IS_v1069\",\"IS_v1071\",\"SSE_AnteilWas\",\"SSE_AnteilErh\",\"SSE_Siedlungs\",\"SSE_AnteilFre\",\"SSE_v817\",\"SSE_v967\",\"IS_v1070\",\"SSE_Waldflaec\",\"IS_v1071\",\"SSE_Freiflaec\",\"IS_v1069\",\"SSE_AnteilFre\",\"IS_v1071\",\"IS_v1069\",\"IS_v1071\",\"SSE_Siedlungs\",\"SSE_AnteilErh\",\"SSE_AnteilFre\",\"SSE_AnteilErh\",\"SSE_Siedlungs\",\"SSE_AnteilFre\",\"SSE_v817\",\"SSE_grand_sd_\",\"INC_Schuldn\",\"UE_ArbquoteJ\",\"IS_auspen\",\"IS_endlersaldo2017\",\"HC_aerztever\",\"SSE_AnteilErh\",\"SSE_Siedlungs\",\"SSE_AnteilFre\",\"SSE_Einwohner\",\"SSE_v817\",\"SSE_v967\",\"UE_v342\",\"PRE_v727\",\"PRE_v739\",\"PRE_v733\",\"UE_v381\",\"UE_v341\",\"UE_v323\",\"UE_v261\",\"UE_v381\",\"UE_v323\",\"UE_v341\",\"UE_v381\",\"UE_v341\",\"UE_v381\"]\n",
    "print(set(a),\"\\n\\n\",len(set(a)),\"features droped\")"
   ]
  },
  {
   "cell_type": "code",
   "execution_count": 5,
   "metadata": {},
   "outputs": [
    {
     "name": "stdout",
     "output_type": "stream",
     "text": [
      "New number of features:  117\n"
     ]
    }
   ],
   "source": [
    "X = X0.drop(columns=['UE_v324', 'SSE_Laendlich', 'UE_AnteBesch', 'IS_endlersaldo2017', 'UE_ArbquoteJ', 'PRE_v727', 'IS_v1069', 'SSE_Siedlungs', 'D_v424', 'D_v599', 'HC_II_t', 'SSE_Waldflaec', 'HC_Pflegehe', 'IS_v1073', 'SSE_weighted_', 'SSE_AnteilFre', 'HC_Vorzeitig', 'HC_I_t', 'PO_Hausha', 'UE_AntreBesc', 'IS_mitarbeitsweg30', 'SSE_grand_sd_', 'D_Abhaen', 'UE_v261', 'SSE_v967', 'INC_Schuldn', 'PRE_v739', 'UE_Arbquote2', 'SSE_AnteilWas', 'PRE_v652', 'IS_auspen', 'UE_v323', 'SSE_Freiflaec', 'UE_v381', 'UE_v231', 'IS_v1070', 'SSE_AnteilErh', 'UE_v342', 'HC_aerztever', 'SSE_Einwohner', 'UE_v341', 'IS_mitarbeitsweg15', 'SSE_v817', 'IS_v1071', 'PRE_v733', 'UE_BesePrima'])\n",
    "print(\"New number of features: \", len(X.columns))"
   ]
  },
  {
   "cell_type": "markdown",
   "metadata": {},
   "source": [
    "# First CatBoost Model with 162 features"
   ]
  },
  {
   "cell_type": "code",
   "execution_count": 6,
   "metadata": {},
   "outputs": [
    {
     "name": "stdout",
     "output_type": "stream",
     "text": [
      "R2 of final model on all data:  0.9983199482918835\n"
     ]
    }
   ],
   "source": [
    "# initialize Pool\n",
    "train_pool = Pool(X,Y)\n",
    " \n",
    "\n",
    "# specify the training parameters \n",
    "model = CatBoostRegressor(random_seed=0, logging_level = 'Silent')\n",
    "#train the model\n",
    "cb = model.fit(train_pool)\n",
    "print(\"R2 of final model on all data: \",cb.score(X, Y))"
   ]
  },
  {
   "cell_type": "code",
   "execution_count": 7,
   "metadata": {},
   "outputs": [
    {
     "name": "stdout",
     "output_type": "stream",
     "text": [
      "RMSE of final model on all data:  1.9039864122014576\n"
     ]
    }
   ],
   "source": [
    "preds = cb.predict(train_pool,\n",
    "                    prediction_type=\"RawFormulaVal\"\n",
    "                  )\n",
    "\n",
    "print(\"RMSE of final model on all data: \", eval_metric(Y, preds, 'RMSE')[0])"
   ]
  },
  {
   "cell_type": "markdown",
   "metadata": {},
   "source": [
    "# SHAP VAlues"
   ]
  },
  {
   "cell_type": "code",
   "execution_count": 8,
   "metadata": {},
   "outputs": [],
   "source": [
    "shap_values_cb = shap.TreeExplainer(cb).shap_values(X)"
   ]
  },
  {
   "cell_type": "code",
   "execution_count": 9,
   "metadata": {},
   "outputs": [
    {
     "name": "stderr",
     "output_type": "stream",
     "text": [
      "invalid value encountered in true_divide\n",
      "invalid value encountered in true_divide\n"
     ]
    },
    {
     "data": {
      "image/png": "[encoded data removed]",
      "text/plain": [
       "<Figure size 360x432 with 1 Axes>"
      ]
     },
     "metadata": {
      "needs_background": "light"
     },
     "output_type": "display_data"
    }
   ],
   "source": [
    "def ABS_SHAP(df_shap,df):\n",
    "    # Make a copy of the input data\n",
    "    shap_v = pd.DataFrame(df_shap)\n",
    "    feature_list = df.columns\n",
    "    shap_v.columns = feature_list\n",
    "    df_v = df.copy().reset_index().drop('index',axis=1)\n",
    "    \n",
    "    # Determine the correlation in order to plot with different colors\n",
    "    corr_list = list()\n",
    "    for i in feature_list:\n",
    "        b = np.corrcoef(shap_v[i],df_v[i])[1][0]\n",
    "        corr_list.append(b)\n",
    "    corr_df = pd.concat([pd.Series(feature_list),pd.Series(corr_list)],axis=1).fillna(0)\n",
    "    # Make a data frame. Column 1 is the feature, and Column 2 is the correlation coefficient\n",
    "    corr_df.columns  = ['Variable','Corr']\n",
    "    corr_df['Sign'] = np.where(corr_df['Corr']>0,'red','blue')\n",
    "    \n",
    "    # Plot it\n",
    "    shap_abs = np.abs(shap_v)\n",
    "    k=pd.DataFrame(shap_abs.mean()).reset_index()\n",
    "    k.columns = ['Variable','SHAP_abs']\n",
    "    k2 = k.merge(corr_df,left_on = 'Variable',right_on='Variable',how='inner')\n",
    "    k2 = k2.sort_values(by='SHAP_abs',ascending = True)[-20::]\n",
    "    colorlist = k2['Sign']\n",
    "    ax = k2.plot.barh(x='Variable',y='SHAP_abs',color = colorlist, figsize=(5,6),legend=False)\n",
    "    ax.set_xlabel(\"SHAP Value (Red = Positive Impact)\")\n",
    "    \n",
    "ABS_SHAP(shap_values_cb,X) "
   ]
  },
  {
   "cell_type": "markdown",
   "metadata": {},
   "source": [
    "# Second CatBoost model with 20 most important features"
   ]
  },
  {
   "cell_type": "code",
   "execution_count": 10,
   "metadata": {
    "scrolled": true
   },
   "outputs": [],
   "source": [
    "top20feature = X.columns[np.argsort(np.abs(shap_values_cb).mean(0))][-20:][::-1]\n",
    "top10feature = X.columns[np.argsort(np.abs(shap_values_cb).mean(0))][-10:][::-1]"
   ]
  },
  {
   "cell_type": "code",
   "execution_count": 11,
   "metadata": {},
   "outputs": [
    {
     "name": "stdout",
     "output_type": "stream",
     "text": [
      "R2 of second model with top20 feature:  0.9946467718620002\n"
     ]
    }
   ],
   "source": [
    "# initialize Pool\n",
    "train_pool_20 = Pool(X[top20feature],Y)\n",
    " \n",
    "\n",
    "# specify the training parameters \n",
    "model = CatBoostRegressor(random_seed=0, logging_level = 'Silent')\n",
    "#train the model\n",
    "cb_20 = model.fit(train_pool_20)\n",
    "print(\"R2 of second model with top20 feature: \",cb_20.score(X[top20feature], Y))"
   ]
  },
  {
   "cell_type": "code",
   "execution_count": 12,
   "metadata": {},
   "outputs": [
    {
     "name": "stdout",
     "output_type": "stream",
     "text": [
      "RMSE of second model on top20 data:  3.3986809440492682\n"
     ]
    }
   ],
   "source": [
    "preds_20 = cb_20.predict(train_pool_20,\n",
    "                    prediction_type=\"RawFormulaVal\"\n",
    "                  )\n",
    "\n",
    "print(\"RMSE of second model on top20 data: \", eval_metric(Y, preds_20, 'RMSE')[0])"
   ]
  },
  {
   "cell_type": "markdown",
   "metadata": {},
   "source": [
    "# Compare top 10 features of both Models"
   ]
  },
  {
   "cell_type": "code",
   "execution_count": 13,
   "metadata": {
    "scrolled": false
   },
   "outputs": [
    {
     "name": "stdout",
     "output_type": "stream",
     "text": [
      "10 most important features from model with all features: \n",
      " ['std_inz_106to121', 'IS_mitarbeitsweg50', 'SSE_Stickstof', 'UE_v129', 'PO_v1265', 'IS_v1072', 'UE_v97', 'G_latitude', 'UE_v376', 'UE_Kurzar'] \n",
      "\n",
      " 10 most important features from model with top20 features: \n",
      " ['std_inz_106to121', 'IS_mitarbeitsweg50', 'G_latitude', 'IS_v1072', 'SSE_Stickstof', 'UE_v129', 'SSE_AnteilWal', 'UE_v376', 'PO_v1265', 'PO_v1261']\n"
     ]
    }
   ],
   "source": [
    "shap_values_cb_20 = shap.TreeExplainer(cb_20).shap_values(X[top20feature])\n",
    "\n",
    "top10feature_from_top_20 = X[top20feature].columns[np.argsort(np.abs(shap_values_cb_20).mean(0))][-10:][::-1]\n",
    "\n",
    "print(\"10 most important features from model with all features:\", \"\\n\", list(top10feature), \"\\n\\n\",\n",
    "     \"10 most important features from model with top20 features:\", \"\\n\", list(top10feature_from_top_20)) "
   ]
  },
  {
   "cell_type": "code",
   "execution_count": 14,
   "metadata": {
    "scrolled": true
   },
   "outputs": [
    {
     "name": "stdout",
     "output_type": "stream",
     "text": [
      "std_inz_106to121\n",
      "IS_mitarbeitsweg50\n",
      "SSE_Stickstof\n",
      "UE_v129\n",
      "PO_v1265\n",
      "IS_v1072\n",
      "G_latitude\n",
      "UE_v376\n"
     ]
    }
   ],
   "source": [
    "# features which are on top10 of both models:\n",
    "for i in top10feature :\n",
    "    if i in list(top10feature_from_top_20) :\n",
    "         print(i)"
   ]
  },
  {
   "cell_type": "code",
   "execution_count": 15,
   "metadata": {},
   "outputs": [
    {
     "data": {
      "image/png": "[encoded data removed]",
      "text/plain": [
       "<Figure size 360x432 with 1 Axes>"
      ]
     },
     "metadata": {
      "needs_background": "light"
     },
     "output_type": "display_data"
    }
   ],
   "source": [
    "ABS_SHAP(shap_values_cb_20,X[top20feature]) "
   ]
  },
  {
   "cell_type": "markdown",
   "metadata": {},
   "source": [
    "# Hold out validation of the second model"
   ]
  },
  {
   "cell_type": "code",
   "execution_count": 16,
   "metadata": {
    "scrolled": true
   },
   "outputs": [
    {
     "name": "stdout",
     "output_type": "stream",
     "text": [
      "0.0 %   5.0 %   10.0 %   15.0 %   20.0 %   25.0 %   30.0 %   35.0 %   40.0 %   45.0 %   50.0 %   55.00000000000001 %   60.0 %   65.0 %   70.0 %   75.0 %   80.0 %   85.0 %   90.0 %   95.0 %   "
     ]
    }
   ],
   "source": [
    "import random\n",
    "iterations = range(0,20)\n",
    "\n",
    "r2_reg_k_test_top20 = list(range(0,20))\n",
    "rmse_reg_k_test_top20 = list(range(0,20))\n",
    "r2_cb_k_train_top20 = list(range(0,20))\n",
    "r2_cb_k_test_top20 = list(range(0,20))\n",
    "\n",
    "for i in iterations:\n",
    "    rs = random.sample(range(0,401), 80)\n",
    "    k_test_x = X[top20feature].iloc[rs]\n",
    "    k_test_y = Y.iloc[rs]\n",
    "    k_train_x = X[top20feature].drop(rs)\n",
    "    k_train_y = Y.drop(rs)\n",
    "    # initialize Pool \n",
    "    train_pool_k = Pool(data=k_train_x,\n",
    "                        label=k_train_y,\n",
    "                        feature_names = list(X[top20feature].columns))\n",
    "        \n",
    "    test_pool_k = Pool(data=k_test_x,\n",
    "                       label=k_test_y,\n",
    "                       feature_names = list(X[top20feature].columns))\n",
    "\n",
    "    \n",
    "    #fit the model\n",
    "    model = CatBoostRegressor(random_seed=0,\n",
    "                              logging_level=\"Silent\",\n",
    "                              #iterations = scores_k.sort_values(by= \"test-R2-mean\")[\"iterations\"].iloc[-1]\n",
    "                             )\n",
    "\n",
    "    cb_k = model.fit(train_pool_k)\n",
    "    \n",
    "    # make the prediction using the resulting model\n",
    "    preds_k = cb_k.predict(test_pool_k,\n",
    "                    prediction_type=\"RawFormulaVal\"\n",
    "                  )\n",
    "    \n",
    "    rmse_reg_k_test_top20[i] = eval_metric(np.array(k_test_y), preds_k, \"RMSE\")[0]\n",
    "    \n",
    "    preds_k = preds_k.reshape(-1, 1)\n",
    "    #LinearRegression\n",
    "    reg_k = LinearRegression().fit(preds_k, k_test_y)\n",
    "\n",
    "    \n",
    "    r2_cb_k_train_top20[i] = cb_k.score(train_pool_k)\n",
    "    r2_reg_k_test_top20[i] = reg_k.score(preds_k, k_test_y)\n",
    "\n",
    "    r2_cb_k_test_top20[i] =  cb_k.score(test_pool_k)\n",
    "    \n",
    "    print(i/len(iterations)*100,\"%\", \"  \" , end=\"\")"
   ]
  },
  {
   "cell_type": "code",
   "execution_count": 17,
   "metadata": {},
   "outputs": [
    {
     "name": "stdout",
     "output_type": "stream",
     "text": [
      "Mean R2 of CatBoost_models on train sets with top20 features: 0.9969479546736768\n",
      "Mean R2 of linReg_modesl with top20 features:  0.27417854907437356\n",
      "Mean RMSE of CatBoost_models on test sets with top20 features:  39.04199090585525\n",
      "Mean R2 of CatBoost_models on test sets with top20 features: 0.21697607143279168\n"
     ]
    }
   ],
   "source": [
    "print(\"Mean R2 of CatBoost_models on train sets with top20 features:\",sum(r2_cb_k_train_top20)/len(r2_cb_k_train_top20))\n",
    "print(\"Mean R2 of linReg_modesl with top20 features: \", sum(r2_reg_k_test_top20)/len(r2_reg_k_test_top20))\n",
    "print(\"Mean RMSE of CatBoost_models on test sets with top20 features: \", sum(rmse_reg_k_test_top20)/len(rmse_reg_k_test_top20))\n",
    "print(\"Mean R2 of CatBoost_models on test sets with top20 features:\",sum(r2_cb_k_test_top20)/len(r2_cb_k_test_top20))"
   ]
  },
  {
   "cell_type": "markdown",
   "metadata": {},
   "source": [
    "# descriptives of top20 features"
   ]
  },
  {
   "cell_type": "code",
   "execution_count": 18,
   "metadata": {},
   "outputs": [
    {
     "data": {
      "text/html": [
       "<div>\n",
       "<style scoped>\n",
       "    .dataframe tbody tr th:only-of-type {\n",
       "        vertical-align: middle;\n",
       "    }\n",
       "\n",
       "    .dataframe tbody tr th {\n",
       "        vertical-align: top;\n",
       "    }\n",
       "\n",
       "    .dataframe thead th {\n",
       "        text-align: right;\n",
       "    }\n",
       "</style>\n",
       "<table border=\"1\" class=\"dataframe\">\n",
       "  <thead>\n",
       "    <tr style=\"text-align: right;\">\n",
       "      <th></th>\n",
       "      <th>std_inz_106to121</th>\n",
       "      <th>IS_mitarbeitsweg50</th>\n",
       "      <th>SSE_Stickstof</th>\n",
       "      <th>UE_v129</th>\n",
       "      <th>PO_v1265</th>\n",
       "      <th>IS_v1072</th>\n",
       "      <th>UE_v97</th>\n",
       "      <th>G_latitude</th>\n",
       "      <th>UE_v376</th>\n",
       "      <th>UE_Kurzar</th>\n",
       "      <th>IS_weg300kmundmehr</th>\n",
       "      <th>PRE_v675</th>\n",
       "      <th>PO_Alters</th>\n",
       "      <th>SSE_v1130</th>\n",
       "      <th>UE_Langze</th>\n",
       "      <th>SSE_AnteilWal</th>\n",
       "      <th>INC_v757</th>\n",
       "      <th>SSE_Anteilnat</th>\n",
       "      <th>PO_v1261</th>\n",
       "      <th>PRE_Schula</th>\n",
       "    </tr>\n",
       "  </thead>\n",
       "  <tbody>\n",
       "    <tr>\n",
       "      <th>count</th>\n",
       "      <td>401.000000</td>\n",
       "      <td>401.000000</td>\n",
       "      <td>401.000000</td>\n",
       "      <td>401.000000</td>\n",
       "      <td>401.000000</td>\n",
       "      <td>401.000000</td>\n",
       "      <td>401.000000</td>\n",
       "      <td>401.000000</td>\n",
       "      <td>401.000000</td>\n",
       "      <td>401.000000</td>\n",
       "      <td>401.000000</td>\n",
       "      <td>401.000000</td>\n",
       "      <td>401.000000</td>\n",
       "      <td>401.000000</td>\n",
       "      <td>401.000000</td>\n",
       "      <td>401.000000</td>\n",
       "      <td>401.000000</td>\n",
       "      <td>401.000000</td>\n",
       "      <td>401.000000</td>\n",
       "      <td>401.000000</td>\n",
       "    </tr>\n",
       "    <tr>\n",
       "      <th>mean</th>\n",
       "      <td>35.316822</td>\n",
       "      <td>0.243392</td>\n",
       "      <td>68.331619</td>\n",
       "      <td>5.669324</td>\n",
       "      <td>48.195293</td>\n",
       "      <td>531.122192</td>\n",
       "      <td>-8.350618</td>\n",
       "      <td>50.615292</td>\n",
       "      <td>20.240156</td>\n",
       "      <td>0.752618</td>\n",
       "      <td>2.401995</td>\n",
       "      <td>16.566586</td>\n",
       "      <td>2.619949</td>\n",
       "      <td>-86.781784</td>\n",
       "      <td>32.202751</td>\n",
       "      <td>29.393763</td>\n",
       "      <td>8.945635</td>\n",
       "      <td>5.101742</td>\n",
       "      <td>30.637150</td>\n",
       "      <td>6.557357</td>\n",
       "    </tr>\n",
       "    <tr>\n",
       "      <th>std</th>\n",
       "      <td>34.207966</td>\n",
       "      <td>1.409296</td>\n",
       "      <td>27.160894</td>\n",
       "      <td>9.243236</td>\n",
       "      <td>1.583288</td>\n",
       "      <td>495.516785</td>\n",
       "      <td>18.685118</td>\n",
       "      <td>1.740311</td>\n",
       "      <td>4.537329</td>\n",
       "      <td>1.440882</td>\n",
       "      <td>0.892102</td>\n",
       "      <td>5.035090</td>\n",
       "      <td>1.530833</td>\n",
       "      <td>6.361413</td>\n",
       "      <td>8.077894</td>\n",
       "      <td>14.751070</td>\n",
       "      <td>2.964479</td>\n",
       "      <td>3.710643</td>\n",
       "      <td>6.028951</td>\n",
       "      <td>2.242232</td>\n",
       "    </tr>\n",
       "    <tr>\n",
       "      <th>min</th>\n",
       "      <td>0.000000</td>\n",
       "      <td>-5.300000</td>\n",
       "      <td>21.400000</td>\n",
       "      <td>-22.299999</td>\n",
       "      <td>42.799999</td>\n",
       "      <td>103.000000</td>\n",
       "      <td>-51.700001</td>\n",
       "      <td>47.500000</td>\n",
       "      <td>10.800000</td>\n",
       "      <td>0.000000</td>\n",
       "      <td>0.900000</td>\n",
       "      <td>6.900000</td>\n",
       "      <td>0.000000</td>\n",
       "      <td>-93.599998</td>\n",
       "      <td>10.500000</td>\n",
       "      <td>1.700000</td>\n",
       "      <td>-14.300000</td>\n",
       "      <td>0.900000</td>\n",
       "      <td>9.300000</td>\n",
       "      <td>2.100000</td>\n",
       "    </tr>\n",
       "    <tr>\n",
       "      <th>25%</th>\n",
       "      <td>11.892441</td>\n",
       "      <td>-0.400000</td>\n",
       "      <td>47.500000</td>\n",
       "      <td>1.000000</td>\n",
       "      <td>47.400002</td>\n",
       "      <td>223.000000</td>\n",
       "      <td>-21.000000</td>\n",
       "      <td>49.283333</td>\n",
       "      <td>17.000000</td>\n",
       "      <td>0.000000</td>\n",
       "      <td>1.700000</td>\n",
       "      <td>13.000000</td>\n",
       "      <td>1.600000</td>\n",
       "      <td>-88.199997</td>\n",
       "      <td>25.600000</td>\n",
       "      <td>17.500000</td>\n",
       "      <td>7.700000</td>\n",
       "      <td>2.700000</td>\n",
       "      <td>26.400000</td>\n",
       "      <td>4.900000</td>\n",
       "    </tr>\n",
       "    <tr>\n",
       "      <th>50%</th>\n",
       "      <td>25.522655</td>\n",
       "      <td>0.500000</td>\n",
       "      <td>59.200001</td>\n",
       "      <td>8.500000</td>\n",
       "      <td>48.400002</td>\n",
       "      <td>360.000000</td>\n",
       "      <td>-9.300000</td>\n",
       "      <td>50.549999</td>\n",
       "      <td>19.299999</td>\n",
       "      <td>0.300000</td>\n",
       "      <td>2.200000</td>\n",
       "      <td>16.100000</td>\n",
       "      <td>2.300000</td>\n",
       "      <td>-87.500000</td>\n",
       "      <td>32.700001</td>\n",
       "      <td>28.799999</td>\n",
       "      <td>9.000000</td>\n",
       "      <td>4.300000</td>\n",
       "      <td>30.500000</td>\n",
       "      <td>6.300000</td>\n",
       "    </tr>\n",
       "    <tr>\n",
       "      <th>75%</th>\n",
       "      <td>47.308884</td>\n",
       "      <td>1.100000</td>\n",
       "      <td>88.199997</td>\n",
       "      <td>12.000000</td>\n",
       "      <td>49.200001</td>\n",
       "      <td>617.000000</td>\n",
       "      <td>3.800000</td>\n",
       "      <td>51.849998</td>\n",
       "      <td>22.400000</td>\n",
       "      <td>0.900000</td>\n",
       "      <td>2.900000</td>\n",
       "      <td>19.700001</td>\n",
       "      <td>3.100000</td>\n",
       "      <td>-86.500000</td>\n",
       "      <td>38.500000</td>\n",
       "      <td>40.200001</td>\n",
       "      <td>10.700000</td>\n",
       "      <td>6.300000</td>\n",
       "      <td>35.200001</td>\n",
       "      <td>8.000000</td>\n",
       "    </tr>\n",
       "    <tr>\n",
       "      <th>max</th>\n",
       "      <td>223.532379</td>\n",
       "      <td>4.200000</td>\n",
       "      <td>150.699997</td>\n",
       "      <td>26.600000</td>\n",
       "      <td>51.900002</td>\n",
       "      <td>4338.000000</td>\n",
       "      <td>61.299999</td>\n",
       "      <td>54.783333</td>\n",
       "      <td>38.500000</td>\n",
       "      <td>19.600000</td>\n",
       "      <td>5.900000</td>\n",
       "      <td>38.000000</td>\n",
       "      <td>8.900000</td>\n",
       "      <td>0.000000</td>\n",
       "      <td>53.400002</td>\n",
       "      <td>64.099998</td>\n",
       "      <td>24.700001</td>\n",
       "      <td>34.000000</td>\n",
       "      <td>44.099998</td>\n",
       "      <td>16.700001</td>\n",
       "    </tr>\n",
       "  </tbody>\n",
       "</table>\n",
       "</div>"
      ],
      "text/plain": [
       "       std_inz_106to121  IS_mitarbeitsweg50  SSE_Stickstof     UE_v129  \\\n",
       "count        401.000000          401.000000     401.000000  401.000000   \n",
       "mean          35.316822            0.243392      68.331619    5.669324   \n",
       "std           34.207966            1.409296      27.160894    9.243236   \n",
       "min            0.000000           -5.300000      21.400000  -22.299999   \n",
       "25%           11.892441           -0.400000      47.500000    1.000000   \n",
       "50%           25.522655            0.500000      59.200001    8.500000   \n",
       "75%           47.308884            1.100000      88.199997   12.000000   \n",
       "max          223.532379            4.200000     150.699997   26.600000   \n",
       "\n",
       "         PO_v1265     IS_v1072      UE_v97  G_latitude     UE_v376  \\\n",
       "count  401.000000   401.000000  401.000000  401.000000  401.000000   \n",
       "mean    48.195293   531.122192   -8.350618   50.615292   20.240156   \n",
       "std      1.583288   495.516785   18.685118    1.740311    4.537329   \n",
       "min     42.799999   103.000000  -51.700001   47.500000   10.800000   \n",
       "25%     47.400002   223.000000  -21.000000   49.283333   17.000000   \n",
       "50%     48.400002   360.000000   -9.300000   50.549999   19.299999   \n",
       "75%     49.200001   617.000000    3.800000   51.849998   22.400000   \n",
       "max     51.900002  4338.000000   61.299999   54.783333   38.500000   \n",
       "\n",
       "        UE_Kurzar  IS_weg300kmundmehr    PRE_v675   PO_Alters   SSE_v1130  \\\n",
       "count  401.000000          401.000000  401.000000  401.000000  401.000000   \n",
       "mean     0.752618            2.401995   16.566586    2.619949  -86.781784   \n",
       "std      1.440882            0.892102    5.035090    1.530833    6.361413   \n",
       "min      0.000000            0.900000    6.900000    0.000000  -93.599998   \n",
       "25%      0.000000            1.700000   13.000000    1.600000  -88.199997   \n",
       "50%      0.300000            2.200000   16.100000    2.300000  -87.500000   \n",
       "75%      0.900000            2.900000   19.700001    3.100000  -86.500000   \n",
       "max     19.600000            5.900000   38.000000    8.900000    0.000000   \n",
       "\n",
       "        UE_Langze  SSE_AnteilWal    INC_v757  SSE_Anteilnat    PO_v1261  \\\n",
       "count  401.000000     401.000000  401.000000     401.000000  401.000000   \n",
       "mean    32.202751      29.393763    8.945635       5.101742   30.637150   \n",
       "std      8.077894      14.751070    2.964479       3.710643    6.028951   \n",
       "min     10.500000       1.700000  -14.300000       0.900000    9.300000   \n",
       "25%     25.600000      17.500000    7.700000       2.700000   26.400000   \n",
       "50%     32.700001      28.799999    9.000000       4.300000   30.500000   \n",
       "75%     38.500000      40.200001   10.700000       6.300000   35.200001   \n",
       "max     53.400002      64.099998   24.700001      34.000000   44.099998   \n",
       "\n",
       "       PRE_Schula  \n",
       "count  401.000000  \n",
       "mean     6.557357  \n",
       "std      2.242232  \n",
       "min      2.100000  \n",
       "25%      4.900000  \n",
       "50%      6.300000  \n",
       "75%      8.000000  \n",
       "max     16.700001  "
      ]
     },
     "execution_count": 18,
     "metadata": {},
     "output_type": "execute_result"
    }
   ],
   "source": [
    "X[top20feature].describe()"
   ]
  },
  {
   "cell_type": "code",
   "execution_count": 19,
   "metadata": {},
   "outputs": [
    {
     "data": {
      "text/html": [
       "<div>\n",
       "<style scoped>\n",
       "    .dataframe tbody tr th:only-of-type {\n",
       "        vertical-align: middle;\n",
       "    }\n",
       "\n",
       "    .dataframe tbody tr th {\n",
       "        vertical-align: top;\n",
       "    }\n",
       "\n",
       "    .dataframe thead th {\n",
       "        text-align: right;\n",
       "    }\n",
       "</style>\n",
       "<table border=\"1\" class=\"dataframe\">\n",
       "  <thead>\n",
       "    <tr style=\"text-align: right;\">\n",
       "      <th></th>\n",
       "      <th>std_inz_later121</th>\n",
       "    </tr>\n",
       "  </thead>\n",
       "  <tbody>\n",
       "    <tr>\n",
       "      <th>count</th>\n",
       "      <td>401.000000</td>\n",
       "    </tr>\n",
       "    <tr>\n",
       "      <th>mean</th>\n",
       "      <td>43.944202</td>\n",
       "    </tr>\n",
       "    <tr>\n",
       "      <th>std</th>\n",
       "      <td>46.509815</td>\n",
       "    </tr>\n",
       "    <tr>\n",
       "      <th>min</th>\n",
       "      <td>0.904054</td>\n",
       "    </tr>\n",
       "    <tr>\n",
       "      <th>25%</th>\n",
       "      <td>17.479307</td>\n",
       "    </tr>\n",
       "    <tr>\n",
       "      <th>50%</th>\n",
       "      <td>30.933710</td>\n",
       "    </tr>\n",
       "    <tr>\n",
       "      <th>75%</th>\n",
       "      <td>56.686890</td>\n",
       "    </tr>\n",
       "    <tr>\n",
       "      <th>max</th>\n",
       "      <td>549.691467</td>\n",
       "    </tr>\n",
       "  </tbody>\n",
       "</table>\n",
       "</div>"
      ],
      "text/plain": [
       "       std_inz_later121\n",
       "count        401.000000\n",
       "mean          43.944202\n",
       "std           46.509815\n",
       "min            0.904054\n",
       "25%           17.479307\n",
       "50%           30.933710\n",
       "75%           56.686890\n",
       "max          549.691467"
      ]
     },
     "execution_count": 19,
     "metadata": {},
     "output_type": "execute_result"
    }
   ],
   "source": [
    "pd.DataFrame(Y).describe()"
   ]
  },
  {
   "cell_type": "code",
   "execution_count": 20,
   "metadata": {},
   "outputs": [],
   "source": [
    "frames = [ Y.describe(), X[top20feature].describe()]\n",
    "des = pd.concat(frames, axis=1)\n",
    "with pd.ExcelWriter(r\"C:\\Users\\Constantin\\Desktop\\descriptives5.xlsx\") as writer:  \n",
    "    des.to_excel(writer, sheet_name='period 5')"
   ]
  },
  {
   "cell_type": "code",
   "execution_count": null,
   "metadata": {},
   "outputs": [],
   "source": []
  }
 ],
 "metadata": {
  "kernelspec": {
   "display_name": "Python 3",
   "language": "python",
   "name": "python3"
  },
  "language_info": {
   "codemirror_mode": {
    "name": "ipython",
    "version": 3
   },
   "file_extension": ".py",
   "mimetype": "text/x-python",
   "name": "python",
   "nbconvert_exporter": "python",
   "pygments_lexer": "ipython3",
   "version": "3.8.3"
  }
 },
 "nbformat": 4,
 "nbformat_minor": 4
}
