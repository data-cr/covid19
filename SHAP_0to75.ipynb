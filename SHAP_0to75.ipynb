{
 "cells": [
  {
   "cell_type": "markdown",
   "metadata": {},
   "source": [
    "# Total 0-75"
   ]
  },
  {
   "cell_type": "code",
   "execution_count": 1,
   "metadata": {
    "colab": {
     "base_uri": "https://localhost:8080/",
     "height": 445
    },
    "colab_type": "code",
    "id": "PKambPWYCJCm",
    "outputId": "dfee1b42-5d7d-4f4b-dbad-bd3aeffbac64"
   },
   "outputs": [],
   "source": [
    "#%pip install shap\n",
    "#%matplotlib inline\n",
    "#%pip install catboost"
   ]
  },
  {
   "cell_type": "code",
   "execution_count": 2,
   "metadata": {
    "colab": {},
    "colab_type": "code",
    "id": "n82x6ZiuEc6Y"
   },
   "outputs": [],
   "source": [
    "import pandas as pd\n",
    "import numpy as np\n",
    "from sklearn import preprocessing\n",
    "from sklearn.ensemble import RandomForestRegressor\n",
    "import matplotlib.pyplot as plt\n",
    "from matplotlib import rcParams\n",
    "import shap\n",
    "\n",
    "from catboost import Pool, CatBoostRegressor, cv"
   ]
  },
  {
   "cell_type": "markdown",
   "metadata": {},
   "source": [
    "# Data"
   ]
  },
  {
   "cell_type": "code",
   "execution_count": 3,
   "metadata": {
    "colab": {
     "base_uri": "https://localhost:8080/",
     "height": 102
    },
    "colab_type": "code",
    "id": "bU8US8hcEfDF",
    "outputId": "4cfadb8a-123b-4a04-d7db-aa42f66e4d7d"
   },
   "outputs": [
    {
     "name": "stderr",
     "output_type": "stream",
     "text": [
      "\n",
      "One or more strings in the dta file could not be decoded using utf-8, and\n",
      "so the fallback encoding of latin-1 is being used.  This can happen when a file\n",
      "has been incorrectly encoded by Stata or some other software. You should verify\n",
      "the string values returned are correct.\n"
     ]
    }
   ],
   "source": [
    "df = pd.read_stata('W:\\COVID19\\std_inz0_75.dta')"
   ]
  },
  {
   "cell_type": "code",
   "execution_count": 4,
   "metadata": {
    "colab": {
     "base_uri": "https://localhost:8080/",
     "height": 253
    },
    "colab_type": "code",
    "id": "-dBMaPCtEq8f",
    "outputId": "46563a52-7093-42e7-d751-4b9fd933ba98",
    "scrolled": true
   },
   "outputs": [],
   "source": [
    "#df.head()"
   ]
  },
  {
   "cell_type": "code",
   "execution_count": 30,
   "metadata": {
    "colab": {},
    "colab_type": "code",
    "id": "zz6U5PboEnnG",
    "scrolled": true
   },
   "outputs": [
    {
     "name": "stdout",
     "output_type": "stream",
     "text": [
      "Number of features:  162\n"
     ]
    }
   ],
   "source": [
    "Y = df['std_inz_0to75']\n",
    "X = df.loc[:, ~df.columns.isin(['std_inz_0to75', 'eastwest'])]\n",
    "f_names = list(X.columns)\n",
    "print(\"Number of features: \", len(X.columns))"
   ]
  },
  {
   "cell_type": "markdown",
   "metadata": {},
   "source": [
    "# RF model"
   ]
  },
  {
   "cell_type": "code",
   "execution_count": 6,
   "metadata": {
    "colab": {
     "base_uri": "https://localhost:8080/",
     "height": 136
    },
    "colab_type": "code",
    "id": "5xl5LcbBEz6y",
    "outputId": "aec3c8ab-4986-4563-b5cd-0fc06194204c"
   },
   "outputs": [],
   "source": [
    "rfr = RandomForestRegressor(bootstrap=True, ccp_alpha=0.0, criterion='mse',\n",
    "                      max_depth=None, max_features='auto', max_leaf_nodes=None,\n",
    "                      max_samples=None, min_impurity_decrease=0.0,\n",
    "                      min_impurity_split=None, min_samples_leaf=1,\n",
    "                      min_samples_split=2, min_weight_fraction_leaf=0.0,\n",
    "                      n_estimators=5000, n_jobs=None, oob_score=False,\n",
    "                      random_state=0, verbose=0, warm_start=False)\n",
    "rf=rfr.fit(X, Y)  "
   ]
  },
  {
   "cell_type": "markdown",
   "metadata": {},
   "source": [
    "# R2 RF model"
   ]
  },
  {
   "cell_type": "code",
   "execution_count": 7,
   "metadata": {
    "scrolled": false
   },
   "outputs": [
    {
     "data": {
      "text/plain": [
       "0.8169438303301793"
      ]
     },
     "execution_count": 7,
     "metadata": {},
     "output_type": "execute_result"
    }
   ],
   "source": [
    "rf.score(X, Y)"
   ]
  },
  {
   "cell_type": "markdown",
   "metadata": {},
   "source": [
    "# CatBoost Model (default)"
   ]
  },
  {
   "cell_type": "code",
   "execution_count": 8,
   "metadata": {
    "scrolled": true
   },
   "outputs": [],
   "source": [
    "# initialize Pool\n",
    "train_pool = Pool(data=X,\n",
    "                  label=Y,\n",
    "                 feature_names = f_names)\n",
    " \n",
    "\n",
    "# specify the training parameters \n",
    "model = CatBoostRegressor(random_seed=0,\n",
    "                          logging_level=\"Silent\"\n",
    "                         )\n",
    "#train the model\n",
    "cb = model.fit(train_pool)"
   ]
  },
  {
   "cell_type": "code",
   "execution_count": 9,
   "metadata": {
    "scrolled": true
   },
   "outputs": [
    {
     "name": "stdout",
     "output_type": "stream",
     "text": [
      "R2 linReg_model:  0.9994763018403688\n",
      "RMSE linReg_model:  0.12320259574141135\n"
     ]
    }
   ],
   "source": [
    "# prediction\n",
    "preds = cb.predict(train_pool,\n",
    "                    prediction_type=\"RawFormulaVal\"\n",
    "                  )\n",
    "#print(Y.dtype)\n",
    "preds = preds.reshape(-1, 1)\n",
    "#print(preds)\n",
    "from sklearn.linear_model import LinearRegression\n",
    "from sklearn import metrics\n",
    "reg = LinearRegression().fit(preds, Y)\n",
    "print(\"R2 linReg_model: \", reg.score(preds, Y))\n",
    "print(\"RMSE linReg_model: \",metrics.mean_squared_error(preds, Y))\n"
   ]
  },
  {
   "cell_type": "code",
   "execution_count": 10,
   "metadata": {},
   "outputs": [
    {
     "data": {
      "text/plain": [
       "0.9994066010320601"
      ]
     },
     "execution_count": 10,
     "metadata": {},
     "output_type": "execute_result"
    }
   ],
   "source": [
    "cb.score(X, Y)"
   ]
  },
  {
   "cell_type": "markdown",
   "metadata": {},
   "source": [
    "# Grid-search CatBoost to obtain the optimal hyperparameters"
   ]
  },
  {
   "cell_type": "markdown",
   "metadata": {
    "collapsed": true
   },
   "source": [
    "model = CatBoostRegressor(random_seed=0,\n",
    "                         custom_metric = 'R2',\n",
    "                         early_stopping_rounds=50)\n",
    "\n",
    "grid = {'learning_rate': [0.03, 0.01],\n",
    "        'depth': [4, 6, 10],\n",
    "        'num_trees': [1000, 2000, 10000]}\n",
    "\n",
    "grid_search_result = model.grid_search(grid, \n",
    "                                       X=X, \n",
    "                                       y=Y,\n",
    "                                       cv= int(5),\n",
    "                                       plot=True)"
   ]
  },
  {
   "cell_type": "markdown",
   "metadata": {},
   "source": [
    "grid_search_result['params'] #of best-found parameters."
   ]
  },
  {
   "cell_type": "code",
   "execution_count": null,
   "metadata": {},
   "outputs": [],
   "source": []
  },
  {
   "cell_type": "markdown",
   "metadata": {},
   "source": [
    "# Final CatBoost Model "
   ]
  },
  {
   "cell_type": "markdown",
   "metadata": {},
   "source": [
    "# initialize Pool\n",
    "train_pool = Pool(data=X,\n",
    "                  label=Y,\n",
    "                 feature_names = f_names)\n",
    " \n",
    "\n",
    "# specify the training parameters \n",
    "model = CatBoostRegressor(random_seed=0,\n",
    "                          logging_level=\"Silent\",\n",
    "                          learning_rate = 0.03,\n",
    "                          num_trees = 1000 ,\n",
    "                          depth = 10\n",
    "                         )\n",
    "#train the model\n",
    "cb_final = model.fit(train_pool)"
   ]
  },
  {
   "cell_type": "markdown",
   "metadata": {},
   "source": [
    "# prediction\n",
    "preds_final = cb_final.predict(train_pool,\n",
    "                    prediction_type=\"RawFormulaVal\"\n",
    "                  )\n",
    "#print(Y.dtype)\n",
    "preds_final = preds_final.reshape(-1, 1)\n",
    "#print(preds)\n",
    "from sklearn.linear_model import LinearRegression\n",
    "from sklearn import metrics\n",
    "reg = LinearRegression().fit(preds_final, Y)\n",
    "print(\"R2 LinReg: \",reg.score(preds_final, Y))\n",
    "metrics.mean_squared_error(preds_final, Y)\n",
    "print(\"R2 CatBoost: \", cb_final.score(X, Y))"
   ]
  },
  {
   "cell_type": "markdown",
   "metadata": {},
   "source": [
    "# SHAP values "
   ]
  },
  {
   "cell_type": "markdown",
   "metadata": {},
   "source": [
    "# RF"
   ]
  },
  {
   "cell_type": "code",
   "execution_count": 12,
   "metadata": {
    "colab": {
     "base_uri": "https://localhost:8080/",
     "height": 54
    },
    "colab_type": "code",
    "id": "eqEQYAnYFUst",
    "outputId": "23e40629-1d3e-450b-a437-cff2e4e5b7dc",
    "scrolled": true
   },
   "outputs": [],
   "source": [
    "shap_values = shap.TreeExplainer(rf).shap_values(X)"
   ]
  },
  {
   "cell_type": "code",
   "execution_count": 13,
   "metadata": {
    "scrolled": false
   },
   "outputs": [
    {
     "data": {
      "image/png": "[encoded data removed]",
      "text/plain": [
       "<Figure size 576x684 with 2 Axes>"
      ]
     },
     "metadata": {
      "needs_background": "light"
     },
     "output_type": "display_data"
    }
   ],
   "source": [
    "shap.summary_plot(shap_values, X,max_display=20) "
   ]
  },
  {
   "cell_type": "code",
   "execution_count": 14,
   "metadata": {
    "scrolled": true
   },
   "outputs": [
    {
     "data": {
      "image/png": "[encoded data removed]",
      "text/plain": [
       "<Figure size 576x684 with 1 Axes>"
      ]
     },
     "metadata": {
      "needs_background": "light"
     },
     "output_type": "display_data"
    }
   ],
   "source": [
    "shap.summary_plot(shap_values, X, plot_type=\"bar\",max_display=20)"
   ]
  },
  {
   "cell_type": "code",
   "execution_count": 15,
   "metadata": {},
   "outputs": [
    {
     "data": {
      "image/png": "[encoded data removed]",
      "text/plain": [
       "<Figure size 360x432 with 1 Axes>"
      ]
     },
     "metadata": {
      "needs_background": "light"
     },
     "output_type": "display_data"
    }
   ],
   "source": [
    "def ABS_SHAP(df_shap,df):\n",
    "    #import matplotlib as plt\n",
    "    # Make a copy of the input data\n",
    "    shap_v = pd.DataFrame(df_shap)\n",
    "    feature_list = df.columns\n",
    "    shap_v.columns = feature_list\n",
    "    df_v = df.copy().reset_index().drop('index',axis=1)\n",
    "    \n",
    "    # Determine the correlation in order to plot with different colors\n",
    "    corr_list = list()\n",
    "    for i in feature_list:\n",
    "        b = np.corrcoef(shap_v[i],df_v[i])[1][0]\n",
    "        corr_list.append(b)\n",
    "    corr_df = pd.concat([pd.Series(feature_list),pd.Series(corr_list)],axis=1).fillna(0)\n",
    "    # Make a data frame. Column 1 is the feature, and Column 2 is the correlation coefficient\n",
    "    corr_df.columns  = ['Variable','Corr']\n",
    "    corr_df['Sign'] = np.where(corr_df['Corr']>0,'red','blue')\n",
    "    \n",
    "    # Plot it\n",
    "    shap_abs = np.abs(shap_v)\n",
    "    k=pd.DataFrame(shap_abs.mean()).reset_index()\n",
    "    k.columns = ['Variable','SHAP_abs']\n",
    "    k2 = k.merge(corr_df,left_on = 'Variable',right_on='Variable',how='inner')\n",
    "    k2 = k2.sort_values(by='SHAP_abs',ascending = True)\n",
    "    k2 = k2[-20:]\n",
    "    colorlist = k2['Sign']\n",
    "    ax = k2.plot.barh(x='Variable',y='SHAP_abs',color = colorlist, figsize=(5,6),legend=False)\n",
    "    ax.set_xlabel(\"SHAP Value (Red = Positive Impact)\")\n",
    "    \n",
    "ABS_SHAP(shap_values,X) "
   ]
  },
  {
   "cell_type": "markdown",
   "metadata": {},
   "source": [
    "# CatBoost"
   ]
  },
  {
   "cell_type": "code",
   "execution_count": 16,
   "metadata": {},
   "outputs": [],
   "source": [
    "shap_values_cb = shap.TreeExplainer(cb).shap_values(X)"
   ]
  },
  {
   "cell_type": "code",
   "execution_count": 17,
   "metadata": {
    "scrolled": false
   },
   "outputs": [
    {
     "data": {
      "image/png": "[encoded data removed]",
      "text/plain": [
       "<Figure size 576x684 with 2 Axes>"
      ]
     },
     "metadata": {
      "needs_background": "light"
     },
     "output_type": "display_data"
    }
   ],
   "source": [
    "shap.summary_plot(shap_values_cb, X,max_display=20)  #TreeExpliner"
   ]
  },
  {
   "cell_type": "code",
   "execution_count": 18,
   "metadata": {
    "scrolled": false
   },
   "outputs": [
    {
     "data": {
      "image/png": "[encoded data removed]",
      "text/plain": [
       "<Figure size 576x684 with 1 Axes>"
      ]
     },
     "metadata": {
      "needs_background": "light"
     },
     "output_type": "display_data"
    }
   ],
   "source": [
    "shap.summary_plot(shap_values_cb, X, plot_type=\"bar\",max_display=20)"
   ]
  },
  {
   "cell_type": "code",
   "execution_count": 19,
   "metadata": {
    "scrolled": false
   },
   "outputs": [
    {
     "name": "stderr",
     "output_type": "stream",
     "text": [
      "invalid value encountered in true_divide\n",
      "invalid value encountered in true_divide\n"
     ]
    },
    {
     "data": {
      "image/png": "[encoded data removed]",
      "text/plain": [
       "<Figure size 360x432 with 1 Axes>"
      ]
     },
     "metadata": {
      "needs_background": "light"
     },
     "output_type": "display_data"
    }
   ],
   "source": [
    "def ABS_SHAP(df_shap,df):\n",
    "    #import matplotlib as plt\n",
    "    # Make a copy of the input data\n",
    "    shap_v = pd.DataFrame(df_shap)\n",
    "    feature_list = df.columns\n",
    "    shap_v.columns = feature_list\n",
    "    df_v = df.copy().reset_index().drop('index',axis=1)\n",
    "    \n",
    "    # Determine the correlation in order to plot with different colors\n",
    "    corr_list = list()\n",
    "    for i in feature_list:\n",
    "        b = np.corrcoef(shap_v[i],df_v[i])[1][0]\n",
    "        corr_list.append(b)\n",
    "    corr_df = pd.concat([pd.Series(feature_list),pd.Series(corr_list)],axis=1).fillna(0)\n",
    "    # Make a data frame. Column 1 is the feature, and Column 2 is the correlation coefficient\n",
    "    corr_df.columns  = ['Variable','Corr']\n",
    "    corr_df['Sign'] = np.where(corr_df['Corr']>0,'red','blue')\n",
    "    \n",
    "    # Plot it\n",
    "    shap_abs = np.abs(shap_v)\n",
    "    k=pd.DataFrame(shap_abs.mean()).reset_index()\n",
    "    k.columns = ['Variable','SHAP_abs']\n",
    "    k2 = k.merge(corr_df,left_on = 'Variable',right_on='Variable',how='inner')\n",
    "    k2 = k2.sort_values(by='SHAP_abs',ascending = True)\n",
    "    k2 = k2[-20:]\n",
    "    colorlist = k2['Sign']\n",
    "    ax = k2.plot.barh(x='Variable',y='SHAP_abs',color = colorlist, figsize=(5,6),legend=False)\n",
    "    ax.set_xlabel(\"SHAP Value (Red = Positive Impact)\")\n",
    "    \n",
    "ABS_SHAP(shap_values_cb,X) "
   ]
  },
  {
   "cell_type": "markdown",
   "metadata": {},
   "source": [
    "# CatBoost 20 most important vars"
   ]
  },
  {
   "cell_type": "code",
   "execution_count": 20,
   "metadata": {},
   "outputs": [],
   "source": [
    "f = len(X.columns)\n",
    "l = f-21\n",
    "ll = f-11\n"
   ]
  },
  {
   "cell_type": "code",
   "execution_count": 21,
   "metadata": {
    "scrolled": false
   },
   "outputs": [
    {
     "data": {
      "text/html": [
       "<div>\n",
       "<style scoped>\n",
       "    .dataframe tbody tr th:only-of-type {\n",
       "        vertical-align: middle;\n",
       "    }\n",
       "\n",
       "    .dataframe tbody tr th {\n",
       "        vertical-align: top;\n",
       "    }\n",
       "\n",
       "    .dataframe thead th {\n",
       "        text-align: right;\n",
       "    }\n",
       "</style>\n",
       "<table border=\"1\" class=\"dataframe\">\n",
       "  <thead>\n",
       "    <tr style=\"text-align: right;\">\n",
       "      <th></th>\n",
       "      <th>G_longitude</th>\n",
       "      <th>UE_v219</th>\n",
       "      <th>PRE_Roemis</th>\n",
       "      <th>UE_v184</th>\n",
       "      <th>UE_ArbquoteJ</th>\n",
       "      <th>D_Lebens</th>\n",
       "      <th>SSE_v988</th>\n",
       "      <th>INC_v775</th>\n",
       "      <th>PRE_v733</th>\n",
       "      <th>D_v599</th>\n",
       "      <th>D_ldergeburten201</th>\n",
       "      <th>UE_Langze</th>\n",
       "      <th>SSE_Anteilnat</th>\n",
       "      <th>UE_v220</th>\n",
       "      <th>UE_QuoBescha</th>\n",
       "      <th>HC_Empfaenge</th>\n",
       "      <th>IS_nAutobahnen2018</th>\n",
       "      <th>UE_v376</th>\n",
       "      <th>UE_v129</th>\n",
       "      <th>IS_Oberzentren2018</th>\n",
       "    </tr>\n",
       "  </thead>\n",
       "  <tbody>\n",
       "    <tr>\n",
       "      <th>count</th>\n",
       "      <td>401.000000</td>\n",
       "      <td>401.000000</td>\n",
       "      <td>401.000000</td>\n",
       "      <td>401.000000</td>\n",
       "      <td>401.000000</td>\n",
       "      <td>401.000000</td>\n",
       "      <td>401.000000</td>\n",
       "      <td>401.000000</td>\n",
       "      <td>401.000000</td>\n",
       "      <td>401.000000</td>\n",
       "      <td>401.000000</td>\n",
       "      <td>401.000000</td>\n",
       "      <td>401.000000</td>\n",
       "      <td>401.000000</td>\n",
       "      <td>401.000000</td>\n",
       "      <td>401.000000</td>\n",
       "      <td>401.000000</td>\n",
       "      <td>401.000000</td>\n",
       "      <td>401.000000</td>\n",
       "      <td>401.000000</td>\n",
       "    </tr>\n",
       "    <tr>\n",
       "      <th>mean</th>\n",
       "      <td>9.866996</td>\n",
       "      <td>12.901742</td>\n",
       "      <td>32.242809</td>\n",
       "      <td>2.814465</td>\n",
       "      <td>5.259102</td>\n",
       "      <td>80.655960</td>\n",
       "      <td>33367.324219</td>\n",
       "      <td>14.988533</td>\n",
       "      <td>13.063090</td>\n",
       "      <td>23.700602</td>\n",
       "      <td>16.510975</td>\n",
       "      <td>32.202751</td>\n",
       "      <td>5.101742</td>\n",
       "      <td>34.556618</td>\n",
       "      <td>52.529175</td>\n",
       "      <td>50.857368</td>\n",
       "      <td>11.857856</td>\n",
       "      <td>20.240156</td>\n",
       "      <td>5.669324</td>\n",
       "      <td>22.563591</td>\n",
       "    </tr>\n",
       "    <tr>\n",
       "      <th>std</th>\n",
       "      <td>2.026269</td>\n",
       "      <td>2.768405</td>\n",
       "      <td>24.361435</td>\n",
       "      <td>3.325890</td>\n",
       "      <td>2.706737</td>\n",
       "      <td>1.012629</td>\n",
       "      <td>30681.785156</td>\n",
       "      <td>4.460500</td>\n",
       "      <td>6.197584</td>\n",
       "      <td>0.656121</td>\n",
       "      <td>8.783781</td>\n",
       "      <td>8.077894</td>\n",
       "      <td>3.710643</td>\n",
       "      <td>13.284163</td>\n",
       "      <td>3.597842</td>\n",
       "      <td>6.518343</td>\n",
       "      <td>8.366137</td>\n",
       "      <td>4.537329</td>\n",
       "      <td>9.243236</td>\n",
       "      <td>16.033613</td>\n",
       "    </tr>\n",
       "    <tr>\n",
       "      <th>min</th>\n",
       "      <td>6.083333</td>\n",
       "      <td>6.100000</td>\n",
       "      <td>1.700000</td>\n",
       "      <td>-7.200000</td>\n",
       "      <td>1.400000</td>\n",
       "      <td>77.860001</td>\n",
       "      <td>1062.000000</td>\n",
       "      <td>1.000000</td>\n",
       "      <td>5.600000</td>\n",
       "      <td>22.020000</td>\n",
       "      <td>-9.600000</td>\n",
       "      <td>10.500000</td>\n",
       "      <td>0.900000</td>\n",
       "      <td>4.600000</td>\n",
       "      <td>40.400002</td>\n",
       "      <td>28.600000</td>\n",
       "      <td>0.000000</td>\n",
       "      <td>10.800000</td>\n",
       "      <td>-22.299999</td>\n",
       "      <td>0.000000</td>\n",
       "    </tr>\n",
       "    <tr>\n",
       "      <th>25%</th>\n",
       "      <td>8.216666</td>\n",
       "      <td>11.100000</td>\n",
       "      <td>7.900000</td>\n",
       "      <td>0.500000</td>\n",
       "      <td>2.900000</td>\n",
       "      <td>80.010002</td>\n",
       "      <td>15678.000000</td>\n",
       "      <td>12.600000</td>\n",
       "      <td>8.900000</td>\n",
       "      <td>23.270000</td>\n",
       "      <td>11.700000</td>\n",
       "      <td>25.600000</td>\n",
       "      <td>2.700000</td>\n",
       "      <td>26.100000</td>\n",
       "      <td>50.500000</td>\n",
       "      <td>46.400002</td>\n",
       "      <td>6.000000</td>\n",
       "      <td>17.000000</td>\n",
       "      <td>1.000000</td>\n",
       "      <td>13.000000</td>\n",
       "    </tr>\n",
       "    <tr>\n",
       "      <th>50%</th>\n",
       "      <td>9.766666</td>\n",
       "      <td>12.900000</td>\n",
       "      <td>29.100000</td>\n",
       "      <td>3.100000</td>\n",
       "      <td>4.900000</td>\n",
       "      <td>80.629997</td>\n",
       "      <td>24587.000000</td>\n",
       "      <td>15.000000</td>\n",
       "      <td>10.900000</td>\n",
       "      <td>23.680000</td>\n",
       "      <td>17.600000</td>\n",
       "      <td>32.700001</td>\n",
       "      <td>4.300000</td>\n",
       "      <td>32.000000</td>\n",
       "      <td>52.700001</td>\n",
       "      <td>51.099998</td>\n",
       "      <td>10.000000</td>\n",
       "      <td>19.299999</td>\n",
       "      <td>8.500000</td>\n",
       "      <td>23.000000</td>\n",
       "    </tr>\n",
       "    <tr>\n",
       "      <th>75%</th>\n",
       "      <td>11.416667</td>\n",
       "      <td>14.800000</td>\n",
       "      <td>52.299999</td>\n",
       "      <td>5.100000</td>\n",
       "      <td>6.600000</td>\n",
       "      <td>81.440002</td>\n",
       "      <td>39522.000000</td>\n",
       "      <td>17.700001</td>\n",
       "      <td>15.000000</td>\n",
       "      <td>24.180000</td>\n",
       "      <td>21.900000</td>\n",
       "      <td>38.500000</td>\n",
       "      <td>6.300000</td>\n",
       "      <td>41.400002</td>\n",
       "      <td>55.099998</td>\n",
       "      <td>55.599998</td>\n",
       "      <td>15.000000</td>\n",
       "      <td>22.400000</td>\n",
       "      <td>12.000000</td>\n",
       "      <td>32.000000</td>\n",
       "    </tr>\n",
       "    <tr>\n",
       "      <th>max</th>\n",
       "      <td>14.983334</td>\n",
       "      <td>21.900000</td>\n",
       "      <td>87.800003</td>\n",
       "      <td>12.400000</td>\n",
       "      <td>16.500000</td>\n",
       "      <td>83.599998</td>\n",
       "      <td>174293.000000</td>\n",
       "      <td>35.599998</td>\n",
       "      <td>42.900002</td>\n",
       "      <td>25.719999</td>\n",
       "      <td>45.500000</td>\n",
       "      <td>53.400002</td>\n",
       "      <td>34.000000</td>\n",
       "      <td>101.000000</td>\n",
       "      <td>60.799999</td>\n",
       "      <td>66.699997</td>\n",
       "      <td>53.000000</td>\n",
       "      <td>38.500000</td>\n",
       "      <td>26.600000</td>\n",
       "      <td>69.000000</td>\n",
       "    </tr>\n",
       "  </tbody>\n",
       "</table>\n",
       "</div>"
      ],
      "text/plain": [
       "       G_longitude     UE_v219  PRE_Roemis     UE_v184  UE_ArbquoteJ  \\\n",
       "count   401.000000  401.000000  401.000000  401.000000    401.000000   \n",
       "mean      9.866996   12.901742   32.242809    2.814465      5.259102   \n",
       "std       2.026269    2.768405   24.361435    3.325890      2.706737   \n",
       "min       6.083333    6.100000    1.700000   -7.200000      1.400000   \n",
       "25%       8.216666   11.100000    7.900000    0.500000      2.900000   \n",
       "50%       9.766666   12.900000   29.100000    3.100000      4.900000   \n",
       "75%      11.416667   14.800000   52.299999    5.100000      6.600000   \n",
       "max      14.983334   21.900000   87.800003   12.400000     16.500000   \n",
       "\n",
       "         D_Lebens       SSE_v988    INC_v775    PRE_v733      D_v599  \\\n",
       "count  401.000000     401.000000  401.000000  401.000000  401.000000   \n",
       "mean    80.655960   33367.324219   14.988533   13.063090   23.700602   \n",
       "std      1.012629   30681.785156    4.460500    6.197584    0.656121   \n",
       "min     77.860001    1062.000000    1.000000    5.600000   22.020000   \n",
       "25%     80.010002   15678.000000   12.600000    8.900000   23.270000   \n",
       "50%     80.629997   24587.000000   15.000000   10.900000   23.680000   \n",
       "75%     81.440002   39522.000000   17.700001   15.000000   24.180000   \n",
       "max     83.599998  174293.000000   35.599998   42.900002   25.719999   \n",
       "\n",
       "       D_ldergeburten201   UE_Langze  SSE_Anteilnat     UE_v220  UE_QuoBescha  \\\n",
       "count         401.000000  401.000000     401.000000  401.000000    401.000000   \n",
       "mean           16.510975   32.202751       5.101742   34.556618     52.529175   \n",
       "std             8.783781    8.077894       3.710643   13.284163      3.597842   \n",
       "min            -9.600000   10.500000       0.900000    4.600000     40.400002   \n",
       "25%            11.700000   25.600000       2.700000   26.100000     50.500000   \n",
       "50%            17.600000   32.700001       4.300000   32.000000     52.700001   \n",
       "75%            21.900000   38.500000       6.300000   41.400002     55.099998   \n",
       "max            45.500000   53.400002      34.000000  101.000000     60.799999   \n",
       "\n",
       "       HC_Empfaenge  IS_nAutobahnen2018     UE_v376     UE_v129  \\\n",
       "count    401.000000          401.000000  401.000000  401.000000   \n",
       "mean      50.857368           11.857856   20.240156    5.669324   \n",
       "std        6.518343            8.366137    4.537329    9.243236   \n",
       "min       28.600000            0.000000   10.800000  -22.299999   \n",
       "25%       46.400002            6.000000   17.000000    1.000000   \n",
       "50%       51.099998           10.000000   19.299999    8.500000   \n",
       "75%       55.599998           15.000000   22.400000   12.000000   \n",
       "max       66.699997           53.000000   38.500000   26.600000   \n",
       "\n",
       "       IS_Oberzentren2018  \n",
       "count          401.000000  \n",
       "mean            22.563591  \n",
       "std             16.033613  \n",
       "min              0.000000  \n",
       "25%             13.000000  \n",
       "50%             23.000000  \n",
       "75%             32.000000  \n",
       "max             69.000000  "
      ]
     },
     "execution_count": 21,
     "metadata": {},
     "output_type": "execute_result"
    }
   ],
   "source": [
    "top20feature = X.columns[np.argsort(np.abs(shap_values_cb).mean(0))][f:l:-1]\n",
    "top10feature = X.columns[np.argsort(np.abs(shap_values_cb).mean(0))][f:ll:-1]\n",
    "\n",
    "X[top20feature].describe()"
   ]
  },
  {
   "cell_type": "code",
   "execution_count": 22,
   "metadata": {
    "scrolled": true
   },
   "outputs": [],
   "source": [
    "# initialize Pool\n",
    "train_pool20 = Pool(data=X[top20feature],\n",
    "                  label=Y,\n",
    "                 feature_names = list(X[top20feature].columns))\n",
    " \n",
    "\n",
    "# specify the training parameters \n",
    "model20 = CatBoostRegressor(random_seed=0,\n",
    "                          logging_level=\"Silent\"\n",
    "                         )\n",
    "#train the model\n",
    "cb20 = model20.fit(train_pool20)"
   ]
  },
  {
   "cell_type": "code",
   "execution_count": 23,
   "metadata": {
    "scrolled": true
   },
   "outputs": [
    {
     "name": "stdout",
     "output_type": "stream",
     "text": [
      "R2 linReg_model20:  0.9969570811979839\n",
      "RMSE linReg_model20:  0.6772394792445146\n"
     ]
    }
   ],
   "source": [
    "# prediction\n",
    "preds20 = cb20.predict(train_pool20,\n",
    "                    prediction_type=\"RawFormulaVal\"\n",
    "                  )\n",
    "#print(Y.dtype)\n",
    "preds20 = preds20.reshape(-1, 1)\n",
    "#print(preds20)\n",
    "from sklearn.linear_model import LinearRegression\n",
    "from sklearn import metrics\n",
    "reg20 = LinearRegression().fit(preds20, Y)\n",
    "print(\"R2 linReg_model20: \", reg.score(preds20, Y))\n",
    "print(\"RMSE linReg_model20: \",metrics.mean_squared_error(preds20, Y))\n"
   ]
  },
  {
   "cell_type": "markdown",
   "metadata": {},
   "source": [
    "# R2 CatBoost top20"
   ]
  },
  {
   "cell_type": "code",
   "execution_count": 24,
   "metadata": {},
   "outputs": [
    {
     "data": {
      "text/plain": [
       "0.9967381108684165"
      ]
     },
     "execution_count": 24,
     "metadata": {},
     "output_type": "execute_result"
    }
   ],
   "source": [
    "cb20.score(X[top20feature], Y)"
   ]
  },
  {
   "cell_type": "markdown",
   "metadata": {},
   "source": [
    "# cross validation"
   ]
  },
  {
   "cell_type": "code",
   "execution_count": 25,
   "metadata": {},
   "outputs": [
    {
     "name": "stdout",
     "output_type": "stream",
     "text": [
      "0.0 % done;   R2_reg_test: 0.007226354648324218\n",
      "2.5 % done;   R2_reg_test: 0.05163366001393355\n",
      "5.0 % done;   R2_reg_test: 0.15755858887427965\n",
      "7.5 % done;   R2_reg_test: 0.02073312053279308\n",
      "10.0 % done;   R2_reg_test: 0.15899644956555392\n",
      "12.5 % done;   R2_reg_test: 0.009293397154516603\n",
      "15.0 % done;   R2_reg_test: 0.26970483082432684\n",
      "17.5 % done;   R2_reg_test: 0.011602002415599943\n",
      "20.0 % done;   R2_reg_test: 0.030494508876426463\n",
      "22.5 % done;   R2_reg_test: 0.12694554514717804\n",
      "25.0 % done;   R2_reg_test: 0.22702968022505887\n",
      "27.500000000000004 % done;   R2_reg_test: 0.05513718632865561\n",
      "30.0 % done;   R2_reg_test: 0.34542580528628597\n",
      "32.5 % done;   R2_reg_test: 0.047304434644210636\n",
      "35.0 % done;   R2_reg_test: 0.016231477366590807\n",
      "37.5 % done;   R2_reg_test: 0.14870469102242023\n",
      "40.0 % done;   R2_reg_test: 0.05326130636463855\n",
      "42.5 % done;   R2_reg_test: 0.19102321501825348\n",
      "45.0 % done;   R2_reg_test: 0.19317020653055716\n",
      "47.5 % done;   R2_reg_test: 0.13172733276457915\n",
      "50.0 % done;   R2_reg_test: 0.1860565418025345\n",
      "52.5 % done;   R2_reg_test: 0.11340101904533817\n",
      "55.00000000000001 % done;   R2_reg_test: 0.024530994058162503\n",
      "57.49999999999999 % done;   R2_reg_test: 0.11763040282552206\n",
      "60.0 % done;   R2_reg_test: 0.07171751624735101\n",
      "62.5 % done;   R2_reg_test: 0.12267293388401124\n",
      "65.0 % done;   R2_reg_test: 0.1497602031842843\n",
      "67.5 % done;   R2_reg_test: 0.02378097503787413\n",
      "70.0 % done;   R2_reg_test: 0.03496105637501823\n",
      "72.5 % done;   R2_reg_test: 0.19490422322905754\n",
      "75.0 % done;   R2_reg_test: 0.049686341130799616\n",
      "77.5 % done;   R2_reg_test: 0.133651980928834\n",
      "80.0 % done;   R2_reg_test: 0.16857679436205375\n",
      "82.5 % done;   R2_reg_test: 0.18597999668856535\n",
      "85.0 % done;   R2_reg_test: 0.2183713080387807\n",
      "87.5 % done;   R2_reg_test: 0.26946165325988425\n",
      "90.0 % done;   R2_reg_test: 0.1388332302121127\n",
      "92.5 % done;   R2_reg_test: 0.024211657693962607\n",
      "95.0 % done;   R2_reg_test: 0.11539955111343814\n",
      "97.5 % done;   R2_reg_test: 0.2034361991953152\n"
     ]
    }
   ],
   "source": [
    "# all\n",
    "import random\n",
    "iterations = range(0,40)\n",
    "r2_reg_k_test = list(range(0,40))\n",
    "rmse_reg_k_test = list(range(0,40))\n",
    "r2_cb_k_train = list(range(0,40))\n",
    "r2_cb_k_test = list(range(0,40))\n",
    "for i in iterations:\n",
    "    rs = random.sample(range(0,401), 100)\n",
    "    k_test_x = X.iloc[rs]\n",
    "    k_test_y = Y.iloc[rs]\n",
    "    k_train_x = X.drop(rs)\n",
    "    k_train_y = Y.drop(rs)\n",
    "    # initialize Pool \n",
    "    train_pool_k = Pool(data=k_train_x,\n",
    "                        label=k_train_y,\n",
    "                        feature_names = list(X.columns))\n",
    "        \n",
    "    test_pool_k = Pool(data=k_test_x,\n",
    "                       label=k_test_y,\n",
    "                       feature_names = list(X.columns))\n",
    " \n",
    "    model = CatBoostRegressor(random_seed=0, logging_level=\"Silent\")\n",
    "    #train the model\n",
    "    cb_k = model.fit(train_pool_k)\n",
    "    # make the prediction using the resulting model\n",
    "    preds_k = cb_k.predict(test_pool_k,\n",
    "                    prediction_type=\"RawFormulaVal\"\n",
    "                  )\n",
    "    preds_k = preds_k.reshape(-1, 1)\n",
    "    #LinearRegression\n",
    "    from sklearn.linear_model import LinearRegression\n",
    "    from sklearn import metrics\n",
    "    reg_k = LinearRegression().fit(preds_k, k_test_y)\n",
    "    print(i/len(iterations)*100, \"% done; \",\" R2_reg_test:\",reg_k.score(preds_k, k_test_y)) \n",
    "    #print(\"RMSE\",metrics.mean_squared_error(preds_k, k_test_y)) \n",
    "    #print(\"R2_cb_train:\",cb_k.score(train_pool_k)) \n",
    "    #print(\"R2_cb_test:\",cb_k.score(test_pool_k))\n",
    "    \n",
    "    r2_reg_k_test[i] = reg_k.score(preds_k, k_test_y)\n",
    "    rmse_reg_k_test[i] = metrics.mean_squared_error(preds_k, k_test_y)\n",
    "    r2_cb_k_train[i] = cb_k.score(train_pool_k)\n",
    "    r2_cb_k_test[i] =  cb_k.score(test_pool_k)"
   ]
  },
  {
   "cell_type": "code",
   "execution_count": 26,
   "metadata": {},
   "outputs": [
    {
     "name": "stdout",
     "output_type": "stream",
     "text": [
      "Mean R2 of linReg_modesl:  0.12000570929792706\n",
      "Mean R2 of CatBoost_models: 0.9996790873670559\n"
     ]
    }
   ],
   "source": [
    "print(\"Mean R2 of linReg_modesl: \", sum(r2_reg_k_test)/len(r2_reg_k_test))\n",
    "print(\"Mean R2 of CatBoost_models:\",sum(r2_cb_k_train)/len(r2_cb_k_train))"
   ]
  },
  {
   "cell_type": "code",
   "execution_count": 27,
   "metadata": {},
   "outputs": [
    {
     "name": "stdout",
     "output_type": "stream",
     "text": [
      "0.0 % done;   R2_reg_test: 0.21416846351991647\n",
      "2.5 % done;   R2_reg_test: 0.2537553432248173\n",
      "5.0 % done;   R2_reg_test: 0.22091314987578226\n",
      "7.5 % done;   R2_reg_test: 0.12483996804503594\n",
      "10.0 % done;   R2_reg_test: 0.05956767327808854\n",
      "12.5 % done;   R2_reg_test: 0.1513094741763843\n",
      "15.0 % done;   R2_reg_test: 0.08632558605702623\n",
      "17.5 % done;   R2_reg_test: 0.05270947272945725\n",
      "20.0 % done;   R2_reg_test: 0.26545263576189215\n",
      "22.5 % done;   R2_reg_test: 0.19998573464883562\n",
      "25.0 % done;   R2_reg_test: 0.2193913983445921\n",
      "27.500000000000004 % done;   R2_reg_test: 0.06858272461300263\n",
      "30.0 % done;   R2_reg_test: 0.0424235559116104\n",
      "32.5 % done;   R2_reg_test: 0.06494692333221785\n",
      "35.0 % done;   R2_reg_test: 0.2622600660033514\n",
      "37.5 % done;   R2_reg_test: 0.15374655802308346\n",
      "40.0 % done;   R2_reg_test: 0.04291225854556202\n",
      "42.5 % done;   R2_reg_test: 0.2607651371479317\n",
      "45.0 % done;   R2_reg_test: 0.09359367714232292\n",
      "47.5 % done;   R2_reg_test: 0.1946304207117021\n",
      "50.0 % done;   R2_reg_test: 0.09182901875916893\n",
      "52.5 % done;   R2_reg_test: 0.27955467925983\n",
      "55.00000000000001 % done;   R2_reg_test: 0.17959358546605475\n",
      "57.49999999999999 % done;   R2_reg_test: 0.07537043431599466\n",
      "60.0 % done;   R2_reg_test: 0.2760262596691875\n",
      "62.5 % done;   R2_reg_test: 0.0494289442348268\n",
      "65.0 % done;   R2_reg_test: 0.05051848680153992\n",
      "67.5 % done;   R2_reg_test: 0.24323140737240023\n",
      "70.0 % done;   R2_reg_test: 0.0633082733052609\n",
      "72.5 % done;   R2_reg_test: 0.2117666502353055\n",
      "75.0 % done;   R2_reg_test: 0.051870478259820274\n",
      "77.5 % done;   R2_reg_test: 0.09652560309204294\n",
      "80.0 % done;   R2_reg_test: 0.26762588228446926\n",
      "82.5 % done;   R2_reg_test: 0.05991680872552951\n",
      "85.0 % done;   R2_reg_test: 0.3091356514136451\n",
      "87.5 % done;   R2_reg_test: 0.17869167842354028\n",
      "90.0 % done;   R2_reg_test: 0.04010385626510271\n",
      "92.5 % done;   R2_reg_test: 0.2329597529672074\n",
      "95.0 % done;   R2_reg_test: 0.20232648322257119\n",
      "97.5 % done;   R2_reg_test: 0.22238763911269532\n"
     ]
    }
   ],
   "source": [
    "import random\n",
    "iterations = range(0,40)\n",
    "r2_reg_k_test = list(range(0,40))\n",
    "rmse_reg_k_test = list(range(0,40))\n",
    "r2_cb_k_train = list(range(0,40))\n",
    "r2_cb_k_test = list(range(0,40))\n",
    "for i in iterations:\n",
    "    rs = random.sample(range(0,401), 100)\n",
    "    k_test_x = X[top20feature].iloc[rs]\n",
    "    k_test_y = Y.iloc[rs]\n",
    "    k_train_x = X[top20feature].drop(rs)\n",
    "    k_train_y = Y.drop(rs)\n",
    "    # initialize Pool \n",
    "    train_pool_k = Pool(data=k_train_x,\n",
    "                        label=k_train_y,\n",
    "                        feature_names = list(X[top20feature].columns))\n",
    "        \n",
    "    test_pool_k = Pool(data=k_test_x,\n",
    "                       label=k_test_y,\n",
    "                       feature_names = list(X[top20feature].columns))\n",
    " \n",
    "    model = CatBoostRegressor(random_seed=0, logging_level=\"Silent\")\n",
    "    #train the model\n",
    "    cb_k = model.fit(train_pool_k)\n",
    "    # make the prediction using the resulting model\n",
    "    preds_k = cb_k.predict(test_pool_k,\n",
    "                    prediction_type=\"RawFormulaVal\"\n",
    "                  )\n",
    "    preds_k = preds_k.reshape(-1, 1)\n",
    "    #LinearRegression\n",
    "    from sklearn.linear_model import LinearRegression\n",
    "    from sklearn import metrics\n",
    "    reg_k = LinearRegression().fit(preds_k, k_test_y)\n",
    "    print(i/len(iterations)*100, \"% done; \",\" R2_reg_test:\",reg_k.score(preds_k, k_test_y)) \n",
    "    #print(\"RMSE\",metrics.mean_squared_error(preds_k, k_test_y)) \n",
    "    #print(\"R2_cb_train:\",cb_k.score(train_pool_k)) \n",
    "    #print(\"R2_cb_test:\",cb_k.score(test_pool_k))\n",
    "    \n",
    "    r2_reg_k_test[i] = reg_k.score(preds_k, k_test_y)\n",
    "    rmse_reg_k_test[i] = metrics.mean_squared_error(preds_k, k_test_y)\n",
    "    r2_cb_k_train[i] = cb_k.score(train_pool_k)\n",
    "    r2_cb_k_test[i] =  cb_k.score(test_pool_k)"
   ]
  },
  {
   "cell_type": "code",
   "execution_count": 28,
   "metadata": {},
   "outputs": [
    {
     "name": "stdout",
     "output_type": "stream",
     "text": [
      "Mean R2 of linReg_modesl:  0.15536129485697017\n",
      "Mean R2 of CatBoost_models: 0.9977782704561973\n"
     ]
    }
   ],
   "source": [
    "print(\"Mean R2 of linReg_modesl: \", sum(r2_reg_k_test)/len(r2_reg_k_test))\n",
    "print(\"Mean R2 of CatBoost_models:\",sum(r2_cb_k_train)/len(r2_cb_k_train))"
   ]
  },
  {
   "cell_type": "code",
   "execution_count": null,
   "metadata": {},
   "outputs": [],
   "source": []
  },
  {
   "cell_type": "code",
   "execution_count": null,
   "metadata": {},
   "outputs": [],
   "source": []
  }
 ],
 "metadata": {
  "colab": {
   "authorship_tag": "ABX9TyMWhnXKQzcfLiYCEg/+9SjG",
   "include_colab_link": true,
   "name": "Deutschland-COVID19-SHAP-0to75.ipynb",
   "provenance": []
  },
  "kernelspec": {
   "display_name": "Python 3",
   "language": "python",
   "name": "python3"
  },
  "language_info": {
   "codemirror_mode": {
    "name": "ipython",
    "version": 3
   },
   "file_extension": ".py",
   "mimetype": "text/x-python",
   "name": "python",
   "nbconvert_exporter": "python",
   "pygments_lexer": "ipython3",
   "version": "3.8.3"
  }
 },
 "nbformat": 4,
 "nbformat_minor": 1
}
