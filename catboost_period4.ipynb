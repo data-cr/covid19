{
 "cells": [
  {
   "cell_type": "markdown",
   "metadata": {},
   "source": [
    "# Total 106-121"
   ]
  },
  {
   "cell_type": "code",
   "execution_count": 1,
   "metadata": {
    "colab": {},
    "colab_type": "code",
    "id": "n82x6ZiuEc6Y"
   },
   "outputs": [],
   "source": [
    "import pandas as pd\n",
    "import numpy as np\n",
    "from sklearn import preprocessing\n",
    "from sklearn.ensemble import RandomForestRegressor\n",
    "import matplotlib.pyplot as plt\n",
    "from matplotlib import rcParams\n",
    "import shap\n",
    "from sklearn.linear_model import LinearRegression\n",
    "from sklearn import metrics\n",
    "\n",
    "from catboost import Pool, CatBoostRegressor, cv\n",
    "from catboost.utils import eval_metric"
   ]
  },
  {
   "cell_type": "markdown",
   "metadata": {},
   "source": [
    "# Data"
   ]
  },
  {
   "cell_type": "code",
   "execution_count": 2,
   "metadata": {
    "colab": {
     "base_uri": "https://localhost:8080/",
     "height": 102
    },
    "colab_type": "code",
    "id": "bU8US8hcEfDF",
    "outputId": "4cfadb8a-123b-4a04-d7db-aa42f66e4d7d"
   },
   "outputs": [
    {
     "name": "stderr",
     "output_type": "stream",
     "text": [
      "\n",
      "One or more strings in the dta file could not be decoded using utf-8, and\n",
      "so the fallback encoding of latin-1 is being used.  This can happen when a file\n",
      "has been incorrectly encoded by Stata or some other software. You should verify\n",
      "the string values returned are correct.\n"
     ]
    }
   ],
   "source": [
    "df = pd.read_stata('W:\\COVID19\\std_inz106_121.dta')"
   ]
  },
  {
   "cell_type": "code",
   "execution_count": 3,
   "metadata": {
    "colab": {},
    "colab_type": "code",
    "id": "zz6U5PboEnnG",
    "scrolled": false
   },
   "outputs": [
    {
     "name": "stdout",
     "output_type": "stream",
     "text": [
      "Number of features:  163\n"
     ]
    }
   ],
   "source": [
    "Y = df['std_inz_106to121']\n",
    "X = df.loc[:, ~df.columns.isin(['std_inz_106to121', 'eastwest'])]\n",
    "print(\"Number of features: \", len(X.columns))"
   ]
  },
  {
   "cell_type": "markdown",
   "metadata": {},
   "source": [
    "# First CatBoost Model with 162 features"
   ]
  },
  {
   "cell_type": "code",
   "execution_count": 4,
   "metadata": {},
   "outputs": [
    {
     "name": "stdout",
     "output_type": "stream",
     "text": [
      "R2 of final model on all data:  0.9990659721495803\n"
     ]
    }
   ],
   "source": [
    "# initialize Pool\n",
    "train_pool = Pool(X,Y)\n",
    " \n",
    "\n",
    "# specify the training parameters \n",
    "model = CatBoostRegressor(random_seed=0, logging_level = 'Silent')\n",
    "#train the model\n",
    "cb = model.fit(train_pool)\n",
    "print(\"R2 of final model on all data: \",cb.score(X, Y))"
   ]
  },
  {
   "cell_type": "code",
   "execution_count": 5,
   "metadata": {},
   "outputs": [
    {
     "name": "stdout",
     "output_type": "stream",
     "text": [
      "RMSE of final model on all data:  1.0441548173827364\n"
     ]
    }
   ],
   "source": [
    "preds = cb.predict(train_pool,\n",
    "                    prediction_type=\"RawFormulaVal\"\n",
    "                  )\n",
    "\n",
    "print(\"RMSE of final model on all data: \", eval_metric(Y, preds, 'RMSE')[0])"
   ]
  },
  {
   "cell_type": "markdown",
   "metadata": {},
   "source": [
    "# SHAP VAlues"
   ]
  },
  {
   "cell_type": "code",
   "execution_count": 6,
   "metadata": {},
   "outputs": [],
   "source": [
    "shap_values_cb = shap.TreeExplainer(cb).shap_values(X)"
   ]
  },
  {
   "cell_type": "code",
   "execution_count": 7,
   "metadata": {},
   "outputs": [
    {
     "name": "stderr",
     "output_type": "stream",
     "text": [
      "invalid value encountered in true_divide\n",
      "invalid value encountered in true_divide\n"
     ]
    },
    {
     "data": {
      "image/png": "[encoded data removed]",
      "text/plain": [
       "<Figure size 360x432 with 1 Axes>"
      ]
     },
     "metadata": {
      "needs_background": "light"
     },
     "output_type": "display_data"
    }
   ],
   "source": [
    "def ABS_SHAP(df_shap,df):\n",
    "    # Make a copy of the input data\n",
    "    shap_v = pd.DataFrame(df_shap)\n",
    "    feature_list = df.columns\n",
    "    shap_v.columns = feature_list\n",
    "    df_v = df.copy().reset_index().drop('index',axis=1)\n",
    "    \n",
    "    # Determine the correlation in order to plot with different colors\n",
    "    corr_list = list()\n",
    "    for i in feature_list:\n",
    "        b = np.corrcoef(shap_v[i],df_v[i])[1][0]\n",
    "        corr_list.append(b)\n",
    "    corr_df = pd.concat([pd.Series(feature_list),pd.Series(corr_list)],axis=1).fillna(0)\n",
    "    # Make a data frame. Column 1 is the feature, and Column 2 is the correlation coefficient\n",
    "    corr_df.columns  = ['Variable','Corr']\n",
    "    corr_df['Sign'] = np.where(corr_df['Corr']>0,'red','blue')\n",
    "    \n",
    "    # Plot it\n",
    "    shap_abs = np.abs(shap_v)\n",
    "    k=pd.DataFrame(shap_abs.mean()).reset_index()\n",
    "    k.columns = ['Variable','SHAP_abs']\n",
    "    k2 = k.merge(corr_df,left_on = 'Variable',right_on='Variable',how='inner')\n",
    "    k2 = k2.sort_values(by='SHAP_abs',ascending = True)[-20::]\n",
    "    colorlist = k2['Sign']\n",
    "    ax = k2.plot.barh(x='Variable',y='SHAP_abs',color = colorlist, figsize=(5,6),legend=False)\n",
    "    ax.set_xlabel(\"SHAP Value (Red = Positive Impact)\")\n",
    "    \n",
    "ABS_SHAP(shap_values_cb,X) "
   ]
  },
  {
   "cell_type": "markdown",
   "metadata": {},
   "source": [
    "# Second CatBoost model with 20 most important features"
   ]
  },
  {
   "cell_type": "code",
   "execution_count": 8,
   "metadata": {
    "scrolled": true
   },
   "outputs": [],
   "source": [
    "top20feature = X.columns[np.argsort(np.abs(shap_values_cb).mean(0))][-20:][::-1]\n",
    "top10feature = X.columns[np.argsort(np.abs(shap_values_cb).mean(0))][-10:][::-1]"
   ]
  },
  {
   "cell_type": "code",
   "execution_count": 9,
   "metadata": {},
   "outputs": [
    {
     "name": "stdout",
     "output_type": "stream",
     "text": [
      "R2 of second model with top20 feature:  0.9958684749262208\n"
     ]
    }
   ],
   "source": [
    "# initialize Pool\n",
    "train_pool_20 = Pool(X[top20feature],Y)\n",
    " \n",
    "\n",
    "# specify the training parameters \n",
    "model = CatBoostRegressor(random_seed=0, logging_level = 'Silent')\n",
    "#train the model\n",
    "cb_20 = model.fit(train_pool_20)\n",
    "print(\"R2 of second model with top20 feature: \",cb_20.score(X[top20feature], Y))"
   ]
  },
  {
   "cell_type": "code",
   "execution_count": 10,
   "metadata": {},
   "outputs": [
    {
     "name": "stdout",
     "output_type": "stream",
     "text": [
      "RMSE of second model on top20 data:  2.1960396639534396\n"
     ]
    }
   ],
   "source": [
    "preds_20 = cb_20.predict(train_pool_20,\n",
    "                    prediction_type=\"RawFormulaVal\"\n",
    "                  )\n",
    "\n",
    "print(\"RMSE of second model on top20 data: \", eval_metric(Y, preds_20, 'RMSE')[0])"
   ]
  },
  {
   "cell_type": "markdown",
   "metadata": {},
   "source": [
    "# Compare top 10 features of both Models"
   ]
  },
  {
   "cell_type": "code",
   "execution_count": 11,
   "metadata": {
    "scrolled": false
   },
   "outputs": [
    {
     "name": "stdout",
     "output_type": "stream",
     "text": [
      "10 most important features from model with all features: \n",
      " ['std_inz_91to106', 'IS_Strass', 'SSE_grand_sd_', 'UE_v342', 'SSE_Anteilnat', 'IS_weg50kmundmehr2', 'G_longitude', 'UE_Kurzar', 'INC_v801', 'UE_v190'] \n",
      "\n",
      " 10 most important features from model with top20 features: \n",
      " ['std_inz_91to106', 'IS_Strass', 'UE_v359', 'G_longitude', 'SSE_grand_sd_', 'UE_v342', 'UE_v190', 'INC_v801', 'HC_aerztever', 'D_Aussen']\n"
     ]
    }
   ],
   "source": [
    "shap_values_cb_20 = shap.TreeExplainer(cb_20).shap_values(X[top20feature])\n",
    "\n",
    "top10feature_from_top_20 = X[top20feature].columns[np.argsort(np.abs(shap_values_cb_20).mean(0))][-10:][::-1]\n",
    "\n",
    "print(\"10 most important features from model with all features:\", \"\\n\", list(top10feature), \"\\n\\n\",\n",
    "     \"10 most important features from model with top20 features:\", \"\\n\", list(top10feature_from_top_20)) "
   ]
  },
  {
   "cell_type": "code",
   "execution_count": 12,
   "metadata": {
    "scrolled": true
   },
   "outputs": [
    {
     "name": "stdout",
     "output_type": "stream",
     "text": [
      "std_inz_91to106\n",
      "IS_Strass\n",
      "SSE_grand_sd_\n",
      "UE_v342\n",
      "G_longitude\n",
      "INC_v801\n",
      "UE_v190\n"
     ]
    }
   ],
   "source": [
    "# features which are on top10 of both models:\n",
    "for i in top10feature :\n",
    "    if i in list(top10feature_from_top_20) :\n",
    "         print(i)"
   ]
  },
  {
   "cell_type": "code",
   "execution_count": 13,
   "metadata": {},
   "outputs": [
    {
     "data": {
      "image/png": "[encoded data removed]",
      "text/plain": [
       "<Figure size 360x432 with 1 Axes>"
      ]
     },
     "metadata": {
      "needs_background": "light"
     },
     "output_type": "display_data"
    }
   ],
   "source": [
    "ABS_SHAP(shap_values_cb_20,X[top20feature]) "
   ]
  },
  {
   "cell_type": "markdown",
   "metadata": {},
   "source": [
    "# Hold out validation of the second model"
   ]
  },
  {
   "cell_type": "code",
   "execution_count": 14,
   "metadata": {
    "scrolled": true
   },
   "outputs": [
    {
     "name": "stdout",
     "output_type": "stream",
     "text": [
      "0.0 %   5.0 %   10.0 %   15.0 %   20.0 %   25.0 %   30.0 %   35.0 %   40.0 %   45.0 %   50.0 %   55.00000000000001 %   60.0 %   65.0 %   70.0 %   75.0 %   80.0 %   85.0 %   90.0 %   95.0 %   "
     ]
    }
   ],
   "source": [
    "import random\n",
    "iterations = range(0,20)\n",
    "\n",
    "r2_reg_k_test_top20 = list(range(0,20))\n",
    "rmse_reg_k_test_top20 = list(range(0,20))\n",
    "r2_cb_k_train_top20 = list(range(0,20))\n",
    "r2_cb_k_test_top20 = list(range(0,20))\n",
    "\n",
    "for i in iterations:\n",
    "    rs = random.sample(range(0,401), 80)\n",
    "    k_test_x = X[top20feature].iloc[rs]\n",
    "    k_test_y = Y.iloc[rs]\n",
    "    k_train_x = X[top20feature].drop(rs)\n",
    "    k_train_y = Y.drop(rs)\n",
    "    # initialize Pool \n",
    "    train_pool_k = Pool(data=k_train_x,\n",
    "                        label=k_train_y,\n",
    "                        feature_names = list(X[top20feature].columns))\n",
    "        \n",
    "    test_pool_k = Pool(data=k_test_x,\n",
    "                       label=k_test_y,\n",
    "                       feature_names = list(X[top20feature].columns))\n",
    "\n",
    "    \n",
    "    #fit the model\n",
    "    model = CatBoostRegressor(random_seed=0,\n",
    "                              logging_level=\"Silent\",\n",
    "                              #iterations = scores_k.sort_values(by= \"test-R2-mean\")[\"iterations\"].iloc[-1]\n",
    "                             )\n",
    "\n",
    "    cb_k = model.fit(train_pool_k)\n",
    "    \n",
    "    # make the prediction using the resulting model\n",
    "    preds_k = cb_k.predict(test_pool_k,\n",
    "                    prediction_type=\"RawFormulaVal\"\n",
    "                  )\n",
    "    \n",
    "    rmse_reg_k_test_top20[i] = eval_metric(np.array(k_test_y), preds_k, \"RMSE\")[0]\n",
    "    \n",
    "    preds_k = preds_k.reshape(-1, 1)\n",
    "    #LinearRegression\n",
    "    reg_k = LinearRegression().fit(preds_k, k_test_y)\n",
    "\n",
    "    \n",
    "    r2_cb_k_train_top20[i] = cb_k.score(train_pool_k)\n",
    "    r2_reg_k_test_top20[i] = reg_k.score(preds_k, k_test_y)\n",
    "\n",
    "    r2_cb_k_test_top20[i] =  cb_k.score(test_pool_k)\n",
    "    \n",
    "    print(i/len(iterations)*100,\"%\", \"  \" , end=\"\")"
   ]
  },
  {
   "cell_type": "code",
   "execution_count": 15,
   "metadata": {},
   "outputs": [
    {
     "name": "stdout",
     "output_type": "stream",
     "text": [
      "Mean R2 of CatBoost_models on train sets with top20 features: 0.9979204348962607\n",
      "Mean R2 of linReg_modesl with top20 features:  0.5464497575576485\n",
      "Mean RMSE of CatBoost_models on test sets with top20 features:  23.484563322209162\n",
      "Mean R2 of CatBoost_models on test sets with top20 features: 0.5191912135273461\n"
     ]
    }
   ],
   "source": [
    "print(\"Mean R2 of CatBoost_models on train sets with top20 features:\",sum(r2_cb_k_train_top20)/len(r2_cb_k_train_top20))\n",
    "print(\"Mean R2 of linReg_modesl with top20 features: \", sum(r2_reg_k_test_top20)/len(r2_reg_k_test_top20))\n",
    "print(\"Mean RMSE of CatBoost_models on test sets with top20 features: \", sum(rmse_reg_k_test_top20)/len(rmse_reg_k_test_top20))\n",
    "print(\"Mean R2 of CatBoost_models on test sets with top20 features:\",sum(r2_cb_k_test_top20)/len(r2_cb_k_test_top20))"
   ]
  },
  {
   "cell_type": "markdown",
   "metadata": {},
   "source": [
    "# descriptives of top20 features"
   ]
  },
  {
   "cell_type": "code",
   "execution_count": 16,
   "metadata": {},
   "outputs": [
    {
     "data": {
      "text/html": [
       "<div>\n",
       "<style scoped>\n",
       "    .dataframe tbody tr th:only-of-type {\n",
       "        vertical-align: middle;\n",
       "    }\n",
       "\n",
       "    .dataframe tbody tr th {\n",
       "        vertical-align: top;\n",
       "    }\n",
       "\n",
       "    .dataframe thead th {\n",
       "        text-align: right;\n",
       "    }\n",
       "</style>\n",
       "<table border=\"1\" class=\"dataframe\">\n",
       "  <thead>\n",
       "    <tr style=\"text-align: right;\">\n",
       "      <th></th>\n",
       "      <th>std_inz_91to106</th>\n",
       "      <th>IS_Strass</th>\n",
       "      <th>SSE_grand_sd_</th>\n",
       "      <th>UE_v342</th>\n",
       "      <th>SSE_Anteilnat</th>\n",
       "      <th>IS_weg50kmundmehr2</th>\n",
       "      <th>G_longitude</th>\n",
       "      <th>UE_Kurzar</th>\n",
       "      <th>INC_v801</th>\n",
       "      <th>UE_v190</th>\n",
       "      <th>HC_aerztever</th>\n",
       "      <th>D_fertil</th>\n",
       "      <th>UE_AnteArbei</th>\n",
       "      <th>UE_v359</th>\n",
       "      <th>SSE_weighted_</th>\n",
       "      <th>D_Aussen</th>\n",
       "      <th>D_Gesamt</th>\n",
       "      <th>INC_v1161</th>\n",
       "      <th>D_Auslae</th>\n",
       "      <th>PRE_v698</th>\n",
       "    </tr>\n",
       "  </thead>\n",
       "  <tbody>\n",
       "    <tr>\n",
       "      <th>count</th>\n",
       "      <td>401.000000</td>\n",
       "      <td>401.000000</td>\n",
       "      <td>401.000000</td>\n",
       "      <td>401.000000</td>\n",
       "      <td>401.000000</td>\n",
       "      <td>401.000000</td>\n",
       "      <td>401.000000</td>\n",
       "      <td>401.000000</td>\n",
       "      <td>401.000000</td>\n",
       "      <td>401.000000</td>\n",
       "      <td>401.000000</td>\n",
       "      <td>401.000000</td>\n",
       "      <td>401.000000</td>\n",
       "      <td>401.000000</td>\n",
       "      <td>401.000000</td>\n",
       "      <td>401.000000</td>\n",
       "      <td>401.000000</td>\n",
       "      <td>401.000000</td>\n",
       "      <td>401.000000</td>\n",
       "      <td>401.000000</td>\n",
       "    </tr>\n",
       "    <tr>\n",
       "      <th>mean</th>\n",
       "      <td>79.007408</td>\n",
       "      <td>491.092926</td>\n",
       "      <td>0.597951</td>\n",
       "      <td>3.798502</td>\n",
       "      <td>5.101742</td>\n",
       "      <td>11.484290</td>\n",
       "      <td>9.866996</td>\n",
       "      <td>0.752618</td>\n",
       "      <td>2846.079834</td>\n",
       "      <td>11.710718</td>\n",
       "      <td>61.357845</td>\n",
       "      <td>1.632219</td>\n",
       "      <td>22.971313</td>\n",
       "      <td>68.926407</td>\n",
       "      <td>0.676074</td>\n",
       "      <td>4.806734</td>\n",
       "      <td>5.103242</td>\n",
       "      <td>35.613968</td>\n",
       "      <td>10.034920</td>\n",
       "      <td>32.458591</td>\n",
       "    </tr>\n",
       "    <tr>\n",
       "      <th>std</th>\n",
       "      <td>72.684265</td>\n",
       "      <td>87.669609</td>\n",
       "      <td>0.373193</td>\n",
       "      <td>3.631349</td>\n",
       "      <td>3.710643</td>\n",
       "      <td>3.481254</td>\n",
       "      <td>2.026269</td>\n",
       "      <td>1.440882</td>\n",
       "      <td>926.153870</td>\n",
       "      <td>3.008996</td>\n",
       "      <td>26.108397</td>\n",
       "      <td>0.134031</td>\n",
       "      <td>4.190943</td>\n",
       "      <td>11.196052</td>\n",
       "      <td>0.382720</td>\n",
       "      <td>6.630641</td>\n",
       "      <td>4.276379</td>\n",
       "      <td>15.809457</td>\n",
       "      <td>5.149193</td>\n",
       "      <td>8.857037</td>\n",
       "    </tr>\n",
       "    <tr>\n",
       "      <th>min</th>\n",
       "      <td>3.607589</td>\n",
       "      <td>275.799988</td>\n",
       "      <td>0.099060</td>\n",
       "      <td>-8.500000</td>\n",
       "      <td>0.900000</td>\n",
       "      <td>4.900000</td>\n",
       "      <td>6.083333</td>\n",
       "      <td>0.000000</td>\n",
       "      <td>28.000000</td>\n",
       "      <td>4.600000</td>\n",
       "      <td>8.400000</td>\n",
       "      <td>1.060000</td>\n",
       "      <td>14.500000</td>\n",
       "      <td>27.500000</td>\n",
       "      <td>0.143572</td>\n",
       "      <td>-13.900000</td>\n",
       "      <td>-14.000000</td>\n",
       "      <td>16.000000</td>\n",
       "      <td>1.900000</td>\n",
       "      <td>0.000000</td>\n",
       "    </tr>\n",
       "    <tr>\n",
       "      <th>25%</th>\n",
       "      <td>34.004898</td>\n",
       "      <td>431.399994</td>\n",
       "      <td>0.368171</td>\n",
       "      <td>1.700000</td>\n",
       "      <td>2.700000</td>\n",
       "      <td>9.000000</td>\n",
       "      <td>8.216666</td>\n",
       "      <td>0.000000</td>\n",
       "      <td>2706.000000</td>\n",
       "      <td>10.600000</td>\n",
       "      <td>44.700001</td>\n",
       "      <td>1.560000</td>\n",
       "      <td>19.500000</td>\n",
       "      <td>62.099998</td>\n",
       "      <td>0.421747</td>\n",
       "      <td>1.500000</td>\n",
       "      <td>2.500000</td>\n",
       "      <td>26.799999</td>\n",
       "      <td>6.200000</td>\n",
       "      <td>26.600000</td>\n",
       "    </tr>\n",
       "    <tr>\n",
       "      <th>50%</th>\n",
       "      <td>56.944515</td>\n",
       "      <td>476.399994</td>\n",
       "      <td>0.491239</td>\n",
       "      <td>4.200000</td>\n",
       "      <td>4.300000</td>\n",
       "      <td>10.800000</td>\n",
       "      <td>9.766666</td>\n",
       "      <td>0.300000</td>\n",
       "      <td>3052.000000</td>\n",
       "      <td>12.400000</td>\n",
       "      <td>52.900002</td>\n",
       "      <td>1.650000</td>\n",
       "      <td>22.700001</td>\n",
       "      <td>70.000000</td>\n",
       "      <td>0.583280</td>\n",
       "      <td>3.700000</td>\n",
       "      <td>5.100000</td>\n",
       "      <td>31.400000</td>\n",
       "      <td>9.200000</td>\n",
       "      <td>31.700001</td>\n",
       "    </tr>\n",
       "    <tr>\n",
       "      <th>75%</th>\n",
       "      <td>107.506599</td>\n",
       "      <td>545.000000</td>\n",
       "      <td>0.715293</td>\n",
       "      <td>6.200000</td>\n",
       "      <td>6.300000</td>\n",
       "      <td>13.300000</td>\n",
       "      <td>11.416667</td>\n",
       "      <td>0.900000</td>\n",
       "      <td>3329.000000</td>\n",
       "      <td>13.600000</td>\n",
       "      <td>71.099998</td>\n",
       "      <td>1.720000</td>\n",
       "      <td>25.900000</td>\n",
       "      <td>76.699997</td>\n",
       "      <td>0.811219</td>\n",
       "      <td>6.000000</td>\n",
       "      <td>7.500000</td>\n",
       "      <td>38.799999</td>\n",
       "      <td>13.100000</td>\n",
       "      <td>38.200001</td>\n",
       "    </tr>\n",
       "    <tr>\n",
       "      <th>max</th>\n",
       "      <td>721.384521</td>\n",
       "      <td>803.599976</td>\n",
       "      <td>3.336848</td>\n",
       "      <td>18.100000</td>\n",
       "      <td>34.000000</td>\n",
       "      <td>24.200001</td>\n",
       "      <td>14.983334</td>\n",
       "      <td>19.600000</td>\n",
       "      <td>4855.000000</td>\n",
       "      <td>20.200001</td>\n",
       "      <td>164.899994</td>\n",
       "      <td>1.940000</td>\n",
       "      <td>34.700001</td>\n",
       "      <td>95.099998</td>\n",
       "      <td>3.392816</td>\n",
       "      <td>65.900002</td>\n",
       "      <td>21.299999</td>\n",
       "      <td>178.800003</td>\n",
       "      <td>35.000000</td>\n",
       "      <td>57.900002</td>\n",
       "    </tr>\n",
       "  </tbody>\n",
       "</table>\n",
       "</div>"
      ],
      "text/plain": [
       "       std_inz_91to106   IS_Strass  SSE_grand_sd_     UE_v342  SSE_Anteilnat  \\\n",
       "count       401.000000  401.000000     401.000000  401.000000     401.000000   \n",
       "mean         79.007408  491.092926       0.597951    3.798502       5.101742   \n",
       "std          72.684265   87.669609       0.373193    3.631349       3.710643   \n",
       "min           3.607589  275.799988       0.099060   -8.500000       0.900000   \n",
       "25%          34.004898  431.399994       0.368171    1.700000       2.700000   \n",
       "50%          56.944515  476.399994       0.491239    4.200000       4.300000   \n",
       "75%         107.506599  545.000000       0.715293    6.200000       6.300000   \n",
       "max         721.384521  803.599976       3.336848   18.100000      34.000000   \n",
       "\n",
       "       IS_weg50kmundmehr2  G_longitude   UE_Kurzar     INC_v801     UE_v190  \\\n",
       "count          401.000000   401.000000  401.000000   401.000000  401.000000   \n",
       "mean            11.484290     9.866996    0.752618  2846.079834   11.710718   \n",
       "std              3.481254     2.026269    1.440882   926.153870    3.008996   \n",
       "min              4.900000     6.083333    0.000000    28.000000    4.600000   \n",
       "25%              9.000000     8.216666    0.000000  2706.000000   10.600000   \n",
       "50%             10.800000     9.766666    0.300000  3052.000000   12.400000   \n",
       "75%             13.300000    11.416667    0.900000  3329.000000   13.600000   \n",
       "max             24.200001    14.983334   19.600000  4855.000000   20.200001   \n",
       "\n",
       "       HC_aerztever    D_fertil  UE_AnteArbei     UE_v359  SSE_weighted_  \\\n",
       "count    401.000000  401.000000    401.000000  401.000000     401.000000   \n",
       "mean      61.357845    1.632219     22.971313   68.926407       0.676074   \n",
       "std       26.108397    0.134031      4.190943   11.196052       0.382720   \n",
       "min        8.400000    1.060000     14.500000   27.500000       0.143572   \n",
       "25%       44.700001    1.560000     19.500000   62.099998       0.421747   \n",
       "50%       52.900002    1.650000     22.700001   70.000000       0.583280   \n",
       "75%       71.099998    1.720000     25.900000   76.699997       0.811219   \n",
       "max      164.899994    1.940000     34.700001   95.099998       3.392816   \n",
       "\n",
       "         D_Aussen    D_Gesamt   INC_v1161    D_Auslae    PRE_v698  \n",
       "count  401.000000  401.000000  401.000000  401.000000  401.000000  \n",
       "mean     4.806734    5.103242   35.613968   10.034920   32.458591  \n",
       "std      6.630641    4.276379   15.809457    5.149193    8.857037  \n",
       "min    -13.900000  -14.000000   16.000000    1.900000    0.000000  \n",
       "25%      1.500000    2.500000   26.799999    6.200000   26.600000  \n",
       "50%      3.700000    5.100000   31.400000    9.200000   31.700001  \n",
       "75%      6.000000    7.500000   38.799999   13.100000   38.200001  \n",
       "max     65.900002   21.299999  178.800003   35.000000   57.900002  "
      ]
     },
     "execution_count": 16,
     "metadata": {},
     "output_type": "execute_result"
    }
   ],
   "source": [
    "X[top20feature].describe()"
   ]
  },
  {
   "cell_type": "code",
   "execution_count": 17,
   "metadata": {},
   "outputs": [
    {
     "data": {
      "text/html": [
       "<div>\n",
       "<style scoped>\n",
       "    .dataframe tbody tr th:only-of-type {\n",
       "        vertical-align: middle;\n",
       "    }\n",
       "\n",
       "    .dataframe tbody tr th {\n",
       "        vertical-align: top;\n",
       "    }\n",
       "\n",
       "    .dataframe thead th {\n",
       "        text-align: right;\n",
       "    }\n",
       "</style>\n",
       "<table border=\"1\" class=\"dataframe\">\n",
       "  <thead>\n",
       "    <tr style=\"text-align: right;\">\n",
       "      <th></th>\n",
       "      <th>std_inz_106to121</th>\n",
       "    </tr>\n",
       "  </thead>\n",
       "  <tbody>\n",
       "    <tr>\n",
       "      <th>count</th>\n",
       "      <td>401.000000</td>\n",
       "    </tr>\n",
       "    <tr>\n",
       "      <th>mean</th>\n",
       "      <td>35.316822</td>\n",
       "    </tr>\n",
       "    <tr>\n",
       "      <th>std</th>\n",
       "      <td>34.207966</td>\n",
       "    </tr>\n",
       "    <tr>\n",
       "      <th>min</th>\n",
       "      <td>0.000000</td>\n",
       "    </tr>\n",
       "    <tr>\n",
       "      <th>25%</th>\n",
       "      <td>11.892441</td>\n",
       "    </tr>\n",
       "    <tr>\n",
       "      <th>50%</th>\n",
       "      <td>25.522655</td>\n",
       "    </tr>\n",
       "    <tr>\n",
       "      <th>75%</th>\n",
       "      <td>47.308884</td>\n",
       "    </tr>\n",
       "    <tr>\n",
       "      <th>max</th>\n",
       "      <td>223.532379</td>\n",
       "    </tr>\n",
       "  </tbody>\n",
       "</table>\n",
       "</div>"
      ],
      "text/plain": [
       "       std_inz_106to121\n",
       "count        401.000000\n",
       "mean          35.316822\n",
       "std           34.207966\n",
       "min            0.000000\n",
       "25%           11.892441\n",
       "50%           25.522655\n",
       "75%           47.308884\n",
       "max          223.532379"
      ]
     },
     "execution_count": 17,
     "metadata": {},
     "output_type": "execute_result"
    }
   ],
   "source": [
    "pd.DataFrame(Y).describe()"
   ]
  },
  {
   "cell_type": "code",
   "execution_count": null,
   "metadata": {},
   "outputs": [],
   "source": []
  }
 ],
 "metadata": {
  "kernelspec": {
   "display_name": "Python 3",
   "language": "python",
   "name": "python3"
  },
  "language_info": {
   "codemirror_mode": {
    "name": "ipython",
    "version": 3
   },
   "file_extension": ".py",
   "mimetype": "text/x-python",
   "name": "python",
   "nbconvert_exporter": "python",
   "pygments_lexer": "ipython3",
   "version": "3.8.3"
  }
 },
 "nbformat": 4,
 "nbformat_minor": 4
}
