{
 "cells": [
  {
   "cell_type": "markdown",
   "metadata": {},
   "source": [
    "# Total 106-121"
   ]
  },
  {
   "cell_type": "code",
   "execution_count": 1,
   "metadata": {
    "colab": {},
    "colab_type": "code",
    "id": "n82x6ZiuEc6Y"
   },
   "outputs": [],
   "source": [
    "import pandas as pd\n",
    "import numpy as np\n",
    "from sklearn import preprocessing\n",
    "from sklearn.ensemble import RandomForestRegressor\n",
    "import matplotlib.pyplot as plt\n",
    "from matplotlib import rcParams\n",
    "import shap\n",
    "from sklearn.linear_model import LinearRegression\n",
    "from sklearn import metrics\n",
    "\n",
    "from catboost import Pool, CatBoostRegressor, cv\n",
    "from catboost.utils import eval_metric"
   ]
  },
  {
   "cell_type": "markdown",
   "metadata": {},
   "source": [
    "# Data"
   ]
  },
  {
   "cell_type": "code",
   "execution_count": 2,
   "metadata": {
    "colab": {
     "base_uri": "https://localhost:8080/",
     "height": 102
    },
    "colab_type": "code",
    "id": "bU8US8hcEfDF",
    "outputId": "4cfadb8a-123b-4a04-d7db-aa42f66e4d7d"
   },
   "outputs": [
    {
     "name": "stderr",
     "output_type": "stream",
     "text": [
      "\n",
      "One or more strings in the dta file could not be decoded using utf-8, and\n",
      "so the fallback encoding of latin-1 is being used.  This can happen when a file\n",
      "has been incorrectly encoded by Stata or some other software. You should verify\n",
      "the string values returned are correct.\n"
     ]
    }
   ],
   "source": [
    "df = pd.read_stata('W:\\COVID19\\std_inz106_121.dta')"
   ]
  },
  {
   "cell_type": "code",
   "execution_count": 3,
   "metadata": {
    "colab": {},
    "colab_type": "code",
    "id": "zz6U5PboEnnG",
    "scrolled": false
   },
   "outputs": [
    {
     "name": "stdout",
     "output_type": "stream",
     "text": [
      "Number of features:  163\n"
     ]
    }
   ],
   "source": [
    "Y = df['std_inz_106to121']\n",
    "X0 = df.loc[:, ~df.columns.isin(['std_inz_106to121', 'eastwest'])]\n",
    "print(\"Number of features: \", len(X0.columns))"
   ]
  },
  {
   "cell_type": "markdown",
   "metadata": {},
   "source": [
    "# Feature Correlation"
   ]
  },
  {
   "cell_type": "code",
   "execution_count": 4,
   "metadata": {},
   "outputs": [
    {
     "name": "stdout",
     "output_type": "stream",
     "text": [
      "{'IS_v1071', 'SSE_weighted_', 'UE_v324', 'UE_Arbquote2', 'UE_BesePrima', 'HC_aerztever', 'D_v424', 'IS_v1070', 'SSE_v967', 'IS_mitarbeitsweg15', 'PRE_v739', 'HC_Vorzeitig', 'UE_v323', 'SSE_grand_sd_', 'SSE_Siedlungs', 'PRE_v733', 'PRE_v727', 'SSE_v817', 'HC_II_t', 'SSE_Waldflaec', 'HC_I_t', 'IS_v1073', 'D_v599', 'PRE_v652', 'D_Abhaen', 'UE_v342', 'SSE_AnteilErh', 'PO_Hausha', 'SSE_Einwohner', 'INC_Schuldn', 'UE_v261', 'UE_v231', 'UE_ArbquoteJ', 'IS_auspen', 'UE_AnteBesch', 'IS_endlersaldo2017', 'HC_Pflegehe', 'IS_mitarbeitsweg30', 'SSE_Freiflaec', 'UE_v341', 'SSE_AnteilFre', 'SSE_AnteilWas', 'SSE_Laendlich', 'IS_v1069', 'UE_v381', 'UE_AntreBesc'} \n",
      "\n",
      " 46 features droped\n"
     ]
    }
   ],
   "source": [
    "a=[\"PRE_v652\",\"SSE_AnteilErh\",\"SSE_AnteilFre\",\"SSE_AnteilFre\",\"SSE_Freiflaec\",\"SSE_Freiflaec\",\"SSE_Laendlich\",\"SSE_Laendlich\",\"SSE_Siedlungs\",\"SSE_Siedlungs\",\"SSE_Siedlungs\",\"SSE_v817\",\"SSE_v817\",\"SSE_v817\",\"SSE_v817\",\"SSE_v817\",\"SSE_v967\",\"SSE_v967\",\"SSE_v967\",\"SSE_v967\",\"SSE_weighted_\",\"UE_AntreBesc\",\"UE_Arbquote2\",\"UE_Arbquote2\",\"UE_Arbquote2\",\"UE_ArbquoteJ\",\"UE_BesePrima\",\"UE_v323\",\"UE_v323\",\"UE_v324\",\"UE_v341\",\"HC_Vorzeitig\",\"D_v599\",\"UE_AnteBesch\",\"D_v424\",\"UE_v231\",\"D_Abhaen\",\"HC_I_t\",\"HC_II_t\",\"HC_I_t\",\"HC_Pflegehe\",\"IS_mitarbeitsweg30\",\"IS_mitarbeitsweg15\",\"IS_v1071\",\"IS_v1071\",\"IS_v1073\",\"PO_Hausha\",\"PRE_v739\",\"IS_v1069\",\"IS_v1071\",\"SSE_AnteilWas\",\"SSE_AnteilErh\",\"SSE_Siedlungs\",\"SSE_AnteilFre\",\"SSE_v817\",\"SSE_v967\",\"IS_v1070\",\"SSE_Waldflaec\",\"IS_v1071\",\"SSE_Freiflaec\",\"IS_v1069\",\"SSE_AnteilFre\",\"IS_v1071\",\"IS_v1069\",\"IS_v1071\",\"SSE_Siedlungs\",\"SSE_AnteilErh\",\"SSE_AnteilFre\",\"SSE_AnteilErh\",\"SSE_Siedlungs\",\"SSE_AnteilFre\",\"SSE_v817\",\"SSE_grand_sd_\",\"INC_Schuldn\",\"UE_ArbquoteJ\",\"IS_auspen\",\"IS_endlersaldo2017\",\"HC_aerztever\",\"SSE_AnteilErh\",\"SSE_Siedlungs\",\"SSE_AnteilFre\",\"SSE_Einwohner\",\"SSE_v817\",\"SSE_v967\",\"UE_v342\",\"PRE_v727\",\"PRE_v739\",\"PRE_v733\",\"UE_v381\",\"UE_v341\",\"UE_v323\",\"UE_v261\",\"UE_v381\",\"UE_v323\",\"UE_v341\",\"UE_v381\",\"UE_v341\",\"UE_v381\"]\n",
    "print(set(a),\"\\n\\n\",len(set(a)),\"features droped\")"
   ]
  },
  {
   "cell_type": "code",
   "execution_count": 5,
   "metadata": {},
   "outputs": [
    {
     "name": "stdout",
     "output_type": "stream",
     "text": [
      "New number of features:  117\n"
     ]
    }
   ],
   "source": [
    "X = X0.drop(columns=['UE_v324', 'SSE_Laendlich', 'UE_AnteBesch', 'IS_endlersaldo2017', 'UE_ArbquoteJ', 'PRE_v727', 'IS_v1069', 'SSE_Siedlungs', 'D_v424', 'D_v599', 'HC_II_t', 'SSE_Waldflaec', 'HC_Pflegehe', 'IS_v1073', 'SSE_weighted_', 'SSE_AnteilFre', 'HC_Vorzeitig', 'HC_I_t', 'PO_Hausha', 'UE_AntreBesc', 'IS_mitarbeitsweg30', 'SSE_grand_sd_', 'D_Abhaen', 'UE_v261', 'SSE_v967', 'INC_Schuldn', 'PRE_v739', 'UE_Arbquote2', 'SSE_AnteilWas', 'PRE_v652', 'IS_auspen', 'UE_v323', 'SSE_Freiflaec', 'UE_v381', 'UE_v231', 'IS_v1070', 'SSE_AnteilErh', 'UE_v342', 'HC_aerztever', 'SSE_Einwohner', 'UE_v341', 'IS_mitarbeitsweg15', 'SSE_v817', 'IS_v1071', 'PRE_v733', 'UE_BesePrima'])\n",
    "print(\"New number of features: \", len(X.columns))"
   ]
  },
  {
   "cell_type": "markdown",
   "metadata": {},
   "source": [
    "# First CatBoost Model with 162 features"
   ]
  },
  {
   "cell_type": "code",
   "execution_count": 6,
   "metadata": {},
   "outputs": [
    {
     "name": "stdout",
     "output_type": "stream",
     "text": [
      "R2 of final model on all data:  0.9992174901337443\n"
     ]
    }
   ],
   "source": [
    "# initialize Pool\n",
    "train_pool = Pool(X,Y)\n",
    " \n",
    "\n",
    "# specify the training parameters \n",
    "model = CatBoostRegressor(random_seed=0, logging_level = 'Silent')\n",
    "#train the model\n",
    "cb = model.fit(train_pool)\n",
    "print(\"R2 of final model on all data: \",cb.score(X, Y))"
   ]
  },
  {
   "cell_type": "code",
   "execution_count": 7,
   "metadata": {},
   "outputs": [
    {
     "name": "stdout",
     "output_type": "stream",
     "text": [
      "RMSE of final model on all data:  0.9557182837309538\n"
     ]
    }
   ],
   "source": [
    "preds = cb.predict(train_pool,\n",
    "                    prediction_type=\"RawFormulaVal\"\n",
    "                  )\n",
    "\n",
    "print(\"RMSE of final model on all data: \", eval_metric(Y, preds, 'RMSE')[0])"
   ]
  },
  {
   "cell_type": "markdown",
   "metadata": {},
   "source": [
    "# SHAP VAlues"
   ]
  },
  {
   "cell_type": "code",
   "execution_count": 8,
   "metadata": {},
   "outputs": [],
   "source": [
    "shap_values_cb = shap.TreeExplainer(cb).shap_values(X)"
   ]
  },
  {
   "cell_type": "code",
   "execution_count": 9,
   "metadata": {},
   "outputs": [
    {
     "name": "stderr",
     "output_type": "stream",
     "text": [
      "invalid value encountered in true_divide\n",
      "invalid value encountered in true_divide\n"
     ]
    },
    {
     "data": {
      "image/png": "[encoded data removed]",
      "text/plain": [
       "<Figure size 360x432 with 1 Axes>"
      ]
     },
     "metadata": {
      "needs_background": "light"
     },
     "output_type": "display_data"
    }
   ],
   "source": [
    "def ABS_SHAP(df_shap,df):\n",
    "    # Make a copy of the input data\n",
    "    shap_v = pd.DataFrame(df_shap)\n",
    "    feature_list = df.columns\n",
    "    shap_v.columns = feature_list\n",
    "    df_v = df.copy().reset_index().drop('index',axis=1)\n",
    "    \n",
    "    # Determine the correlation in order to plot with different colors\n",
    "    corr_list = list()\n",
    "    for i in feature_list:\n",
    "        b = np.corrcoef(shap_v[i],df_v[i])[1][0]\n",
    "        corr_list.append(b)\n",
    "    corr_df = pd.concat([pd.Series(feature_list),pd.Series(corr_list)],axis=1).fillna(0)\n",
    "    # Make a data frame. Column 1 is the feature, and Column 2 is the correlation coefficient\n",
    "    corr_df.columns  = ['Variable','Corr']\n",
    "    corr_df['Sign'] = np.where(corr_df['Corr']>0,'red','blue')\n",
    "    \n",
    "    # Plot it\n",
    "    shap_abs = np.abs(shap_v)\n",
    "    k=pd.DataFrame(shap_abs.mean()).reset_index()\n",
    "    k.columns = ['Variable','SHAP_abs']\n",
    "    k2 = k.merge(corr_df,left_on = 'Variable',right_on='Variable',how='inner')\n",
    "    k2 = k2.sort_values(by='SHAP_abs',ascending = True)[-20::]\n",
    "    colorlist = k2['Sign']\n",
    "    ax = k2.plot.barh(x='Variable',y='SHAP_abs',color = colorlist, figsize=(5,6),legend=False)\n",
    "    ax.set_xlabel(\"SHAP Value (Red = Positive Impact)\")\n",
    "    \n",
    "ABS_SHAP(shap_values_cb,X) "
   ]
  },
  {
   "cell_type": "markdown",
   "metadata": {},
   "source": [
    "# Second CatBoost model with 20 most important features"
   ]
  },
  {
   "cell_type": "code",
   "execution_count": 10,
   "metadata": {
    "scrolled": true
   },
   "outputs": [],
   "source": [
    "top20feature = X.columns[np.argsort(np.abs(shap_values_cb).mean(0))][-20:][::-1]\n",
    "top10feature = X.columns[np.argsort(np.abs(shap_values_cb).mean(0))][-10:][::-1]"
   ]
  },
  {
   "cell_type": "code",
   "execution_count": 11,
   "metadata": {},
   "outputs": [
    {
     "name": "stdout",
     "output_type": "stream",
     "text": [
      "R2 of second model with top20 feature:  0.9968096849431676\n"
     ]
    }
   ],
   "source": [
    "# initialize Pool\n",
    "train_pool_20 = Pool(X[top20feature],Y)\n",
    " \n",
    "\n",
    "# specify the training parameters \n",
    "model = CatBoostRegressor(random_seed=0, logging_level = 'Silent')\n",
    "#train the model\n",
    "cb_20 = model.fit(train_pool_20)\n",
    "print(\"R2 of second model with top20 feature: \",cb_20.score(X[top20feature], Y))"
   ]
  },
  {
   "cell_type": "code",
   "execution_count": 12,
   "metadata": {},
   "outputs": [
    {
     "name": "stdout",
     "output_type": "stream",
     "text": [
      "RMSE of second model on top20 data:  1.9297532022680637\n"
     ]
    }
   ],
   "source": [
    "preds_20 = cb_20.predict(train_pool_20,\n",
    "                    prediction_type=\"RawFormulaVal\"\n",
    "                  )\n",
    "\n",
    "print(\"RMSE of second model on top20 data: \", eval_metric(Y, preds_20, 'RMSE')[0])"
   ]
  },
  {
   "cell_type": "markdown",
   "metadata": {},
   "source": [
    "# Compare top 10 features of both Models"
   ]
  },
  {
   "cell_type": "code",
   "execution_count": 13,
   "metadata": {
    "scrolled": false
   },
   "outputs": [
    {
     "name": "stdout",
     "output_type": "stream",
     "text": [
      "10 most important features from model with all features: \n",
      " ['std_inz_91to106', 'IS_Strass', 'UE_v190', 'G_longitude', 'INC_v1161', 'SSE_Anteilnat', 'PRE_v675', 'INC_v801', 'D_Aussen', 'UE_Kurzar'] \n",
      "\n",
      " 10 most important features from model with top20 features: \n",
      " ['std_inz_91to106', 'IS_Strass', 'G_longitude', 'D_Aussen', 'PRE_v675', 'UE_v359', 'INC_v1161', 'UE_v184', 'UE_QuoeBesch', 'UE_Kurzar']\n"
     ]
    }
   ],
   "source": [
    "shap_values_cb_20 = shap.TreeExplainer(cb_20).shap_values(X[top20feature])\n",
    "\n",
    "top10feature_from_top_20 = X[top20feature].columns[np.argsort(np.abs(shap_values_cb_20).mean(0))][-10:][::-1]\n",
    "\n",
    "print(\"10 most important features from model with all features:\", \"\\n\", list(top10feature), \"\\n\\n\",\n",
    "     \"10 most important features from model with top20 features:\", \"\\n\", list(top10feature_from_top_20)) "
   ]
  },
  {
   "cell_type": "code",
   "execution_count": 14,
   "metadata": {
    "scrolled": true
   },
   "outputs": [
    {
     "name": "stdout",
     "output_type": "stream",
     "text": [
      "std_inz_91to106\n",
      "IS_Strass\n",
      "G_longitude\n",
      "INC_v1161\n",
      "PRE_v675\n",
      "D_Aussen\n",
      "UE_Kurzar\n"
     ]
    }
   ],
   "source": [
    "# features which are on top10 of both models:\n",
    "for i in top10feature :\n",
    "    if i in list(top10feature_from_top_20) :\n",
    "         print(i)"
   ]
  },
  {
   "cell_type": "code",
   "execution_count": 15,
   "metadata": {},
   "outputs": [
    {
     "data": {
      "image/png": "[encoded data removed]",
      "text/plain": [
       "<Figure size 360x432 with 1 Axes>"
      ]
     },
     "metadata": {
      "needs_background": "light"
     },
     "output_type": "display_data"
    }
   ],
   "source": [
    "ABS_SHAP(shap_values_cb_20,X[top20feature]) "
   ]
  },
  {
   "cell_type": "markdown",
   "metadata": {},
   "source": [
    "# Hold out validation of the second model"
   ]
  },
  {
   "cell_type": "code",
   "execution_count": 16,
   "metadata": {
    "scrolled": true
   },
   "outputs": [
    {
     "name": "stdout",
     "output_type": "stream",
     "text": [
      "0.0 %   5.0 %   10.0 %   15.0 %   20.0 %   25.0 %   30.0 %   35.0 %   40.0 %   45.0 %   50.0 %   55.00000000000001 %   60.0 %   65.0 %   70.0 %   75.0 %   80.0 %   85.0 %   90.0 %   95.0 %   "
     ]
    }
   ],
   "source": [
    "import random\n",
    "iterations = range(0,20)\n",
    "\n",
    "r2_reg_k_test_top20 = list(range(0,20))\n",
    "rmse_reg_k_test_top20 = list(range(0,20))\n",
    "r2_cb_k_train_top20 = list(range(0,20))\n",
    "r2_cb_k_test_top20 = list(range(0,20))\n",
    "\n",
    "for i in iterations:\n",
    "    rs = random.sample(range(0,401), 80)\n",
    "    k_test_x = X[top20feature].iloc[rs]\n",
    "    k_test_y = Y.iloc[rs]\n",
    "    k_train_x = X[top20feature].drop(rs)\n",
    "    k_train_y = Y.drop(rs)\n",
    "    # initialize Pool \n",
    "    train_pool_k = Pool(data=k_train_x,\n",
    "                        label=k_train_y,\n",
    "                        feature_names = list(X[top20feature].columns))\n",
    "        \n",
    "    test_pool_k = Pool(data=k_test_x,\n",
    "                       label=k_test_y,\n",
    "                       feature_names = list(X[top20feature].columns))\n",
    "\n",
    "    \n",
    "    #fit the model\n",
    "    model = CatBoostRegressor(random_seed=0,\n",
    "                              logging_level=\"Silent\",\n",
    "                              #iterations = scores_k.sort_values(by= \"test-R2-mean\")[\"iterations\"].iloc[-1]\n",
    "                             )\n",
    "\n",
    "    cb_k = model.fit(train_pool_k)\n",
    "    \n",
    "    # make the prediction using the resulting model\n",
    "    preds_k = cb_k.predict(test_pool_k,\n",
    "                    prediction_type=\"RawFormulaVal\"\n",
    "                  )\n",
    "    \n",
    "    rmse_reg_k_test_top20[i] = eval_metric(np.array(k_test_y), preds_k, \"RMSE\")[0]\n",
    "    \n",
    "    preds_k = preds_k.reshape(-1, 1)\n",
    "    #LinearRegression\n",
    "    reg_k = LinearRegression().fit(preds_k, k_test_y)\n",
    "\n",
    "    \n",
    "    r2_cb_k_train_top20[i] = cb_k.score(train_pool_k)\n",
    "    r2_reg_k_test_top20[i] = reg_k.score(preds_k, k_test_y)\n",
    "\n",
    "    r2_cb_k_test_top20[i] =  cb_k.score(test_pool_k)\n",
    "    \n",
    "    print(i/len(iterations)*100,\"%\", \"  \" , end=\"\")"
   ]
  },
  {
   "cell_type": "code",
   "execution_count": 17,
   "metadata": {},
   "outputs": [
    {
     "name": "stdout",
     "output_type": "stream",
     "text": [
      "Mean R2 of CatBoost_models on train sets with top20 features: 0.9981841956338414\n",
      "Mean R2 of linReg_modesl with top20 features:  0.5551743492818878\n",
      "Mean RMSE of CatBoost_models on test sets with top20 features:  22.447514350663756\n",
      "Mean R2 of CatBoost_models on test sets with top20 features: 0.5264157455344429\n"
     ]
    }
   ],
   "source": [
    "print(\"Mean R2 of CatBoost_models on train sets with top20 features:\",sum(r2_cb_k_train_top20)/len(r2_cb_k_train_top20))\n",
    "print(\"Mean R2 of linReg_modesl with top20 features: \", sum(r2_reg_k_test_top20)/len(r2_reg_k_test_top20))\n",
    "print(\"Mean RMSE of CatBoost_models on test sets with top20 features: \", sum(rmse_reg_k_test_top20)/len(rmse_reg_k_test_top20))\n",
    "print(\"Mean R2 of CatBoost_models on test sets with top20 features:\",sum(r2_cb_k_test_top20)/len(r2_cb_k_test_top20))"
   ]
  },
  {
   "cell_type": "markdown",
   "metadata": {},
   "source": [
    "# descriptives of top20 features"
   ]
  },
  {
   "cell_type": "code",
   "execution_count": 18,
   "metadata": {},
   "outputs": [
    {
     "data": {
      "text/html": [
       "<div>\n",
       "<style scoped>\n",
       "    .dataframe tbody tr th:only-of-type {\n",
       "        vertical-align: middle;\n",
       "    }\n",
       "\n",
       "    .dataframe tbody tr th {\n",
       "        vertical-align: top;\n",
       "    }\n",
       "\n",
       "    .dataframe thead th {\n",
       "        text-align: right;\n",
       "    }\n",
       "</style>\n",
       "<table border=\"1\" class=\"dataframe\">\n",
       "  <thead>\n",
       "    <tr style=\"text-align: right;\">\n",
       "      <th></th>\n",
       "      <th>std_inz_91to106</th>\n",
       "      <th>IS_Strass</th>\n",
       "      <th>UE_v190</th>\n",
       "      <th>G_longitude</th>\n",
       "      <th>INC_v1161</th>\n",
       "      <th>SSE_Anteilnat</th>\n",
       "      <th>PRE_v675</th>\n",
       "      <th>INC_v801</th>\n",
       "      <th>D_Aussen</th>\n",
       "      <th>UE_Kurzar</th>\n",
       "      <th>IS_weg50kmundmehr2</th>\n",
       "      <th>UE_v359</th>\n",
       "      <th>D_Auslae</th>\n",
       "      <th>UE_v184</th>\n",
       "      <th>UE_QuoeBesch</th>\n",
       "      <th>D_Gesamt</th>\n",
       "      <th>UE_v306</th>\n",
       "      <th>HC_Krankenha</th>\n",
       "      <th>INC_Haushal</th>\n",
       "      <th>SSE_v1130</th>\n",
       "    </tr>\n",
       "  </thead>\n",
       "  <tbody>\n",
       "    <tr>\n",
       "      <th>count</th>\n",
       "      <td>401.000000</td>\n",
       "      <td>401.000000</td>\n",
       "      <td>401.000000</td>\n",
       "      <td>401.000000</td>\n",
       "      <td>401.000000</td>\n",
       "      <td>401.000000</td>\n",
       "      <td>401.000000</td>\n",
       "      <td>401.000000</td>\n",
       "      <td>401.000000</td>\n",
       "      <td>401.000000</td>\n",
       "      <td>401.000000</td>\n",
       "      <td>401.000000</td>\n",
       "      <td>401.000000</td>\n",
       "      <td>401.000000</td>\n",
       "      <td>401.000000</td>\n",
       "      <td>401.000000</td>\n",
       "      <td>401.000000</td>\n",
       "      <td>401.000000</td>\n",
       "      <td>401.000000</td>\n",
       "      <td>401.000000</td>\n",
       "    </tr>\n",
       "    <tr>\n",
       "      <th>mean</th>\n",
       "      <td>79.007408</td>\n",
       "      <td>491.092926</td>\n",
       "      <td>11.710718</td>\n",
       "      <td>9.866996</td>\n",
       "      <td>35.613968</td>\n",
       "      <td>5.101742</td>\n",
       "      <td>16.566586</td>\n",
       "      <td>2846.079834</td>\n",
       "      <td>4.806734</td>\n",
       "      <td>0.752618</td>\n",
       "      <td>11.484290</td>\n",
       "      <td>68.926407</td>\n",
       "      <td>10.034920</td>\n",
       "      <td>2.814465</td>\n",
       "      <td>49.557602</td>\n",
       "      <td>5.103242</td>\n",
       "      <td>-6.157606</td>\n",
       "      <td>6.353393</td>\n",
       "      <td>1591.685791</td>\n",
       "      <td>-86.781784</td>\n",
       "    </tr>\n",
       "    <tr>\n",
       "      <th>std</th>\n",
       "      <td>72.684265</td>\n",
       "      <td>87.669609</td>\n",
       "      <td>3.008996</td>\n",
       "      <td>2.026269</td>\n",
       "      <td>15.809457</td>\n",
       "      <td>3.710643</td>\n",
       "      <td>5.035090</td>\n",
       "      <td>926.153870</td>\n",
       "      <td>6.630641</td>\n",
       "      <td>1.440882</td>\n",
       "      <td>3.481254</td>\n",
       "      <td>11.196052</td>\n",
       "      <td>5.149193</td>\n",
       "      <td>3.325890</td>\n",
       "      <td>5.944390</td>\n",
       "      <td>4.276379</td>\n",
       "      <td>22.530605</td>\n",
       "      <td>3.892253</td>\n",
       "      <td>589.468872</td>\n",
       "      <td>6.361413</td>\n",
       "    </tr>\n",
       "    <tr>\n",
       "      <th>min</th>\n",
       "      <td>3.607589</td>\n",
       "      <td>275.799988</td>\n",
       "      <td>4.600000</td>\n",
       "      <td>6.083333</td>\n",
       "      <td>16.000000</td>\n",
       "      <td>0.900000</td>\n",
       "      <td>6.900000</td>\n",
       "      <td>28.000000</td>\n",
       "      <td>-13.900000</td>\n",
       "      <td>0.000000</td>\n",
       "      <td>4.900000</td>\n",
       "      <td>27.500000</td>\n",
       "      <td>1.900000</td>\n",
       "      <td>-7.200000</td>\n",
       "      <td>29.600000</td>\n",
       "      <td>-14.000000</td>\n",
       "      <td>-69.900002</td>\n",
       "      <td>0.000000</td>\n",
       "      <td>2.000000</td>\n",
       "      <td>-93.599998</td>\n",
       "    </tr>\n",
       "    <tr>\n",
       "      <th>25%</th>\n",
       "      <td>34.004898</td>\n",
       "      <td>431.399994</td>\n",
       "      <td>10.600000</td>\n",
       "      <td>8.216666</td>\n",
       "      <td>26.799999</td>\n",
       "      <td>2.700000</td>\n",
       "      <td>13.000000</td>\n",
       "      <td>2706.000000</td>\n",
       "      <td>1.500000</td>\n",
       "      <td>0.000000</td>\n",
       "      <td>9.000000</td>\n",
       "      <td>62.099998</td>\n",
       "      <td>6.200000</td>\n",
       "      <td>0.500000</td>\n",
       "      <td>45.700001</td>\n",
       "      <td>2.500000</td>\n",
       "      <td>-14.200000</td>\n",
       "      <td>3.670000</td>\n",
       "      <td>1591.000000</td>\n",
       "      <td>-88.199997</td>\n",
       "    </tr>\n",
       "    <tr>\n",
       "      <th>50%</th>\n",
       "      <td>56.944515</td>\n",
       "      <td>476.399994</td>\n",
       "      <td>12.400000</td>\n",
       "      <td>9.766666</td>\n",
       "      <td>31.400000</td>\n",
       "      <td>4.300000</td>\n",
       "      <td>16.100000</td>\n",
       "      <td>3052.000000</td>\n",
       "      <td>3.700000</td>\n",
       "      <td>0.300000</td>\n",
       "      <td>10.800000</td>\n",
       "      <td>70.000000</td>\n",
       "      <td>9.200000</td>\n",
       "      <td>3.100000</td>\n",
       "      <td>49.900002</td>\n",
       "      <td>5.100000</td>\n",
       "      <td>-7.700000</td>\n",
       "      <td>5.450000</td>\n",
       "      <td>1764.000000</td>\n",
       "      <td>-87.500000</td>\n",
       "    </tr>\n",
       "    <tr>\n",
       "      <th>75%</th>\n",
       "      <td>107.506599</td>\n",
       "      <td>545.000000</td>\n",
       "      <td>13.600000</td>\n",
       "      <td>11.416667</td>\n",
       "      <td>38.799999</td>\n",
       "      <td>6.300000</td>\n",
       "      <td>19.700001</td>\n",
       "      <td>3329.000000</td>\n",
       "      <td>6.000000</td>\n",
       "      <td>0.900000</td>\n",
       "      <td>13.300000</td>\n",
       "      <td>76.699997</td>\n",
       "      <td>13.100000</td>\n",
       "      <td>5.100000</td>\n",
       "      <td>53.599998</td>\n",
       "      <td>7.500000</td>\n",
       "      <td>-0.800000</td>\n",
       "      <td>8.210000</td>\n",
       "      <td>1904.000000</td>\n",
       "      <td>-86.500000</td>\n",
       "    </tr>\n",
       "    <tr>\n",
       "      <th>max</th>\n",
       "      <td>721.384521</td>\n",
       "      <td>803.599976</td>\n",
       "      <td>20.200001</td>\n",
       "      <td>14.983334</td>\n",
       "      <td>178.800003</td>\n",
       "      <td>34.000000</td>\n",
       "      <td>38.000000</td>\n",
       "      <td>4855.000000</td>\n",
       "      <td>65.900002</td>\n",
       "      <td>19.600000</td>\n",
       "      <td>24.200001</td>\n",
       "      <td>95.099998</td>\n",
       "      <td>35.000000</td>\n",
       "      <td>12.400000</td>\n",
       "      <td>66.400002</td>\n",
       "      <td>21.299999</td>\n",
       "      <td>329.000000</td>\n",
       "      <td>29.590000</td>\n",
       "      <td>2904.000000</td>\n",
       "      <td>0.000000</td>\n",
       "    </tr>\n",
       "  </tbody>\n",
       "</table>\n",
       "</div>"
      ],
      "text/plain": [
       "       std_inz_91to106   IS_Strass     UE_v190  G_longitude   INC_v1161  \\\n",
       "count       401.000000  401.000000  401.000000   401.000000  401.000000   \n",
       "mean         79.007408  491.092926   11.710718     9.866996   35.613968   \n",
       "std          72.684265   87.669609    3.008996     2.026269   15.809457   \n",
       "min           3.607589  275.799988    4.600000     6.083333   16.000000   \n",
       "25%          34.004898  431.399994   10.600000     8.216666   26.799999   \n",
       "50%          56.944515  476.399994   12.400000     9.766666   31.400000   \n",
       "75%         107.506599  545.000000   13.600000    11.416667   38.799999   \n",
       "max         721.384521  803.599976   20.200001    14.983334  178.800003   \n",
       "\n",
       "       SSE_Anteilnat    PRE_v675     INC_v801    D_Aussen   UE_Kurzar  \\\n",
       "count     401.000000  401.000000   401.000000  401.000000  401.000000   \n",
       "mean        5.101742   16.566586  2846.079834    4.806734    0.752618   \n",
       "std         3.710643    5.035090   926.153870    6.630641    1.440882   \n",
       "min         0.900000    6.900000    28.000000  -13.900000    0.000000   \n",
       "25%         2.700000   13.000000  2706.000000    1.500000    0.000000   \n",
       "50%         4.300000   16.100000  3052.000000    3.700000    0.300000   \n",
       "75%         6.300000   19.700001  3329.000000    6.000000    0.900000   \n",
       "max        34.000000   38.000000  4855.000000   65.900002   19.600000   \n",
       "\n",
       "       IS_weg50kmundmehr2     UE_v359    D_Auslae     UE_v184  UE_QuoeBesch  \\\n",
       "count          401.000000  401.000000  401.000000  401.000000    401.000000   \n",
       "mean            11.484290   68.926407   10.034920    2.814465     49.557602   \n",
       "std              3.481254   11.196052    5.149193    3.325890      5.944390   \n",
       "min              4.900000   27.500000    1.900000   -7.200000     29.600000   \n",
       "25%              9.000000   62.099998    6.200000    0.500000     45.700001   \n",
       "50%             10.800000   70.000000    9.200000    3.100000     49.900002   \n",
       "75%             13.300000   76.699997   13.100000    5.100000     53.599998   \n",
       "max             24.200001   95.099998   35.000000   12.400000     66.400002   \n",
       "\n",
       "         D_Gesamt     UE_v306  HC_Krankenha  INC_Haushal   SSE_v1130  \n",
       "count  401.000000  401.000000    401.000000   401.000000  401.000000  \n",
       "mean     5.103242   -6.157606      6.353393  1591.685791  -86.781784  \n",
       "std      4.276379   22.530605      3.892253   589.468872    6.361413  \n",
       "min    -14.000000  -69.900002      0.000000     2.000000  -93.599998  \n",
       "25%      2.500000  -14.200000      3.670000  1591.000000  -88.199997  \n",
       "50%      5.100000   -7.700000      5.450000  1764.000000  -87.500000  \n",
       "75%      7.500000   -0.800000      8.210000  1904.000000  -86.500000  \n",
       "max     21.299999  329.000000     29.590000  2904.000000    0.000000  "
      ]
     },
     "execution_count": 18,
     "metadata": {},
     "output_type": "execute_result"
    }
   ],
   "source": [
    "X[top20feature].describe()"
   ]
  },
  {
   "cell_type": "code",
   "execution_count": 19,
   "metadata": {},
   "outputs": [
    {
     "data": {
      "text/html": [
       "<div>\n",
       "<style scoped>\n",
       "    .dataframe tbody tr th:only-of-type {\n",
       "        vertical-align: middle;\n",
       "    }\n",
       "\n",
       "    .dataframe tbody tr th {\n",
       "        vertical-align: top;\n",
       "    }\n",
       "\n",
       "    .dataframe thead th {\n",
       "        text-align: right;\n",
       "    }\n",
       "</style>\n",
       "<table border=\"1\" class=\"dataframe\">\n",
       "  <thead>\n",
       "    <tr style=\"text-align: right;\">\n",
       "      <th></th>\n",
       "      <th>std_inz_106to121</th>\n",
       "    </tr>\n",
       "  </thead>\n",
       "  <tbody>\n",
       "    <tr>\n",
       "      <th>count</th>\n",
       "      <td>401.000000</td>\n",
       "    </tr>\n",
       "    <tr>\n",
       "      <th>mean</th>\n",
       "      <td>35.316822</td>\n",
       "    </tr>\n",
       "    <tr>\n",
       "      <th>std</th>\n",
       "      <td>34.207966</td>\n",
       "    </tr>\n",
       "    <tr>\n",
       "      <th>min</th>\n",
       "      <td>0.000000</td>\n",
       "    </tr>\n",
       "    <tr>\n",
       "      <th>25%</th>\n",
       "      <td>11.892441</td>\n",
       "    </tr>\n",
       "    <tr>\n",
       "      <th>50%</th>\n",
       "      <td>25.522655</td>\n",
       "    </tr>\n",
       "    <tr>\n",
       "      <th>75%</th>\n",
       "      <td>47.308884</td>\n",
       "    </tr>\n",
       "    <tr>\n",
       "      <th>max</th>\n",
       "      <td>223.532379</td>\n",
       "    </tr>\n",
       "  </tbody>\n",
       "</table>\n",
       "</div>"
      ],
      "text/plain": [
       "       std_inz_106to121\n",
       "count        401.000000\n",
       "mean          35.316822\n",
       "std           34.207966\n",
       "min            0.000000\n",
       "25%           11.892441\n",
       "50%           25.522655\n",
       "75%           47.308884\n",
       "max          223.532379"
      ]
     },
     "execution_count": 19,
     "metadata": {},
     "output_type": "execute_result"
    }
   ],
   "source": [
    "pd.DataFrame(Y).describe()"
   ]
  },
  {
   "cell_type": "code",
   "execution_count": 20,
   "metadata": {},
   "outputs": [],
   "source": [
    "frames = [ Y.describe(), X[top20feature].describe()]\n",
    "des = pd.concat(frames, axis=1)\n",
    "with pd.ExcelWriter(r\"C:\\Users\\Constantin\\Desktop\\descriptives4.xlsx\") as writer:  \n",
    "    des.to_excel(writer, sheet_name='period 4')"
   ]
  },
  {
   "cell_type": "code",
   "execution_count": null,
   "metadata": {},
   "outputs": [],
   "source": []
  }
 ],
 "metadata": {
  "kernelspec": {
   "display_name": "Python 3",
   "language": "python",
   "name": "python3"
  },
  "language_info": {
   "codemirror_mode": {
    "name": "ipython",
    "version": 3
   },
   "file_extension": ".py",
   "mimetype": "text/x-python",
   "name": "python",
   "nbconvert_exporter": "python",
   "pygments_lexer": "ipython3",
   "version": "3.8.3"
  }
 },
 "nbformat": 4,
 "nbformat_minor": 4
}
