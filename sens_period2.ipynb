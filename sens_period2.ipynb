{
 "cells": [
  {
   "cell_type": "markdown",
   "metadata": {},
   "source": [
    "# Total: 75-91"
   ]
  },
  {
   "cell_type": "code",
   "execution_count": 1,
   "metadata": {
    "colab": {},
    "colab_type": "code",
    "id": "n82x6ZiuEc6Y"
   },
   "outputs": [],
   "source": [
    "import pandas as pd\n",
    "import numpy as np\n",
    "from sklearn import preprocessing\n",
    "from sklearn.ensemble import RandomForestRegressor\n",
    "import matplotlib.pyplot as plt\n",
    "from matplotlib import rcParams\n",
    "import shap\n",
    "from sklearn.linear_model import LinearRegression\n",
    "from sklearn import metrics\n",
    "import seaborn as sns\n",
    "\n",
    "from catboost import Pool, CatBoostRegressor, cv \n",
    "from catboost.utils import eval_metric"
   ]
  },
  {
   "cell_type": "markdown",
   "metadata": {},
   "source": [
    "# Data"
   ]
  },
  {
   "cell_type": "code",
   "execution_count": 2,
   "metadata": {
    "colab": {
     "base_uri": "https://localhost:8080/",
     "height": 102
    },
    "colab_type": "code",
    "id": "bU8US8hcEfDF",
    "outputId": "4cfadb8a-123b-4a04-d7db-aa42f66e4d7d"
   },
   "outputs": [
    {
     "name": "stderr",
     "output_type": "stream",
     "text": [
      "\n",
      "One or more strings in the dta file could not be decoded using utf-8, and\n",
      "so the fallback encoding of latin-1 is being used.  This can happen when a file\n",
      "has been incorrectly encoded by Stata or some other software. You should verify\n",
      "the string values returned are correct.\n"
     ]
    }
   ],
   "source": [
    "df = pd.read_stata('W:\\COVID19\\std_inz75_91.dta')"
   ]
  },
  {
   "cell_type": "code",
   "execution_count": 3,
   "metadata": {
    "colab": {},
    "colab_type": "code",
    "id": "zz6U5PboEnnG",
    "scrolled": false
   },
   "outputs": [
    {
     "name": "stdout",
     "output_type": "stream",
     "text": [
      "Number of features:  163\n"
     ]
    }
   ],
   "source": [
    "Y = df['std_inz_75to91']\n",
    "X0 = df.loc[:, ~df.columns.isin(['std_inz_75to91', 'eastwest'])]\n",
    "print(\"Number of features: \", len(X0.columns))"
   ]
  },
  {
   "cell_type": "markdown",
   "metadata": {},
   "source": [
    "# Feature Correlation"
   ]
  },
  {
   "cell_type": "code",
   "execution_count": 4,
   "metadata": {},
   "outputs": [
    {
     "name": "stdout",
     "output_type": "stream",
     "text": [
      "{'UE_ArbquoteJ', 'UE_v341', 'IS_endlersaldo2017', 'SSE_AnteilFre', 'SSE_Freiflaec', 'UE_AnteBesch', 'SSE_Einwohner', 'UE_v231', 'IS_mitarbeitsweg15', 'SSE_AnteilWas', 'PRE_v652', 'UE_v342', 'SSE_AnteilErh', 'IS_v1069', 'D_v424', 'HC_II_t', 'UE_BesePrima', 'HC_Pflegehe', 'HC_Vorzeitig', 'IS_auspen', 'UE_v261', 'PO_Hausha', 'IS_v1073', 'PRE_v727', 'SSE_v817', 'D_v599', 'SSE_weighted_', 'SSE_v967', 'IS_mitarbeitsweg30', 'IS_v1071', 'HC_aerztever', 'UE_v381', 'D_Abhaen', 'IS_v1070', 'SSE_grand_sd_', 'SSE_Laendlich', 'UE_Arbquote2', 'UE_v324', 'HC_I_t', 'PRE_v733', 'UE_v323', 'SSE_Waldflaec', 'PRE_v739', 'INC_Schuldn', 'UE_AntreBesc', 'SSE_Siedlungs'} \n",
      "\n",
      " 46 features droped\n"
     ]
    }
   ],
   "source": [
    "a=[\"PRE_v652\",\"SSE_AnteilErh\",\"SSE_AnteilFre\",\"SSE_AnteilFre\",\"SSE_Freiflaec\",\"SSE_Freiflaec\",\"SSE_Laendlich\",\"SSE_Laendlich\",\"SSE_Siedlungs\",\"SSE_Siedlungs\",\"SSE_Siedlungs\",\"SSE_v817\",\"SSE_v817\",\"SSE_v817\",\"SSE_v817\",\"SSE_v817\",\"SSE_v967\",\"SSE_v967\",\"SSE_v967\",\"SSE_v967\",\"SSE_weighted_\",\"UE_AntreBesc\",\"UE_Arbquote2\",\"UE_Arbquote2\",\"UE_Arbquote2\",\"UE_ArbquoteJ\",\"UE_BesePrima\",\"UE_v323\",\"UE_v323\",\"UE_v324\",\"UE_v341\",\"HC_Vorzeitig\",\"D_v599\",\"UE_AnteBesch\",\"D_v424\",\"UE_v231\",\"D_Abhaen\",\"HC_I_t\",\"HC_II_t\",\"HC_I_t\",\"HC_Pflegehe\",\"IS_mitarbeitsweg30\",\"IS_mitarbeitsweg15\",\"IS_v1071\",\"IS_v1071\",\"IS_v1073\",\"PO_Hausha\",\"PRE_v739\",\"IS_v1069\",\"IS_v1071\",\"SSE_AnteilWas\",\"SSE_AnteilErh\",\"SSE_Siedlungs\",\"SSE_AnteilFre\",\"SSE_v817\",\"SSE_v967\",\"IS_v1070\",\"SSE_Waldflaec\",\"IS_v1071\",\"SSE_Freiflaec\",\"IS_v1069\",\"SSE_AnteilFre\",\"IS_v1071\",\"IS_v1069\",\"IS_v1071\",\"SSE_Siedlungs\",\"SSE_AnteilErh\",\"SSE_AnteilFre\",\"SSE_AnteilErh\",\"SSE_Siedlungs\",\"SSE_AnteilFre\",\"SSE_v817\",\"SSE_grand_sd_\",\"INC_Schuldn\",\"UE_ArbquoteJ\",\"IS_auspen\",\"IS_endlersaldo2017\",\"HC_aerztever\",\"SSE_AnteilErh\",\"SSE_Siedlungs\",\"SSE_AnteilFre\",\"SSE_Einwohner\",\"SSE_v817\",\"SSE_v967\",\"UE_v342\",\"PRE_v727\",\"PRE_v739\",\"PRE_v733\",\"UE_v381\",\"UE_v341\",\"UE_v323\",\"UE_v261\",\"UE_v381\",\"UE_v323\",\"UE_v341\",\"UE_v381\",\"UE_v341\",\"UE_v381\"]\n",
    "print(set(a),\"\\n\\n\",len(set(a)),\"features droped\")"
   ]
  },
  {
   "cell_type": "code",
   "execution_count": 5,
   "metadata": {},
   "outputs": [
    {
     "name": "stdout",
     "output_type": "stream",
     "text": [
      "New number of features:  117\n"
     ]
    }
   ],
   "source": [
    "X = X0.drop(columns=['UE_v324', 'SSE_Laendlich', 'UE_AnteBesch', 'IS_endlersaldo2017', 'UE_ArbquoteJ', 'PRE_v727', 'IS_v1069', 'SSE_Siedlungs', 'D_v424', 'D_v599', 'HC_II_t', 'SSE_Waldflaec', 'HC_Pflegehe', 'IS_v1073', 'SSE_weighted_', 'SSE_AnteilFre', 'HC_Vorzeitig', 'HC_I_t', 'PO_Hausha', 'UE_AntreBesc', 'IS_mitarbeitsweg30', 'SSE_grand_sd_', 'D_Abhaen', 'UE_v261', 'SSE_v967', 'INC_Schuldn', 'PRE_v739', 'UE_Arbquote2', 'SSE_AnteilWas', 'PRE_v652', 'IS_auspen', 'UE_v323', 'SSE_Freiflaec', 'UE_v381', 'UE_v231', 'IS_v1070', 'SSE_AnteilErh', 'UE_v342', 'HC_aerztever', 'SSE_Einwohner', 'UE_v341', 'IS_mitarbeitsweg15', 'SSE_v817', 'IS_v1071', 'PRE_v733', 'UE_BesePrima'])\n",
    "print(\"New number of features: \", len(X.columns))"
   ]
  },
  {
   "cell_type": "markdown",
   "metadata": {},
   "source": [
    "# First CatBoost Model with 162 features"
   ]
  },
  {
   "cell_type": "code",
   "execution_count": 6,
   "metadata": {
    "scrolled": true
   },
   "outputs": [
    {
     "name": "stdout",
     "output_type": "stream",
     "text": [
      "R2 of second model with top20 feature:  0.999132657073912\n"
     ]
    }
   ],
   "source": [
    "# initialize Pool\n",
    "train_pool = Pool(X,Y)\n",
    " \n",
    "\n",
    "# specify the training parameters \n",
    "model = CatBoostRegressor(random_seed=0, logging_level = 'Silent')\n",
    "#train the model\n",
    "cb = model.fit(train_pool)\n",
    "print(\"R2 of second model with top20 feature: \",cb.score(X, Y))"
   ]
  },
  {
   "cell_type": "code",
   "execution_count": 7,
   "metadata": {},
   "outputs": [
    {
     "name": "stdout",
     "output_type": "stream",
     "text": [
      "RMSE of final model on all data:  1.886097996777551\n"
     ]
    }
   ],
   "source": [
    "preds = cb.predict(train_pool,\n",
    "                    prediction_type=\"RawFormulaVal\"\n",
    "                  )\n",
    "\n",
    "print(\"RMSE of final model on all data: \", eval_metric(Y, preds, 'RMSE')[0])"
   ]
  },
  {
   "cell_type": "markdown",
   "metadata": {},
   "source": [
    "# SHAP VAlues"
   ]
  },
  {
   "cell_type": "code",
   "execution_count": 8,
   "metadata": {},
   "outputs": [],
   "source": [
    "shap_values_cb = shap.TreeExplainer(cb).shap_values(X)"
   ]
  },
  {
   "cell_type": "code",
   "execution_count": 9,
   "metadata": {},
   "outputs": [
    {
     "name": "stderr",
     "output_type": "stream",
     "text": [
      "invalid value encountered in true_divide\n",
      "invalid value encountered in true_divide\n"
     ]
    },
    {
     "data": {
      "image/png": "[encoded data removed]",
      "text/plain": [
       "<Figure size 360x432 with 1 Axes>"
      ]
     },
     "metadata": {
      "needs_background": "light"
     },
     "output_type": "display_data"
    }
   ],
   "source": [
    "def ABS_SHAP(df_shap,df):\n",
    "    # Make a copy of the input data\n",
    "    shap_v = pd.DataFrame(df_shap)\n",
    "    feature_list = df.columns\n",
    "    shap_v.columns = feature_list\n",
    "    df_v = df.copy().reset_index().drop('index',axis=1)\n",
    "    \n",
    "    # Determine the correlation in order to plot with different colors\n",
    "    corr_list = list()\n",
    "    for i in feature_list:\n",
    "        b = np.corrcoef(shap_v[i],df_v[i])[1][0]\n",
    "        corr_list.append(b)\n",
    "    corr_df = pd.concat([pd.Series(feature_list),pd.Series(corr_list)],axis=1).fillna(0)\n",
    "    # Make a data frame. Column 1 is the feature, and Column 2 is the correlation coefficient\n",
    "    corr_df.columns  = ['Variable','Corr']\n",
    "    corr_df['Sign'] = np.where(corr_df['Corr']>0,'red','blue')\n",
    "    \n",
    "    # Plot it\n",
    "    shap_abs = np.abs(shap_v)\n",
    "    k=pd.DataFrame(shap_abs.mean()).reset_index()\n",
    "    k.columns = ['Variable','SHAP_abs']\n",
    "    k2 = k.merge(corr_df,left_on = 'Variable',right_on='Variable',how='inner')\n",
    "    k2 = k2.sort_values(by='SHAP_abs',ascending = True)[-20::]\n",
    "    colorlist = k2['Sign']\n",
    "    ax = k2.plot.barh(x='Variable',y='SHAP_abs',color = colorlist, figsize=(5,6),legend=False)\n",
    "    ax.set_xlabel(\"SHAP Value (Red = Positive Impact)\")\n",
    "    \n",
    "ABS_SHAP(shap_values_cb,X) "
   ]
  },
  {
   "cell_type": "markdown",
   "metadata": {},
   "source": [
    "# Second CatBoost model with 20 most important features"
   ]
  },
  {
   "cell_type": "code",
   "execution_count": 10,
   "metadata": {
    "scrolled": true
   },
   "outputs": [],
   "source": [
    "top20feature = X.columns[np.argsort(np.abs(shap_values_cb).mean(0))][-20:][::-1]\n",
    "top10feature = X.columns[np.argsort(np.abs(shap_values_cb).mean(0))][-10:][::-1]"
   ]
  },
  {
   "cell_type": "code",
   "execution_count": 11,
   "metadata": {},
   "outputs": [
    {
     "name": "stdout",
     "output_type": "stream",
     "text": [
      "R2 of final model on all data:  0.996079368674585\n"
     ]
    }
   ],
   "source": [
    "# initialize Pool\n",
    "train_pool_20 = Pool(X[top20feature],Y)\n",
    " \n",
    "\n",
    "# specify the training parameters \n",
    "model = CatBoostRegressor(random_seed=0, logging_level = 'Silent')\n",
    "#train the model\n",
    "cb_20 = model.fit(train_pool_20)\n",
    "print(\"R2 of final model on all data: \",cb_20.score(X[top20feature], Y))"
   ]
  },
  {
   "cell_type": "code",
   "execution_count": 12,
   "metadata": {},
   "outputs": [
    {
     "name": "stdout",
     "output_type": "stream",
     "text": [
      "RMSE of second model on top20 data:  4.010022747063475\n"
     ]
    }
   ],
   "source": [
    "preds_20 = cb_20.predict(train_pool_20,\n",
    "                    prediction_type=\"RawFormulaVal\"\n",
    "                  )\n",
    "\n",
    "print(\"RMSE of second model on top20 data: \", eval_metric(Y, preds_20, 'RMSE')[0])"
   ]
  },
  {
   "cell_type": "markdown",
   "metadata": {},
   "source": [
    "# Compare top 10 features of both Models"
   ]
  },
  {
   "cell_type": "code",
   "execution_count": 13,
   "metadata": {
    "scrolled": false
   },
   "outputs": [
    {
     "name": "stdout",
     "output_type": "stream",
     "text": [
      "10 most important features from model with all features: \n",
      " ['std_inz_0to75', 'PRE_Roemis', 'G_distance_Ischgl', 'G_longitude', 'G_latitude', 'UE_Langze', 'IS_v1065', 'PRE_Wahlbe', 'SSE_Erholungs', 'UE_v214'] \n",
      "\n",
      " 10 most important features from model with top20 features: \n",
      " ['std_inz_0to75', 'PRE_Roemis', 'G_latitude', 'G_longitude', 'G_distance_Ischgl', 'SSE_Erholungs', 'PRE_Wahlbe', 'INC_Haushal', 'SSE_v988', 'HC_Empfaenge']\n"
     ]
    }
   ],
   "source": [
    "shap_values_cb_20 = shap.TreeExplainer(cb_20).shap_values(X[top20feature])\n",
    "\n",
    "top10feature_from_top_20 = X[top20feature].columns[np.argsort(np.abs(shap_values_cb_20).mean(0))][-10:][::-1]\n",
    "\n",
    "print(\"10 most important features from model with all features:\", \"\\n\", list(top10feature), \"\\n\\n\",\n",
    "     \"10 most important features from model with top20 features:\", \"\\n\", list(top10feature_from_top_20)) "
   ]
  },
  {
   "cell_type": "code",
   "execution_count": 14,
   "metadata": {
    "scrolled": true
   },
   "outputs": [
    {
     "name": "stdout",
     "output_type": "stream",
     "text": [
      "std_inz_0to75\n",
      "PRE_Roemis\n",
      "G_distance_Ischgl\n",
      "G_longitude\n",
      "G_latitude\n",
      "PRE_Wahlbe\n",
      "SSE_Erholungs\n"
     ]
    }
   ],
   "source": [
    "# features which are on top10 of both models:\n",
    "for i in top10feature :\n",
    "    if i in list(top10feature_from_top_20) :\n",
    "         print(i)"
   ]
  },
  {
   "cell_type": "code",
   "execution_count": 15,
   "metadata": {},
   "outputs": [
    {
     "data": {
      "image/png": "[encoded data removed]",
      "text/plain": [
       "<Figure size 360x432 with 1 Axes>"
      ]
     },
     "metadata": {
      "needs_background": "light"
     },
     "output_type": "display_data"
    }
   ],
   "source": [
    "ABS_SHAP(shap_values_cb_20,X[top20feature]) "
   ]
  },
  {
   "cell_type": "markdown",
   "metadata": {},
   "source": [
    "# Hold out validation of the second model"
   ]
  },
  {
   "cell_type": "code",
   "execution_count": 16,
   "metadata": {
    "scrolled": true
   },
   "outputs": [
    {
     "name": "stdout",
     "output_type": "stream",
     "text": [
      "0.0 %   5.0 %   10.0 %   15.0 %   20.0 %   25.0 %   30.0 %   35.0 %   40.0 %   45.0 %   50.0 %   55.00000000000001 %   60.0 %   65.0 %   70.0 %   75.0 %   80.0 %   85.0 %   90.0 %   95.0 %   "
     ]
    }
   ],
   "source": [
    "import random\n",
    "iterations = range(0,20)\n",
    "\n",
    "r2_reg_k_test_top20 = list(range(0,20))\n",
    "rmse_reg_k_test_top20 = list(range(0,20))\n",
    "r2_cb_k_train_top20 = list(range(0,20))\n",
    "r2_cb_k_test_top20 = list(range(0,20))\n",
    "\n",
    "for i in iterations:\n",
    "    rs = random.sample(range(0,401), 80)\n",
    "    k_test_x = X[top20feature].iloc[rs]\n",
    "    k_test_y = Y.iloc[rs]\n",
    "    k_train_x = X[top20feature].drop(rs)\n",
    "    k_train_y = Y.drop(rs)\n",
    "    # initialize Pool \n",
    "    train_pool_k = Pool(data=k_train_x,\n",
    "                        label=k_train_y,\n",
    "                        feature_names = list(X[top20feature].columns))\n",
    "        \n",
    "    test_pool_k = Pool(data=k_test_x,\n",
    "                       label=k_test_y,\n",
    "                       feature_names = list(X[top20feature].columns))\n",
    "\n",
    "    \n",
    "    #fit the model\n",
    "    model = CatBoostRegressor(random_seed=0,\n",
    "                              logging_level=\"Silent\",\n",
    "                              #iterations = scores_k.sort_values(by= \"test-R2-mean\")[\"iterations\"].iloc[-1]\n",
    "                             )\n",
    "\n",
    "    cb_k = model.fit(train_pool_k)\n",
    "    \n",
    "    # make the prediction using the resulting model\n",
    "    preds_k = cb_k.predict(test_pool_k,\n",
    "                    prediction_type=\"RawFormulaVal\"\n",
    "                  )\n",
    "    \n",
    "    rmse_reg_k_test_top20[i] = eval_metric(np.array(k_test_y), preds_k, \"RMSE\")[0]\n",
    "    \n",
    "    preds_k = preds_k.reshape(-1, 1)\n",
    "    #LinearRegression\n",
    "    reg_k = LinearRegression().fit(preds_k, k_test_y)\n",
    "\n",
    "    \n",
    "    r2_cb_k_train_top20[i] = cb_k.score(train_pool_k)\n",
    "    r2_reg_k_test_top20[i] = reg_k.score(preds_k, k_test_y)\n",
    "\n",
    "    r2_cb_k_test_top20[i] =  cb_k.score(test_pool_k)\n",
    "    \n",
    "    print(i/len(iterations)*100,\"%\", \"  \" , end=\"\")"
   ]
  },
  {
   "cell_type": "code",
   "execution_count": 17,
   "metadata": {
    "scrolled": true
   },
   "outputs": [
    {
     "name": "stdout",
     "output_type": "stream",
     "text": [
      "Mean R2 of CatBoost_models on train sets with top20 features: 0.9976491777108698\n",
      "Mean R2 of linReg_modesl with top20 features:  0.5441379000477513\n",
      "Mean RMSE of CatBoost_models on test sets with top20 features:  41.58789618107951\n",
      "Mean R2 of CatBoost_models on test sets with top20 features: 0.5117642695637923\n"
     ]
    }
   ],
   "source": [
    "print(\"Mean R2 of CatBoost_models on train sets with top20 features:\",sum(r2_cb_k_train_top20)/len(r2_cb_k_train_top20))\n",
    "print(\"Mean R2 of linReg_modesl with top20 features: \", sum(r2_reg_k_test_top20)/len(r2_reg_k_test_top20))\n",
    "print(\"Mean RMSE of CatBoost_models on test sets with top20 features: \", sum(rmse_reg_k_test_top20)/len(rmse_reg_k_test_top20))\n",
    "print(\"Mean R2 of CatBoost_models on test sets with top20 features:\",sum(r2_cb_k_test_top20)/len(r2_cb_k_test_top20))"
   ]
  },
  {
   "cell_type": "markdown",
   "metadata": {},
   "source": [
    "# descriptives of top20 features"
   ]
  },
  {
   "cell_type": "code",
   "execution_count": 18,
   "metadata": {},
   "outputs": [
    {
     "data": {
      "text/html": [
       "<div>\n",
       "<style scoped>\n",
       "    .dataframe tbody tr th:only-of-type {\n",
       "        vertical-align: middle;\n",
       "    }\n",
       "\n",
       "    .dataframe tbody tr th {\n",
       "        vertical-align: top;\n",
       "    }\n",
       "\n",
       "    .dataframe thead th {\n",
       "        text-align: right;\n",
       "    }\n",
       "</style>\n",
       "<table border=\"1\" class=\"dataframe\">\n",
       "  <thead>\n",
       "    <tr style=\"text-align: right;\">\n",
       "      <th></th>\n",
       "      <th>std_inz_0to75</th>\n",
       "      <th>PRE_Roemis</th>\n",
       "      <th>G_distance_Ischgl</th>\n",
       "      <th>G_longitude</th>\n",
       "      <th>G_latitude</th>\n",
       "      <th>UE_Langze</th>\n",
       "      <th>IS_v1065</th>\n",
       "      <th>PRE_Wahlbe</th>\n",
       "      <th>SSE_Erholungs</th>\n",
       "      <th>UE_v214</th>\n",
       "      <th>INC_Haushal</th>\n",
       "      <th>HC_Empfaenge</th>\n",
       "      <th>HC_Stationae</th>\n",
       "      <th>PO_SGBII_</th>\n",
       "      <th>HC_Pflegebed</th>\n",
       "      <th>UE_QuoeBesch</th>\n",
       "      <th>UE_v219</th>\n",
       "      <th>UE_BeseimHan</th>\n",
       "      <th>UE_v166</th>\n",
       "      <th>SSE_v988</th>\n",
       "    </tr>\n",
       "  </thead>\n",
       "  <tbody>\n",
       "    <tr>\n",
       "      <th>count</th>\n",
       "      <td>401.000000</td>\n",
       "      <td>401.000000</td>\n",
       "      <td>401.000000</td>\n",
       "      <td>401.000000</td>\n",
       "      <td>401.000000</td>\n",
       "      <td>401.000000</td>\n",
       "      <td>401.000000</td>\n",
       "      <td>401.000000</td>\n",
       "      <td>401.000000</td>\n",
       "      <td>401.000000</td>\n",
       "      <td>401.000000</td>\n",
       "      <td>401.000000</td>\n",
       "      <td>401.000000</td>\n",
       "      <td>401.000000</td>\n",
       "      <td>401.000000</td>\n",
       "      <td>401.000000</td>\n",
       "      <td>401.000000</td>\n",
       "      <td>401.000000</td>\n",
       "      <td>401.000000</td>\n",
       "      <td>401.000000</td>\n",
       "    </tr>\n",
       "    <tr>\n",
       "      <th>mean</th>\n",
       "      <td>7.706820</td>\n",
       "      <td>32.242809</td>\n",
       "      <td>431.346405</td>\n",
       "      <td>9.866996</td>\n",
       "      <td>50.615292</td>\n",
       "      <td>32.202751</td>\n",
       "      <td>21.925186</td>\n",
       "      <td>75.075867</td>\n",
       "      <td>70.509460</td>\n",
       "      <td>1.270823</td>\n",
       "      <td>1591.685791</td>\n",
       "      <td>50.857368</td>\n",
       "      <td>24.358610</td>\n",
       "      <td>8.995763</td>\n",
       "      <td>428.125397</td>\n",
       "      <td>49.557602</td>\n",
       "      <td>12.901742</td>\n",
       "      <td>13.988770</td>\n",
       "      <td>38.296268</td>\n",
       "      <td>33367.324219</td>\n",
       "    </tr>\n",
       "    <tr>\n",
       "      <th>std</th>\n",
       "      <td>14.427098</td>\n",
       "      <td>24.361435</td>\n",
       "      <td>187.236847</td>\n",
       "      <td>2.026269</td>\n",
       "      <td>1.740311</td>\n",
       "      <td>8.077894</td>\n",
       "      <td>15.378859</td>\n",
       "      <td>3.794014</td>\n",
       "      <td>56.734707</td>\n",
       "      <td>7.726786</td>\n",
       "      <td>589.468872</td>\n",
       "      <td>6.518343</td>\n",
       "      <td>5.373881</td>\n",
       "      <td>4.146994</td>\n",
       "      <td>106.029327</td>\n",
       "      <td>5.944390</td>\n",
       "      <td>2.768405</td>\n",
       "      <td>4.891640</td>\n",
       "      <td>7.717488</td>\n",
       "      <td>30681.785156</td>\n",
       "    </tr>\n",
       "    <tr>\n",
       "      <th>min</th>\n",
       "      <td>0.000000</td>\n",
       "      <td>1.700000</td>\n",
       "      <td>56.052784</td>\n",
       "      <td>6.083333</td>\n",
       "      <td>47.500000</td>\n",
       "      <td>10.500000</td>\n",
       "      <td>0.000000</td>\n",
       "      <td>63.099998</td>\n",
       "      <td>14.000000</td>\n",
       "      <td>-33.599998</td>\n",
       "      <td>2.000000</td>\n",
       "      <td>28.600000</td>\n",
       "      <td>11.100000</td>\n",
       "      <td>2.200000</td>\n",
       "      <td>186.399994</td>\n",
       "      <td>29.600000</td>\n",
       "      <td>6.100000</td>\n",
       "      <td>0.000000</td>\n",
       "      <td>15.700000</td>\n",
       "      <td>1062.000000</td>\n",
       "    </tr>\n",
       "    <tr>\n",
       "      <th>25%</th>\n",
       "      <td>2.452555</td>\n",
       "      <td>7.900000</td>\n",
       "      <td>291.752441</td>\n",
       "      <td>8.216666</td>\n",
       "      <td>49.283333</td>\n",
       "      <td>25.600000</td>\n",
       "      <td>13.000000</td>\n",
       "      <td>72.699997</td>\n",
       "      <td>39.700001</td>\n",
       "      <td>-2.500000</td>\n",
       "      <td>1591.000000</td>\n",
       "      <td>46.400002</td>\n",
       "      <td>20.400000</td>\n",
       "      <td>5.800000</td>\n",
       "      <td>351.000000</td>\n",
       "      <td>45.700001</td>\n",
       "      <td>11.100000</td>\n",
       "      <td>10.600000</td>\n",
       "      <td>33.299999</td>\n",
       "      <td>15678.000000</td>\n",
       "    </tr>\n",
       "    <tr>\n",
       "      <th>50%</th>\n",
       "      <td>5.019764</td>\n",
       "      <td>29.100000</td>\n",
       "      <td>420.680756</td>\n",
       "      <td>9.766666</td>\n",
       "      <td>50.549999</td>\n",
       "      <td>32.700001</td>\n",
       "      <td>21.000000</td>\n",
       "      <td>75.300003</td>\n",
       "      <td>52.799999</td>\n",
       "      <td>1.400000</td>\n",
       "      <td>1764.000000</td>\n",
       "      <td>51.099998</td>\n",
       "      <td>23.700001</td>\n",
       "      <td>8.500000</td>\n",
       "      <td>424.200012</td>\n",
       "      <td>49.900002</td>\n",
       "      <td>12.900000</td>\n",
       "      <td>13.900000</td>\n",
       "      <td>38.599998</td>\n",
       "      <td>24587.000000</td>\n",
       "    </tr>\n",
       "    <tr>\n",
       "      <th>75%</th>\n",
       "      <td>9.171128</td>\n",
       "      <td>52.299999</td>\n",
       "      <td>569.178772</td>\n",
       "      <td>11.416667</td>\n",
       "      <td>51.849998</td>\n",
       "      <td>38.500000</td>\n",
       "      <td>32.000000</td>\n",
       "      <td>77.599998</td>\n",
       "      <td>76.699997</td>\n",
       "      <td>5.400000</td>\n",
       "      <td>1904.000000</td>\n",
       "      <td>55.599998</td>\n",
       "      <td>27.500000</td>\n",
       "      <td>11.100000</td>\n",
       "      <td>497.200012</td>\n",
       "      <td>53.599998</td>\n",
       "      <td>14.800000</td>\n",
       "      <td>16.900000</td>\n",
       "      <td>43.299999</td>\n",
       "      <td>39522.000000</td>\n",
       "    </tr>\n",
       "    <tr>\n",
       "      <th>max</th>\n",
       "      <td>259.999207</td>\n",
       "      <td>87.800003</td>\n",
       "      <td>866.911194</td>\n",
       "      <td>14.983334</td>\n",
       "      <td>54.783333</td>\n",
       "      <td>53.400002</td>\n",
       "      <td>79.000000</td>\n",
       "      <td>84.099998</td>\n",
       "      <td>384.600006</td>\n",
       "      <td>41.900002</td>\n",
       "      <td>2904.000000</td>\n",
       "      <td>66.699997</td>\n",
       "      <td>43.299999</td>\n",
       "      <td>23.799999</td>\n",
       "      <td>816.200012</td>\n",
       "      <td>66.400002</td>\n",
       "      <td>21.900000</td>\n",
       "      <td>47.700001</td>\n",
       "      <td>68.300003</td>\n",
       "      <td>174293.000000</td>\n",
       "    </tr>\n",
       "  </tbody>\n",
       "</table>\n",
       "</div>"
      ],
      "text/plain": [
       "       std_inz_0to75  PRE_Roemis  G_distance_Ischgl  G_longitude  G_latitude  \\\n",
       "count     401.000000  401.000000         401.000000   401.000000  401.000000   \n",
       "mean        7.706820   32.242809         431.346405     9.866996   50.615292   \n",
       "std        14.427098   24.361435         187.236847     2.026269    1.740311   \n",
       "min         0.000000    1.700000          56.052784     6.083333   47.500000   \n",
       "25%         2.452555    7.900000         291.752441     8.216666   49.283333   \n",
       "50%         5.019764   29.100000         420.680756     9.766666   50.549999   \n",
       "75%         9.171128   52.299999         569.178772    11.416667   51.849998   \n",
       "max       259.999207   87.800003         866.911194    14.983334   54.783333   \n",
       "\n",
       "        UE_Langze    IS_v1065  PRE_Wahlbe  SSE_Erholungs     UE_v214  \\\n",
       "count  401.000000  401.000000  401.000000     401.000000  401.000000   \n",
       "mean    32.202751   21.925186   75.075867      70.509460    1.270823   \n",
       "std      8.077894   15.378859    3.794014      56.734707    7.726786   \n",
       "min     10.500000    0.000000   63.099998      14.000000  -33.599998   \n",
       "25%     25.600000   13.000000   72.699997      39.700001   -2.500000   \n",
       "50%     32.700001   21.000000   75.300003      52.799999    1.400000   \n",
       "75%     38.500000   32.000000   77.599998      76.699997    5.400000   \n",
       "max     53.400002   79.000000   84.099998     384.600006   41.900002   \n",
       "\n",
       "       INC_Haushal  HC_Empfaenge  HC_Stationae   PO_SGBII_  HC_Pflegebed  \\\n",
       "count   401.000000    401.000000    401.000000  401.000000    401.000000   \n",
       "mean   1591.685791     50.857368     24.358610    8.995763    428.125397   \n",
       "std     589.468872      6.518343      5.373881    4.146994    106.029327   \n",
       "min       2.000000     28.600000     11.100000    2.200000    186.399994   \n",
       "25%    1591.000000     46.400002     20.400000    5.800000    351.000000   \n",
       "50%    1764.000000     51.099998     23.700001    8.500000    424.200012   \n",
       "75%    1904.000000     55.599998     27.500000   11.100000    497.200012   \n",
       "max    2904.000000     66.699997     43.299999   23.799999    816.200012   \n",
       "\n",
       "       UE_QuoeBesch     UE_v219  UE_BeseimHan     UE_v166       SSE_v988  \n",
       "count    401.000000  401.000000    401.000000  401.000000     401.000000  \n",
       "mean      49.557602   12.901742     13.988770   38.296268   33367.324219  \n",
       "std        5.944390    2.768405      4.891640    7.717488   30681.785156  \n",
       "min       29.600000    6.100000      0.000000   15.700000    1062.000000  \n",
       "25%       45.700001   11.100000     10.600000   33.299999   15678.000000  \n",
       "50%       49.900002   12.900000     13.900000   38.599998   24587.000000  \n",
       "75%       53.599998   14.800000     16.900000   43.299999   39522.000000  \n",
       "max       66.400002   21.900000     47.700001   68.300003  174293.000000  "
      ]
     },
     "execution_count": 18,
     "metadata": {},
     "output_type": "execute_result"
    }
   ],
   "source": [
    "X[top20feature].describe()"
   ]
  },
  {
   "cell_type": "code",
   "execution_count": 19,
   "metadata": {},
   "outputs": [
    {
     "data": {
      "text/html": [
       "<div>\n",
       "<style scoped>\n",
       "    .dataframe tbody tr th:only-of-type {\n",
       "        vertical-align: middle;\n",
       "    }\n",
       "\n",
       "    .dataframe tbody tr th {\n",
       "        vertical-align: top;\n",
       "    }\n",
       "\n",
       "    .dataframe thead th {\n",
       "        text-align: right;\n",
       "    }\n",
       "</style>\n",
       "<table border=\"1\" class=\"dataframe\">\n",
       "  <thead>\n",
       "    <tr style=\"text-align: right;\">\n",
       "      <th></th>\n",
       "      <th>std_inz_75to91</th>\n",
       "    </tr>\n",
       "  </thead>\n",
       "  <tbody>\n",
       "    <tr>\n",
       "      <th>count</th>\n",
       "      <td>401.000000</td>\n",
       "    </tr>\n",
       "    <tr>\n",
       "      <th>mean</th>\n",
       "      <td>79.461769</td>\n",
       "    </tr>\n",
       "    <tr>\n",
       "      <th>std</th>\n",
       "      <td>64.122574</td>\n",
       "    </tr>\n",
       "    <tr>\n",
       "      <th>min</th>\n",
       "      <td>2.714423</td>\n",
       "    </tr>\n",
       "    <tr>\n",
       "      <th>25%</th>\n",
       "      <td>40.307571</td>\n",
       "    </tr>\n",
       "    <tr>\n",
       "      <th>50%</th>\n",
       "      <td>63.813667</td>\n",
       "    </tr>\n",
       "    <tr>\n",
       "      <th>75%</th>\n",
       "      <td>99.633545</td>\n",
       "    </tr>\n",
       "    <tr>\n",
       "      <th>max</th>\n",
       "      <td>671.134949</td>\n",
       "    </tr>\n",
       "  </tbody>\n",
       "</table>\n",
       "</div>"
      ],
      "text/plain": [
       "       std_inz_75to91\n",
       "count      401.000000\n",
       "mean        79.461769\n",
       "std         64.122574\n",
       "min          2.714423\n",
       "25%         40.307571\n",
       "50%         63.813667\n",
       "75%         99.633545\n",
       "max        671.134949"
      ]
     },
     "execution_count": 19,
     "metadata": {},
     "output_type": "execute_result"
    }
   ],
   "source": [
    "pd.DataFrame(Y).describe()"
   ]
  },
  {
   "cell_type": "code",
   "execution_count": 20,
   "metadata": {},
   "outputs": [],
   "source": [
    "frames = [ Y.describe(), X[top20feature].describe()]\n",
    "des = pd.concat(frames, axis=1)\n",
    "with pd.ExcelWriter(r\"C:\\Users\\Constantin\\Desktop\\descriptives2.xlsx\") as writer:  \n",
    "    des.to_excel(writer, sheet_name='period 2')"
   ]
  },
  {
   "cell_type": "code",
   "execution_count": null,
   "metadata": {},
   "outputs": [],
   "source": []
  },
  {
   "cell_type": "code",
   "execution_count": null,
   "metadata": {},
   "outputs": [],
   "source": []
  }
 ],
 "metadata": {
  "kernelspec": {
   "display_name": "Python 3",
   "language": "python",
   "name": "python3"
  },
  "language_info": {
   "codemirror_mode": {
    "name": "ipython",
    "version": 3
   },
   "file_extension": ".py",
   "mimetype": "text/x-python",
   "name": "python",
   "nbconvert_exporter": "python",
   "pygments_lexer": "ipython3",
   "version": "3.8.3"
  }
 },
 "nbformat": 4,
 "nbformat_minor": 4
}
